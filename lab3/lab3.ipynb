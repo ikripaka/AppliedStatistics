{
 "cells": [
  {
   "cell_type": "code",
   "execution_count": 33,
   "metadata": {
    "ExecuteTime": {
     "start_time": "2023-04-07T11:50:29.796688Z",
     "end_time": "2023-04-07T11:50:30.004031Z"
    }
   },
   "outputs": [],
   "source": [
    "\n",
    "import numpy as np\n",
    "import pandas as pd"
   ]
  },
  {
   "cell_type": "markdown",
   "metadata": {},
   "source": [
    "### $\\int_{-\\inf}^{z} e^{\\frac{-u^2}{2}}du = \\frac{1-0.05}{2}*\\sqrt{2*π}$\n",
    "(обчислення $z_\\gamma$ із лекції 7, 2 ст)"
   ]
  },
  {
   "cell_type": "code",
   "execution_count": 34,
   "metadata": {
    "ExecuteTime": {
     "start_time": "2023-04-07T11:50:29.832044Z",
     "end_time": "2023-04-07T11:50:30.028708Z"
    }
   },
   "outputs": [],
   "source": [
    "z_gamma_empty = 0.062706777"
   ]
  },
  {
   "cell_type": "markdown",
   "metadata": {},
   "source": [
    "### Завдання 1\n",
    "\n",
    "Перевірка однорідності (критерій пустих блоків)\n",
    "\n",
    "Маємо дві незалежні вибірки: $\\overline{X} = (X_1, \\cdots, X_n), \\overline{Y} = (Y_1, \\cdots, Y_n)$\n",
    "1. Розбиваємо вісь $R$ на напівінтервали $(X_{(i-1)}, X_{(i)}], i=1, \\cdot, n+1$\n",
    "2. Обчислюємо кількість пустих блоків: $k = # \\text{пустих блоків}$\n",
    "3. $Crit = \\dfrac{n}{1+\\rho} + \\sqrt{n} \\dfrac{\\rho}{(1+\\rho)^{3/2}} z_{\\gamma}$\n",
    "4. Як $k < Crit$ обираємо $H_0$, інакше $H_1$\n"
   ]
  },
  {
   "cell_type": "code",
   "execution_count": 35,
   "metadata": {
    "ExecuteTime": {
     "start_time": "2023-04-07T11:50:29.931722Z",
     "end_time": "2023-04-07T11:50:30.090810Z"
    }
   },
   "outputs": [
    {
     "name": "stdout",
     "output_type": "stream",
     "text": [
      "0.002272646735170472 <= 2.580002221966431 <= 2.8390677481374764\n",
      "0.002272646735170472 <= 0.40604852847203 <= 2.8390677481374764\n",
      "0.002272646735170472 <= 0.885213578075855 <= 2.8390677481374764\n",
      "0.002272646735170472 <= 1.4190406227916408 <= 2.8390677481374764\n",
      "0.002272646735170472 <= 1.1085897714068782 <= 2.8390677481374764\n",
      "0.002272646735170472 <= 0.18376585952936486 <= 2.8390677481374764\n",
      "0.002272646735170472 <= 0.8750717622506561 <= 2.8390677481374764\n",
      "0.002272646735170472 <= 0.4676982733255308 <= 2.8390677481374764\n",
      "0.002272646735170472 <= 0.07222393476960016 <= 2.8390677481374764\n",
      "0.002272646735170472 <= 1.075051757672166 <= 2.8390677481374764\n",
      "0.002272646735170472 <= 1.6317236223376053 <= 2.8390677481374764\n",
      "0.002272646735170472 <= 0.19501617569295157 <= 2.8390677481374764\n",
      "0.002272646735170472 <= 0.7464022816217466 <= 2.8390677481374764\n",
      "0.002272646735170472 <= 1.1124150955629766 <= 2.8390677481374764\n",
      "0.002272646735170472 <= 1.0929952423101819 <= 2.8390677481374764\n",
      "0.002272646735170472 <= 0.7349363208351116 <= 2.8390677481374764\n",
      "0.002272646735170472 <= 0.5705242967208543 <= 2.8390677481374764\n",
      "0.002272646735170472 <= 0.08449021823527735 <= 2.8390677481374764\n",
      "0.002272646735170472 <= 1.1582136022457465 <= 2.8390677481374764\n",
      "2 :: 19.0\n",
      "+++++++++++++++++++++++++\n",
      "1.4846279057898693 <= 1.6317236223376053 <= 1.9696840405719929\n",
      "5 :: 1.0\n",
      "+++++++++++++++++++++++++\n",
      "0.4766222588351497 <= 0.885213578075855 <= 2.552810300078011\n",
      "0.4766222588351497 <= 1.4190406227916408 <= 2.552810300078011\n",
      "0.4766222588351497 <= 1.1085897714068782 <= 2.552810300078011\n",
      "0.4766222588351497 <= 0.8750717622506561 <= 2.552810300078011\n",
      "0.4766222588351497 <= 1.075051757672166 <= 2.552810300078011\n",
      "0.4766222588351497 <= 1.6317236223376053 <= 2.552810300078011\n",
      "0.4766222588351497 <= 0.7464022816217466 <= 2.552810300078011\n",
      "0.4766222588351497 <= 1.1124150955629766 <= 2.552810300078011\n",
      "0.4766222588351497 <= 1.0929952423101819 <= 2.552810300078011\n",
      "0.4766222588351497 <= 0.7349363208351116 <= 2.552810300078011\n",
      "0.4766222588351497 <= 0.5705242967208543 <= 2.552810300078011\n",
      "0.4766222588351497 <= 1.1582136022457465 <= 2.552810300078011\n",
      "7 :: 12.0\n",
      "+++++++++++++++++++++++++\n",
      "\n",
      "\n",
      "[ 0.  0. 19.  0.  0.  1.  0. 12.  0.]\n",
      "++++++++++++++++++++\n",
      "6\n"
     ]
    }
   ],
   "source": [
    "# example 1\n",
    "X = np.random.exponential(1, 10)\n",
    "Y = np.random.exponential(1, 20)\n",
    "intervals = []\n",
    "for i in range(1, len(X + 1)):\n",
    "    intervals.append([X[i - 1], X[i]])\n",
    "\n",
    "res = np.zeros(len(intervals))\n",
    "for i, x in enumerate(intervals):\n",
    "    for item in Y:\n",
    "        if intervals[i][0] <= item <= intervals[i][1]:\n",
    "            print(f\"{intervals[i][0]} <= {item} <= {intervals[i][1]}\")\n",
    "            res[i] += 1\n",
    "    if res[i] != 0:\n",
    "        print(f\"{i} :: {res[i]}\")\n",
    "        print(\"+++++++++++++++++++++++++\")\n",
    "\n",
    "print()\n",
    "print()\n",
    "print(res)\n",
    "print(\"+\" * 20)\n",
    "print(np.count_nonzero(res == 0))\n"
   ]
  },
  {
   "cell_type": "code",
   "execution_count": 36,
   "metadata": {
    "ExecuteTime": {
     "start_time": "2023-04-07T11:50:30.079808Z",
     "end_time": "2023-04-07T11:50:41.812223Z"
    }
   },
   "outputs": [],
   "source": [
    "NM = [[500, 1000], [5000, 10000]]  #, [50000, 100000]]\n",
    "\n",
    "xi_empty = []\n",
    "crit_empty = []\n",
    "RES_empty = []\n",
    "for nm in NM:\n",
    "\n",
    "    n = nm[0]\n",
    "    m = nm[1]\n",
    "    ro = m / n\n",
    "\n",
    "    X = np.random.exponential(1, n)\n",
    "    Y = np.random.exponential(1, m)\n",
    "\n",
    "    # робимо інтервали [1 коорд, 2 коорд]\n",
    "    intervals = []\n",
    "    for i in range(1, len(X + 1)):\n",
    "        intervals.append([X[i - 1], X[i]])\n",
    "\n",
    "    # рахуємо кількість попадань у відрізок\n",
    "    res = np.zeros(len(intervals))\n",
    "    for i, x in enumerate(intervals):\n",
    "        for item in Y:\n",
    "            if intervals[i][0] <= item <= intervals[i][1]: res[i] += 1\n",
    "\n",
    "    xi_empty_temp = np.count_nonzero(res == 0)\n",
    "    xi_empty.append(xi_empty_temp)\n",
    "\n",
    "    crit = n / (1 + ro) + np.math.sqrt(n) * ro * z_gamma_empty / (1 + ro) ** (3 / 2)\n",
    "    crit_empty.append(crit)\n",
    "    if xi_empty_temp < crit:\n",
    "        RES_empty.append(\"H0\")\n",
    "    else:\n",
    "        RES_empty.append(\"False\")\n",
    "\n",
    "data_empty = {\"xi_empty (n, m)\": xi_empty, f\"crit\": crit_empty, \"Result\": RES_empty}\n",
    "df_empty = pd.DataFrame.from_dict(data_empty, orient='index', columns=[f\"n::{item[0]}; m::{item[1]}\" for item in NM])\n"
   ]
  },
  {
   "cell_type": "code",
   "execution_count": 37,
   "metadata": {
    "ExecuteTime": {
     "start_time": "2023-04-07T11:50:41.812172Z",
     "end_time": "2023-04-07T11:50:41.813464Z"
    }
   },
   "outputs": [
    {
     "data": {
      "text/plain": "                n::500; m::1000 n::5000; m::10000\nxi_empty (n, m)             251              2472\ncrit                 167.206361       1668.373329\nResult                    False             False",
      "text/html": "<div>\n<style scoped>\n    .dataframe tbody tr th:only-of-type {\n        vertical-align: middle;\n    }\n\n    .dataframe tbody tr th {\n        vertical-align: top;\n    }\n\n    .dataframe thead th {\n        text-align: right;\n    }\n</style>\n<table border=\"1\" class=\"dataframe\">\n  <thead>\n    <tr style=\"text-align: right;\">\n      <th></th>\n      <th>n::500; m::1000</th>\n      <th>n::5000; m::10000</th>\n    </tr>\n  </thead>\n  <tbody>\n    <tr>\n      <th>xi_empty (n, m)</th>\n      <td>251</td>\n      <td>2472</td>\n    </tr>\n    <tr>\n      <th>crit</th>\n      <td>167.206361</td>\n      <td>1668.373329</td>\n    </tr>\n    <tr>\n      <th>Result</th>\n      <td>False</td>\n      <td>False</td>\n    </tr>\n  </tbody>\n</table>\n</div>"
     },
     "execution_count": 37,
     "metadata": {},
     "output_type": "execute_result"
    }
   ],
   "source": [
    "df_empty"
   ]
  },
  {
   "cell_type": "markdown",
   "metadata": {},
   "source": [
    "## Завдання 2"
   ]
  },
  {
   "cell_type": "markdown",
   "metadata": {},
   "source": [
    "### Ранжування"
   ]
  },
  {
   "cell_type": "code",
   "execution_count": 38,
   "metadata": {
    "ExecuteTime": {
     "start_time": "2023-04-07T11:50:41.813206Z",
     "end_time": "2023-04-07T11:50:41.990792Z"
    }
   },
   "outputs": [],
   "source": [
    "rank = lambda data: pd.Series(data).rank(method=\"min\").to_list()\n",
    "gamma = 0.05\n",
    "z_gamma = 0.0627"
   ]
  },
  {
   "cell_type": "markdown",
   "metadata": {},
   "source": [
    "### Критерій перевірки гіпотези незалежності $H_0$ / Критерій Спірмана\n",
    "\n",
    "1) Маємо вибірку $(\\overline{X}, \\overline{Y}) = { (X_1, Y_1), \\cdots (X_n, Y_n) }$\n",
    "2) Обчислюємо $R_i$ -- ранг $X_i$ серед елементів $X_1, \\cdots, X_n$\n",
    "3) Обчислюємо $S_i$ -- ранг $Y_i$ серед елементів $Y_1, \\cdots, Y_n$\n",
    "4) Маємо пари $(\\overline{R}, \\overline{S}) = { (R_1, S_1), \\cdots (R_n, S_n) }$\n",
    "5) Сортуємо за $R_i \\Rightarrow (1, V_1), \\cdots (n, V_n)$\n",
    "6) Рахуємо статистику $\\rho_n(\\bar X, \\bar Y) =  1 - \\frac{6}{n (n^{2} - 1)} \\cdot \\sum\\limits_{i \\in [1,n]} (R_{i} - S_{i})^{2}$ (коеф кореляції двох множин рангів)\n",
    "7) Порівнюємо $\\rho_n \\bigvee \\dfrac{z_\\gamma}{\\sqrt{n}}$, як $<$ приймаємо $H_0$, інакше $H_1$"
   ]
  },
  {
   "cell_type": "code",
   "execution_count": 39,
   "metadata": {
    "ExecuteTime": {
     "start_time": "2023-04-07T11:50:41.962831Z",
     "end_time": "2023-04-07T11:50:42.069843Z"
    }
   },
   "outputs": [],
   "source": [
    "def SpearMan(V):\n",
    "    # тут V = [(R, S), ()...]\n",
    "    n = len(V)\n",
    "    return 1 - 6 * np.sum(pow(V[:, 0] - V[:, 1], 2)) / (n * (pow(n, 2) - 1))\n",
    "    ..."
   ]
  },
  {
   "attachments": {},
   "cell_type": "markdown",
   "metadata": {},
   "source": [
    "### пункт а) $Y_{i} = \\xi_{i} \\cdot \\eta_{i}$"
   ]
  },
  {
   "cell_type": "code",
   "execution_count": 40,
   "metadata": {
    "ExecuteTime": {
     "start_time": "2023-04-07T11:50:42.080888Z",
     "end_time": "2023-04-07T11:50:42.252784Z"
    }
   },
   "outputs": [
    {
     "name": "stdout",
     "output_type": "stream",
     "text": [
      "cov: [[20875.          -682.07014028]\n",
      " [ -682.07014028 20875.        ]]\n",
      "cov: [[2083750.           16004.87117423]\n",
      " [  16004.87117423 2083750.        ]]\n",
      "cov: [[2.08337500e+08 1.81862159e+06]\n",
      " [1.81862159e+06 2.08337500e+08]]\n"
     ]
    },
    {
     "data": {
      "text/plain": "                       500       5000      50000\nSpearman statistic  0.032674  0.007681  0.008729\nz_gamma             0.002804  0.000887   0.00028\nResult                 False     False     False",
      "text/html": "<div>\n<style scoped>\n    .dataframe tbody tr th:only-of-type {\n        vertical-align: middle;\n    }\n\n    .dataframe tbody tr th {\n        vertical-align: top;\n    }\n\n    .dataframe thead th {\n        text-align: right;\n    }\n</style>\n<table border=\"1\" class=\"dataframe\">\n  <thead>\n    <tr style=\"text-align: right;\">\n      <th></th>\n      <th>500</th>\n      <th>5000</th>\n      <th>50000</th>\n    </tr>\n  </thead>\n  <tbody>\n    <tr>\n      <th>Spearman statistic</th>\n      <td>0.032674</td>\n      <td>0.007681</td>\n      <td>0.008729</td>\n    </tr>\n    <tr>\n      <th>z_gamma</th>\n      <td>0.002804</td>\n      <td>0.000887</td>\n      <td>0.00028</td>\n    </tr>\n    <tr>\n      <th>Result</th>\n      <td>False</td>\n      <td>False</td>\n      <td>False</td>\n    </tr>\n  </tbody>\n</table>\n</div>"
     },
     "execution_count": 40,
     "metadata": {},
     "output_type": "execute_result"
    }
   ],
   "source": [
    "N_arr = [500, 5000, 50000]\n",
    "\n",
    "z_gamma_spearman = [z_gamma / np.math.sqrt(n) for n in N_arr]\n",
    "\n",
    "RHO = []\n",
    "Hyp_Spearman = []\n",
    "for i, n in enumerate(N_arr):\n",
    "    data_xi = np.random.uniform(0, 1, n)\n",
    "    data_eta = np.random.uniform(-1, 1, n)\n",
    "    X = rank(data_xi)\n",
    "    Y = rank(data_xi * data_eta)\n",
    "\n",
    "    print(f\"cov: {np.cov(X, Y)}\")\n",
    "\n",
    "    res = np.array([X, Y])\n",
    "    # паруємо\n",
    "    res = np.transpose(res)\n",
    "    # сортуємо по Х\n",
    "    # res = np.argsort(res, 0)\n",
    "\n",
    "    # обчислюємо статистику\n",
    "    test = abs(SpearMan(res))\n",
    "    RHO.append(test)\n",
    "    if test < z_gamma_spearman[i]:\n",
    "        Hyp_Spearman.append(\"H0\")\n",
    "    else:\n",
    "        Hyp_Spearman.append(\"False\")\n",
    "\n",
    "data_Spearman = {\"Spearman statistic\": RHO, f\"z_gamma\": z_gamma_spearman, \"Result\": Hyp_Spearman}\n",
    "df_Spearman = pd.DataFrame.from_dict(data_Spearman, orient='index', columns=N_arr)\n",
    "\n",
    "df_Spearman"
   ]
  },
  {
   "attachments": {},
   "cell_type": "markdown",
   "metadata": {},
   "source": [
    "### пункт б) $Y_{i} = \\xi_{i} + \\eta_{i}$"
   ]
  },
  {
   "cell_type": "code",
   "execution_count": 41,
   "metadata": {
    "ExecuteTime": {
     "start_time": "2023-04-07T11:50:42.255461Z",
     "end_time": "2023-04-07T11:50:42.404201Z"
    }
   },
   "outputs": [
    {
     "name": "stdout",
     "output_type": "stream",
     "text": [
      "cov: [[20875.          9326.84368737]\n",
      " [ 9326.84368737 20875.        ]]\n",
      "cov: [[2083750.          930987.56491298]\n",
      " [ 930987.56491298 2083750.        ]]\n",
      "cov: [[2.08337500e+08 8.84319155e+07]\n",
      " [8.84319155e+07 2.08337500e+08]]\n"
     ]
    },
    {
     "data": {
      "text/plain": "                       500       5000      50000\nSpearman statistic  0.446795  0.446785  0.424465\nz_gamma             0.002804  0.000887   0.00028\nResult                 False     False     False",
      "text/html": "<div>\n<style scoped>\n    .dataframe tbody tr th:only-of-type {\n        vertical-align: middle;\n    }\n\n    .dataframe tbody tr th {\n        vertical-align: top;\n    }\n\n    .dataframe thead th {\n        text-align: right;\n    }\n</style>\n<table border=\"1\" class=\"dataframe\">\n  <thead>\n    <tr style=\"text-align: right;\">\n      <th></th>\n      <th>500</th>\n      <th>5000</th>\n      <th>50000</th>\n    </tr>\n  </thead>\n  <tbody>\n    <tr>\n      <th>Spearman statistic</th>\n      <td>0.446795</td>\n      <td>0.446785</td>\n      <td>0.424465</td>\n    </tr>\n    <tr>\n      <th>z_gamma</th>\n      <td>0.002804</td>\n      <td>0.000887</td>\n      <td>0.00028</td>\n    </tr>\n    <tr>\n      <th>Result</th>\n      <td>False</td>\n      <td>False</td>\n      <td>False</td>\n    </tr>\n  </tbody>\n</table>\n</div>"
     },
     "execution_count": 41,
     "metadata": {},
     "output_type": "execute_result"
    }
   ],
   "source": [
    "N_arr = [500, 5000, 50000]\n",
    "\n",
    "z_gamma_spearman = [z_gamma / np.math.sqrt(n) for n in N_arr]\n",
    "\n",
    "RHO = []\n",
    "Hyp_Spearman = []\n",
    "for i, n in enumerate(N_arr):\n",
    "    data_xi = np.random.uniform(0, 1, n)\n",
    "    data_eta = np.random.uniform(-1, 1, n)\n",
    "    X = rank(data_xi)\n",
    "    Y = rank(data_xi + data_eta)\n",
    "\n",
    "    print(f\"cov: {np.cov(X, Y)}\")\n",
    "\n",
    "    res = np.array([X, Y])\n",
    "    # паруємо\n",
    "    res = np.transpose(res)\n",
    "    # сортуємо по Х\n",
    "    # res = np.argsort(res, 0)\n",
    "\n",
    "    # обчислюємо статистику\n",
    "    test = abs(SpearMan(res))\n",
    "    RHO.append(test)\n",
    "    if test < z_gamma_spearman[i]:\n",
    "        Hyp_Spearman.append(\"H0\")\n",
    "    else:\n",
    "        Hyp_Spearman.append(\"False\")\n",
    "\n",
    "data_Spearman = {\"Spearman statistic\": RHO, f\"z_gamma\": z_gamma_spearman, \"Result\": Hyp_Spearman}\n",
    "df_Spearman = pd.DataFrame.from_dict(data_Spearman, orient='index', columns=N_arr)\n",
    "\n",
    "df_Spearman"
   ]
  },
  {
   "cell_type": "markdown",
   "metadata": {},
   "source": [
    "### Критерій перевірки гіпотези незалежності $H_0$ / критерій Кендала\n",
    "1) Маємо вибірку $(\\overline{X}, \\overline{Y}) = { (X_1, Y_1), \\cdots (X_n, Y_n) }$\n",
    "2) Обчислюємо $R_i$ -- ранг $X_i$ серед елементів $X_1, \\cdots, X_n$\n",
    "3) Обчислюємо $S_i$ -- ранг $Y_i$ серед елементів $Y_1, \\cdots, Y_n$\n",
    "4) Маємо пари $(\\overline{R}, \\overline{S}) = { (R_1, S_1), \\cdots (R_n, S_n) }$\n",
    "5) Сортуємо за $R_i \\Rightarrow (1, V_1), \\cdots (n, V_n)$\n",
    "6) Обчислюємо $N$: #пари індексів $(i, j), i < j$ для яких $V_i < V_j$\n",
    "7) Обчислюємо критичну область $\\tau = \\frac{4N}{n(n-1)} - 1$\n"
   ]
  },
  {
   "cell_type": "markdown",
   "metadata": {},
   "source": [
    "### для обчислення гіпотези використовується"
   ]
  },
  {
   "attachments": {},
   "cell_type": "markdown",
   "metadata": {},
   "source": [
    "### пункт а) $Y_{i} = \\xi_{i} \\cdot \\eta_{i}$"
   ]
  },
  {
   "cell_type": "code",
   "execution_count": 42,
   "metadata": {
    "ExecuteTime": {
     "start_time": "2023-04-07T11:50:42.364007Z",
     "end_time": "2023-04-07T11:50:42.535298Z"
    }
   },
   "outputs": [
    {
     "data": {
      "text/plain": "                     500       5000      50000\nKendal statistic  0.996024  0.999597   0.99996\nz_gamma           0.001869  0.000591  0.000187\nResult               false     false     false",
      "text/html": "<div>\n<style scoped>\n    .dataframe tbody tr th:only-of-type {\n        vertical-align: middle;\n    }\n\n    .dataframe tbody tr th {\n        vertical-align: top;\n    }\n\n    .dataframe thead th {\n        text-align: right;\n    }\n</style>\n<table border=\"1\" class=\"dataframe\">\n  <thead>\n    <tr style=\"text-align: right;\">\n      <th></th>\n      <th>500</th>\n      <th>5000</th>\n      <th>50000</th>\n    </tr>\n  </thead>\n  <tbody>\n    <tr>\n      <th>Kendal statistic</th>\n      <td>0.996024</td>\n      <td>0.999597</td>\n      <td>0.99996</td>\n    </tr>\n    <tr>\n      <th>z_gamma</th>\n      <td>0.001869</td>\n      <td>0.000591</td>\n      <td>0.000187</td>\n    </tr>\n    <tr>\n      <th>Result</th>\n      <td>false</td>\n      <td>false</td>\n      <td>false</td>\n    </tr>\n  </tbody>\n</table>\n</div>"
     },
     "execution_count": 42,
     "metadata": {},
     "output_type": "execute_result"
    }
   ],
   "source": [
    "N_arr = [500, 5000, 50000]\n",
    "\n",
    "z_gamma_kendal = [z_gamma / np.math.sqrt(n) / 3 * 2 for n in N_arr]\n",
    "tau = []\n",
    "Hyp_Kendal = []\n",
    "for tmp, n in enumerate(N_arr):\n",
    "    data_xi = np.random.uniform(0, 1, n)\n",
    "    data_nu = np.random.uniform(-1, 1, n)\n",
    "    X = rank(data_xi)\n",
    "    Y = rank(data_xi * data_nu)\n",
    "\n",
    "    res = np.array([X, Y], np.int64)\n",
    "    # паруємо\n",
    "    res = np.transpose(res)\n",
    "    # сортуємо по Х\n",
    "    res = np.argsort(res, 0)\n",
    "\n",
    "    N_1 = 0\n",
    "    for i in res[1:-1, 0]:\n",
    "        if res[i, 1] > res[i - 1, 1]: N_1 += np.sign(res[i, 1] - res[i - 1, 1])\n",
    "\n",
    "    N = n * (n - 1) / 2 - N_1\n",
    "    res = 4 * N / (n * (n - 1)) - 1\n",
    "    tau.append(res)\n",
    "    if res < z_gamma_kendal[tmp]:\n",
    "        Hyp_Kendal.append(\"H0\")\n",
    "    else:\n",
    "        Hyp_Kendal.append(\"false\")\n",
    "\n",
    "data_Kendal = {\"Kendal statistic\": tau, f\"z_gamma\": z_gamma_kendal, \"Result\": Hyp_Kendal}\n",
    "df_Kendal = pd.DataFrame.from_dict(data_Kendal, orient='index', columns=N_arr)\n",
    "\n",
    "df_Kendal"
   ]
  },
  {
   "attachments": {},
   "cell_type": "markdown",
   "metadata": {},
   "source": [
    "### пункт б) $Y_{i} = \\xi_{i} + \\eta_{i}$"
   ]
  },
  {
   "cell_type": "code",
   "execution_count": 43,
   "metadata": {
    "ExecuteTime": {
     "start_time": "2023-04-07T11:50:42.522583Z",
     "end_time": "2023-04-07T11:50:42.694174Z"
    }
   },
   "outputs": [
    {
     "data": {
      "text/plain": "                     500       5000      50000\nKendal statistic  0.995864  0.999602   0.99996\nz_gamma           0.001869  0.000591  0.000187\nResult               false     false     false",
      "text/html": "<div>\n<style scoped>\n    .dataframe tbody tr th:only-of-type {\n        vertical-align: middle;\n    }\n\n    .dataframe tbody tr th {\n        vertical-align: top;\n    }\n\n    .dataframe thead th {\n        text-align: right;\n    }\n</style>\n<table border=\"1\" class=\"dataframe\">\n  <thead>\n    <tr style=\"text-align: right;\">\n      <th></th>\n      <th>500</th>\n      <th>5000</th>\n      <th>50000</th>\n    </tr>\n  </thead>\n  <tbody>\n    <tr>\n      <th>Kendal statistic</th>\n      <td>0.995864</td>\n      <td>0.999602</td>\n      <td>0.99996</td>\n    </tr>\n    <tr>\n      <th>z_gamma</th>\n      <td>0.001869</td>\n      <td>0.000591</td>\n      <td>0.000187</td>\n    </tr>\n    <tr>\n      <th>Result</th>\n      <td>false</td>\n      <td>false</td>\n      <td>false</td>\n    </tr>\n  </tbody>\n</table>\n</div>"
     },
     "execution_count": 43,
     "metadata": {},
     "output_type": "execute_result"
    }
   ],
   "source": [
    "N_arr = [500, 5000, 50000]\n",
    "\n",
    "z_gamma_kendal = [z_gamma / np.math.sqrt(n) / 3 * 2 for n in N_arr]\n",
    "tau = []\n",
    "Hyp_Kendal = []\n",
    "for tmp, n in enumerate(N_arr):\n",
    "    data_xi = np.random.uniform(0, 1, n)\n",
    "    data_nu = np.random.uniform(-1, 1, n)\n",
    "    X = rank(data_xi)\n",
    "    Y = rank(data_xi + data_nu)\n",
    "\n",
    "    res = np.array([X, Y], np.int64)\n",
    "    # паруємо\n",
    "    res = np.transpose(res)\n",
    "    # сортуємо по Х\n",
    "    res = np.argsort(res, 0)\n",
    "\n",
    "    N_1 = 0\n",
    "    for i in res[1:-1, 0]:\n",
    "        if res[i, 1] > res[i - 1, 1]: N_1 += np.sign(res[i, 1] - res[i - 1, 1])\n",
    "\n",
    "    N = n * (n - 1) / 2 - N_1\n",
    "    res = 4 * N / (n * (n - 1)) - 1\n",
    "    tau.append(res)\n",
    "    if res < z_gamma_kendal[tmp]:\n",
    "        Hyp_Kendal.append(\"H0\")\n",
    "    else:\n",
    "        Hyp_Kendal.append(\"false\")\n",
    "\n",
    "data_Kendal = {\"Kendal statistic\": tau, f\"z_gamma\": z_gamma_kendal, \"Result\": Hyp_Kendal}\n",
    "df_Kendal = pd.DataFrame.from_dict(data_Kendal, orient='index', columns=N_arr)\n",
    "\n",
    "df_Kendal"
   ]
  },
  {
   "cell_type": "markdown",
   "metadata": {},
   "source": [
    "### Завдання 3\n",
    "#### Критерій інверсій\n",
    "\n",
    "У даному методі будемо перевіряти гіпотезу випадковості (повного хаосу), що означає:\n",
    "$$H_0: F_{\\overline{x}}(u_1, \\ldots, u_n) = F_{\\xi}(u_1) \\cdot F_{\\xi}(u_2) \\cdot \\ldots \\cdot F_{\\xi}(u_n)$$\n",
    "\n",
    "**Алгоритм обчислення:**\n",
    "1. Згенерувати $n$ спостережень\n",
    "2. Обчислюємо \"хаос\" $k$ у варіаційному ряді,\n",
    "3. Обчислюємо критичну область $\\dfrac{z_{\\gamma} n \\sqrt{n}}{6}$\n",
    "4. Рахуємо статистику $S_n(\\overline{X}) = \\Big| k - \\dfrac{n(n-1)}{4}  \\Big|$\n",
    "5. Порівнюємо $ \\Big| k - \\dfrac{n(n-1)}{4}  \\Big| \\bigvee  \\dfrac{z_{\\gamma} n \\sqrt{n}}{6}$\n",
    "як $<$, приймаємо гіпотезу $H_0$, інакше -- ні"
   ]
  },
  {
   "cell_type": "code",
   "execution_count": 44,
   "metadata": {
    "ExecuteTime": {
     "start_time": "2023-04-07T11:50:42.692185Z",
     "end_time": "2023-04-07T11:50:45.917627Z"
    }
   },
   "outputs": [
    {
     "name": "stdout",
     "output_type": "stream",
     "text": [
      "k_0: 65257\n",
      "k_1: 6425142\n"
     ]
    },
    {
     "data": {
      "text/plain": "               500          5000\nLAMBDA       2882.0     176392.0\nz_gamma  116.834552  3694.632932\nResult        false        false",
      "text/html": "<div>\n<style scoped>\n    .dataframe tbody tr th:only-of-type {\n        vertical-align: middle;\n    }\n\n    .dataframe tbody tr th {\n        vertical-align: top;\n    }\n\n    .dataframe thead th {\n        text-align: right;\n    }\n</style>\n<table border=\"1\" class=\"dataframe\">\n  <thead>\n    <tr style=\"text-align: right;\">\n      <th></th>\n      <th>500</th>\n      <th>5000</th>\n    </tr>\n  </thead>\n  <tbody>\n    <tr>\n      <th>LAMBDA</th>\n      <td>2882.0</td>\n      <td>176392.0</td>\n    </tr>\n    <tr>\n      <th>z_gamma</th>\n      <td>116.834552</td>\n      <td>3694.632932</td>\n    </tr>\n    <tr>\n      <th>Result</th>\n      <td>false</td>\n      <td>false</td>\n    </tr>\n  </tbody>\n</table>\n</div>"
     },
     "execution_count": 44,
     "metadata": {},
     "output_type": "execute_result"
    }
   ],
   "source": [
    "N_arr = [500, 5000]  #, 50000]\n",
    "z_gamma_inv = [z_gamma / 6 * n ** (3 / 2) for n in N_arr]\n",
    "LAMBDA = []\n",
    "RES_inv = []\n",
    "\n",
    "\n",
    "def genX(n):\n",
    "    X = []\n",
    "    ksi = np.random.uniform(-1, 1, n)\n",
    "    for j in range(n):\n",
    "        x = np.sum(ksi[:j + 1]) / (j + 1)\n",
    "        X.append(x)\n",
    "    return X\n",
    "\n",
    "\n",
    "for tmp, n in enumerate(N_arr):\n",
    "    X = genX(n)\n",
    "    k = 0\n",
    "\n",
    "    for x in range(1, len(X) - 1):\n",
    "        for j in range(x, len(X)):\n",
    "            i = j - 1\n",
    "            if (X[j] < X[i]) and (i < j): k += 1\n",
    "\n",
    "    print(f\"k_{tmp}: {k}\")\n",
    "\n",
    "    statistic = (abs(k - n * (n - 1) / 4))\n",
    "    LAMBDA.append(statistic)\n",
    "    if statistic < z_gamma_inv[tmp]:\n",
    "        RES_inv.append(\"H0\")\n",
    "    else:\n",
    "        RES_inv.append(\"false\")\n",
    "\n",
    "data_inv = {\"LAMBDA\": LAMBDA, f\"z_gamma\": z_gamma_inv, \"Result\": RES_inv}\n",
    "df_inv = pd.DataFrame.from_dict(data_inv, orient='index', columns=N_arr)\n",
    "\n",
    "df_inv"
   ]
  },
  {
   "cell_type": "code",
   "execution_count": 44,
   "metadata": {
    "collapsed": false,
    "ExecuteTime": {
     "start_time": "2023-04-07T11:50:45.920679Z",
     "end_time": "2023-04-07T11:50:45.923386Z"
    }
   },
   "outputs": [],
   "source": []
  }
 ],
 "metadata": {
  "interpreter": {
   "hash": "6787530bf9925b057af33f954282f7ad07558b12920f3eef54087b2f6236d6d8"
  },
  "kernelspec": {
   "display_name": "Python 3 (ipykernel)",
   "language": "python",
   "name": "python3"
  },
  "language_info": {
   "codemirror_mode": {
    "name": "ipython",
    "version": 3
   },
   "file_extension": ".py",
   "mimetype": "text/x-python",
   "name": "python",
   "nbconvert_exporter": "python",
   "pygments_lexer": "ipython3",
   "version": "3.10.6"
  }
 },
 "nbformat": 4,
 "nbformat_minor": 2
}
