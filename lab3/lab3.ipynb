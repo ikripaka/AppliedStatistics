{
 "cells": [
  {
   "cell_type": "code",
   "execution_count": 2,
   "metadata": {
    "ExecuteTime": {
     "start_time": "2023-04-06T09:49:19.432405Z",
     "end_time": "2023-04-06T09:49:19.590789Z"
    }
   },
   "outputs": [],
   "source": [
    "import numpy as np\n",
    "import pandas as pd"
   ]
  },
  {
   "cell_type": "markdown",
   "metadata": {},
   "source": [
    "### $\\int_{-\\inf}^{z} e^{\\frac{-u^2}{2}}du = \\frac{1-0.05}{2}*\\sqrt{2*π}$\n",
    "(обчислення $z_\\gamma$ із лекції 7, 2 ст)"
   ]
  },
  {
   "cell_type": "code",
   "execution_count": 3,
   "metadata": {
    "ExecuteTime": {
     "start_time": "2023-04-06T09:49:19.459798Z",
     "end_time": "2023-04-06T09:49:19.625973Z"
    }
   },
   "outputs": [],
   "source": [
    "z_gamma_empty = 0.062706777"
   ]
  },
  {
   "cell_type": "markdown",
   "metadata": {},
   "source": [
    "### Завдання 1\n",
    "\n",
    "Перевірка однорідності (критерій пустих блоків)\n",
    "\n",
    "Маємо дві незалежні вибірки: $\\overline{X} = (X_1, \\cdots, X_n), \\overline{Y} = (Y_1, \\cdots, Y_n)$\n",
    "1. Розбиваємо вісь $R$ на напівінтервали $(X_{(i-1)}, X_{(i)}], i=1, \\cdot, n+1$\n",
    "2. Обчислюємо кількість пустих блоків: $k = # \\text{пустих блоків}$\n",
    "3. $Crit = \\dfrac{n}{1+\\rho} + \\sqrt{n} \\dfrac{\\rho}{(1+\\rho)^{3/2}} z_{\\gamma}$\n",
    "4. Як $k < Crit$ обираємо $H_0$, інакше $H_1$\n"
   ]
  },
  {
   "cell_type": "code",
   "execution_count": 4,
   "metadata": {
    "ExecuteTime": {
     "start_time": "2023-04-06T09:49:19.583769Z",
     "end_time": "2023-04-06T09:49:19.686586Z"
    }
   },
   "outputs": [
    {
     "name": "stdout",
     "output_type": "stream",
     "text": [
      "0.022560150383076922 <= 0.11194515924601654 <= 2.9367385911541155\n",
      "0.022560150383076922 <= 0.8694823233980112 <= 2.9367385911541155\n",
      "0.022560150383076922 <= 0.40725772879269456 <= 2.9367385911541155\n",
      "0.022560150383076922 <= 0.39779858599467083 <= 2.9367385911541155\n",
      "0.022560150383076922 <= 0.5555465960559985 <= 2.9367385911541155\n",
      "0.022560150383076922 <= 0.797720282201548 <= 2.9367385911541155\n",
      "0.022560150383076922 <= 1.3457958010976374 <= 2.9367385911541155\n",
      "0.022560150383076922 <= 0.16042711281665994 <= 2.9367385911541155\n",
      "0.022560150383076922 <= 0.12613154768249943 <= 2.9367385911541155\n",
      "0.022560150383076922 <= 2.0827586434585923 <= 2.9367385911541155\n",
      "0.022560150383076922 <= 0.15755769934349198 <= 2.9367385911541155\n",
      "0.022560150383076922 <= 1.9549459578991897 <= 2.9367385911541155\n",
      "0.022560150383076922 <= 1.2999796662526257 <= 2.9367385911541155\n",
      "0.022560150383076922 <= 0.04473339939838998 <= 2.9367385911541155\n",
      "0.022560150383076922 <= 0.4836437121237178 <= 2.9367385911541155\n",
      "0.022560150383076922 <= 0.12451695630974512 <= 2.9367385911541155\n",
      "2 :: 16.0\n",
      "+++++++++++++++++++++++++\n",
      "0.038283816634842135 <= 0.11194515924601654 <= 1.298502391975877\n",
      "0.038283816634842135 <= 0.8694823233980112 <= 1.298502391975877\n",
      "0.038283816634842135 <= 0.40725772879269456 <= 1.298502391975877\n",
      "0.038283816634842135 <= 0.39779858599467083 <= 1.298502391975877\n",
      "0.038283816634842135 <= 0.5555465960559985 <= 1.298502391975877\n",
      "0.038283816634842135 <= 0.797720282201548 <= 1.298502391975877\n",
      "0.038283816634842135 <= 0.16042711281665994 <= 1.298502391975877\n",
      "0.038283816634842135 <= 0.12613154768249943 <= 1.298502391975877\n",
      "0.038283816634842135 <= 0.15755769934349198 <= 1.298502391975877\n",
      "0.038283816634842135 <= 0.04473339939838998 <= 1.298502391975877\n",
      "0.038283816634842135 <= 0.4836437121237178 <= 1.298502391975877\n",
      "0.038283816634842135 <= 0.12451695630974512 <= 1.298502391975877\n",
      "4 :: 12.0\n",
      "+++++++++++++++++++++++++\n",
      "1.298502391975877 <= 1.3457958010976374 <= 1.5286374618851755\n",
      "1.298502391975877 <= 1.2999796662526257 <= 1.5286374618851755\n",
      "5 :: 2.0\n",
      "+++++++++++++++++++++++++\n",
      "0.23463472576420502 <= 0.8694823233980112 <= 1.018604749154097\n",
      "0.23463472576420502 <= 0.40725772879269456 <= 1.018604749154097\n",
      "0.23463472576420502 <= 0.39779858599467083 <= 1.018604749154097\n",
      "0.23463472576420502 <= 0.5555465960559985 <= 1.018604749154097\n",
      "0.23463472576420502 <= 0.797720282201548 <= 1.018604749154097\n",
      "0.23463472576420502 <= 0.4836437121237178 <= 1.018604749154097\n",
      "8 :: 6.0\n",
      "+++++++++++++++++++++++++\n",
      "\n",
      "\n",
      "[ 0.  0. 16.  0. 12.  2.  0.  0.  6.]\n",
      "++++++++++++++++++++\n",
      "5\n"
     ]
    }
   ],
   "source": [
    "# example 1\n",
    "X = np.random.exponential(1, 10)\n",
    "Y = np.random.exponential(1, 20)\n",
    "intervals = []\n",
    "for i in range(1, len(X + 1)):\n",
    "    intervals.append([X[i - 1], X[i]])\n",
    "\n",
    "res = np.zeros(len(intervals))\n",
    "for i, x in enumerate(intervals):\n",
    "    for item in Y:\n",
    "        if intervals[i][0] <= item <= intervals[i][1]:\n",
    "            print(f\"{intervals[i][0]} <= {item} <= {intervals[i][1]}\")\n",
    "            res[i] += 1\n",
    "    if res[i] != 0:\n",
    "        print(f\"{i} :: {res[i]}\")\n",
    "        print(\"+++++++++++++++++++++++++\")\n",
    "\n",
    "print()\n",
    "print()\n",
    "print(res)\n",
    "print(\"+\" * 20)\n",
    "print(np.count_nonzero(res == 0))\n"
   ]
  },
  {
   "cell_type": "code",
   "execution_count": 5,
   "metadata": {
    "ExecuteTime": {
     "start_time": "2023-04-06T09:49:19.687485Z",
     "end_time": "2023-04-06T09:49:31.397686Z"
    }
   },
   "outputs": [],
   "source": [
    "NM = [[500, 1000], [5000, 10000]]  #, [50000, 100000]]\n",
    "\n",
    "xi_empty = []\n",
    "crit_empty = []\n",
    "RES_empty = []\n",
    "for nm in NM:\n",
    "\n",
    "    n = nm[0]\n",
    "    m = nm[1]\n",
    "    ro = m / n\n",
    "\n",
    "    X = np.random.exponential(1, n)\n",
    "    Y = np.random.exponential(1, m)\n",
    "\n",
    "    # робимо інтервали [1 коорд, 2 коорд]\n",
    "    intervals = []\n",
    "    for i in range(1, len(X + 1)):\n",
    "        intervals.append([X[i - 1], X[i]])\n",
    "\n",
    "    # рахуємо кількість попадань у відрізок\n",
    "    res = np.zeros(len(intervals))\n",
    "    for i, x in enumerate(intervals):\n",
    "        for item in Y:\n",
    "            if intervals[i][0] <= item <= intervals[i][1]: res[i] += 1\n",
    "\n",
    "    xi_empty_temp = np.count_nonzero(res == 0)\n",
    "    xi_empty.append(xi_empty_temp)\n",
    "\n",
    "    crit = n / (1 + ro) + np.math.sqrt(n) * ro * z_gamma_empty / (1 + ro) ** (3 / 2)\n",
    "    crit_empty.append(crit)\n",
    "    if xi_empty_temp < crit:\n",
    "        RES_empty.append(\"H0\")\n",
    "    else:\n",
    "        RES_empty.append(\"False\")\n",
    "\n",
    "data_empty = {\"xi_empty (n, m)\": xi_empty, f\"crit\": crit_empty, \"Result\": RES_empty}\n",
    "df_empty = pd.DataFrame.from_dict(data_empty, orient='index', columns=[f\"n::{item[0]}; m::{item[1]}\" for item in NM])\n"
   ]
  },
  {
   "cell_type": "code",
   "execution_count": 6,
   "metadata": {
    "ExecuteTime": {
     "start_time": "2023-04-06T09:49:31.427595Z",
     "end_time": "2023-04-06T09:49:31.523716Z"
    }
   },
   "outputs": [
    {
     "data": {
      "text/plain": "                n::500; m::1000 n::5000; m::10000\nxi_empty (n, m)             256              2538\ncrit                 167.206361       1668.373329\nResult                    False             False",
      "text/html": "<div>\n<style scoped>\n    .dataframe tbody tr th:only-of-type {\n        vertical-align: middle;\n    }\n\n    .dataframe tbody tr th {\n        vertical-align: top;\n    }\n\n    .dataframe thead th {\n        text-align: right;\n    }\n</style>\n<table border=\"1\" class=\"dataframe\">\n  <thead>\n    <tr style=\"text-align: right;\">\n      <th></th>\n      <th>n::500; m::1000</th>\n      <th>n::5000; m::10000</th>\n    </tr>\n  </thead>\n  <tbody>\n    <tr>\n      <th>xi_empty (n, m)</th>\n      <td>256</td>\n      <td>2538</td>\n    </tr>\n    <tr>\n      <th>crit</th>\n      <td>167.206361</td>\n      <td>1668.373329</td>\n    </tr>\n    <tr>\n      <th>Result</th>\n      <td>False</td>\n      <td>False</td>\n    </tr>\n  </tbody>\n</table>\n</div>"
     },
     "execution_count": 6,
     "metadata": {},
     "output_type": "execute_result"
    }
   ],
   "source": [
    "df_empty"
   ]
  },
  {
   "cell_type": "markdown",
   "metadata": {},
   "source": [
    "## Завдання 2"
   ]
  },
  {
   "cell_type": "markdown",
   "metadata": {},
   "source": [
    "### Ранжування"
   ]
  },
  {
   "cell_type": "code",
   "execution_count": 7,
   "metadata": {
    "ExecuteTime": {
     "start_time": "2023-04-06T09:49:31.527094Z",
     "end_time": "2023-04-06T09:49:31.668163Z"
    }
   },
   "outputs": [],
   "source": [
    "rank = lambda data: pd.Series(data).rank(method=\"min\").to_list()\n",
    "gamma = 0.05\n",
    "z_gamma = 0.0627"
   ]
  },
  {
   "cell_type": "markdown",
   "metadata": {},
   "source": [
    "### Критерій перевірки гіпотези незалежності $H_0$\n",
    "\n",
    "1) Маємо вибірку $(\\overline{X}, \\overline{Y}) = { (X_1, Y_1), \\cdots (X_n, Y_n) }$\n",
    "2) Обчислюємо $R_i$ -- ранг $X_i$ серед елементів $X_1, \\cdots, X_n$\n",
    "3) Обчислюємо $S_i$ -- ранг $Y_i$ серед елементів $Y_1, \\cdots, Y_n$\n",
    "4) Маємо пари $(\\overline{R}, \\overline{S}) = { (R_1, S_1), \\cdots (R_n, S_n) }$\n",
    "5) Сортуємо за $R_i \\Rightarrow (1, V_1), \\cdots (n, V_n)$\n",
    "6) Рахуємо статистику $\\rho_n(\\bar X, \\bar Y) =  1 - \\frac{6}{n (n^{2} - 1} \\cdot \\sum\\limits_{i \\in [1,n]} (i - V_{i}^{2})$ (коеф кореляції двох множин рангів)\n",
    "7) Порівнюємо $\\rho_n \\bigvee \\dfrac{z_\\gamma}{\\sqrt{n}}$, як $<$ приймаємо $H_0$, інакше $H_1$"
   ]
  },
  {
   "cell_type": "markdown",
   "metadata": {},
   "source": [
    "### критей Спірмана"
   ]
  },
  {
   "cell_type": "code",
   "execution_count": 8,
   "metadata": {
    "ExecuteTime": {
     "start_time": "2023-04-06T09:49:31.611378Z",
     "end_time": "2023-04-06T09:49:31.750403Z"
    }
   },
   "outputs": [],
   "source": [
    "def SpearMan(V):\n",
    "    n = len(V)\n",
    "    return 1 - 6 * np.sum(pow(V[:, 0] - V[:, 1], 2)) / (n * (pow(n, 2) - 1))\n",
    "    ..."
   ]
  },
  {
   "cell_type": "markdown",
   "source": [
    "а) $Y_i = \\ksi_$"
   ],
   "metadata": {
    "collapsed": false
   }
  },
  {
   "cell_type": "code",
   "execution_count": 18,
   "metadata": {
    "ExecuteTime": {
     "start_time": "2023-04-06T11:38:00.161456Z",
     "end_time": "2023-04-06T11:38:00.208307Z"
    }
   },
   "outputs": [
    {
     "data": {
      "text/plain": "                       500       5000      50000\nSpearman statistic  0.065808  0.009156  0.002839\nz_gamma             0.002804  0.000887   0.00028\nResult                 False     False     False",
      "text/html": "<div>\n<style scoped>\n    .dataframe tbody tr th:only-of-type {\n        vertical-align: middle;\n    }\n\n    .dataframe tbody tr th {\n        vertical-align: top;\n    }\n\n    .dataframe thead th {\n        text-align: right;\n    }\n</style>\n<table border=\"1\" class=\"dataframe\">\n  <thead>\n    <tr style=\"text-align: right;\">\n      <th></th>\n      <th>500</th>\n      <th>5000</th>\n      <th>50000</th>\n    </tr>\n  </thead>\n  <tbody>\n    <tr>\n      <th>Spearman statistic</th>\n      <td>0.065808</td>\n      <td>0.009156</td>\n      <td>0.002839</td>\n    </tr>\n    <tr>\n      <th>z_gamma</th>\n      <td>0.002804</td>\n      <td>0.000887</td>\n      <td>0.00028</td>\n    </tr>\n    <tr>\n      <th>Result</th>\n      <td>False</td>\n      <td>False</td>\n      <td>False</td>\n    </tr>\n  </tbody>\n</table>\n</div>"
     },
     "execution_count": 18,
     "metadata": {},
     "output_type": "execute_result"
    }
   ],
   "source": [
    "N_arr = [500, 5000, 50000]\n",
    "\n",
    "z_gamma_spearman = [z_gamma / np.math.sqrt(n) for n in N_arr]\n",
    "\n",
    "RHO = []\n",
    "Hyp_Spearman = []\n",
    "for i, n in enumerate(N_arr):\n",
    "    data_xi = np.random.uniform(0, 1, n)\n",
    "    data_nu = np.random.uniform(-1, 1, n)\n",
    "    X = rank(data_xi)\n",
    "    Y = rank(data_xi * data_nu)\n",
    "\n",
    "    res = np.array([X, Y])\n",
    "    # паруємо\n",
    "    res = np.transpose(res)\n",
    "    # сортуємо по Х\n",
    "    res = np.argsort(res, 0)\n",
    "\n",
    "    # обчислюємо статистику\n",
    "    test = abs(SpearMan(res))\n",
    "    RHO.append(test)\n",
    "    if test < z_gamma_spearman[i]:\n",
    "        Hyp_Spearman.append(\"H0\")\n",
    "    else:\n",
    "        Hyp_Spearman.append(\"False\")\n",
    "\n",
    "data_Spearman = {\"Spearman statistic\": RHO, f\"z_gamma\": z_gamma_spearman, \"Result\": Hyp_Spearman}\n",
    "df_Spearman = pd.DataFrame.from_dict(data_Spearman, orient='index', columns=N_arr)\n",
    "\n",
    "df_Spearman"
   ]
  },
  {
   "cell_type": "markdown",
   "metadata": {},
   "source": [
    "### критерій Кендала"
   ]
  },
  {
   "cell_type": "markdown",
   "metadata": {},
   "source": [
    "### для обчислення гіпотези використовується $\\tau = \\frac{4N}{n(n-1)} - 1$"
   ]
  },
  {
   "cell_type": "code",
   "execution_count": 10,
   "metadata": {
    "ExecuteTime": {
     "start_time": "2023-04-06T09:49:32.279624Z",
     "end_time": "2023-04-06T09:49:32.403896Z"
    }
   },
   "outputs": [
    {
     "data": {
      "text/plain": "                     500       5000      50000\nKendal statistic    0.3878  0.392356  0.390492\nz_gamma           0.001869  0.000591  0.000187\nResult               false     false     false",
      "text/html": "<div>\n<style scoped>\n    .dataframe tbody tr th:only-of-type {\n        vertical-align: middle;\n    }\n\n    .dataframe tbody tr th {\n        vertical-align: top;\n    }\n\n    .dataframe thead th {\n        text-align: right;\n    }\n</style>\n<table border=\"1\" class=\"dataframe\">\n  <thead>\n    <tr style=\"text-align: right;\">\n      <th></th>\n      <th>500</th>\n      <th>5000</th>\n      <th>50000</th>\n    </tr>\n  </thead>\n  <tbody>\n    <tr>\n      <th>Kendal statistic</th>\n      <td>0.3878</td>\n      <td>0.392356</td>\n      <td>0.390492</td>\n    </tr>\n    <tr>\n      <th>z_gamma</th>\n      <td>0.001869</td>\n      <td>0.000591</td>\n      <td>0.000187</td>\n    </tr>\n    <tr>\n      <th>Result</th>\n      <td>false</td>\n      <td>false</td>\n      <td>false</td>\n    </tr>\n  </tbody>\n</table>\n</div>"
     },
     "execution_count": 10,
     "metadata": {},
     "output_type": "execute_result"
    }
   ],
   "source": [
    "N_arr = [500, 5000, 50000]\n",
    "\n",
    "z_gamma_kendal = [z_gamma / np.math.sqrt(n) / 3 * 2 for n in N_arr]\n",
    "tau = []\n",
    "Hyp_Kendal = []\n",
    "for tmp, n in enumerate(N_arr):\n",
    "    data_xi = np.random.uniform(0, 1, n)\n",
    "    data_nu = np.random.uniform(-1, 1, n)\n",
    "    X = rank(data_xi)\n",
    "    Y = rank(data_xi * data_nu)\n",
    "\n",
    "    res = np.array([X, Y], np.int64)\n",
    "    res = np.transpose(res)\n",
    "    res = res[res[:, 0].argsort()]\n",
    "    P_q = 0\n",
    "    for i in res[1:-1, 0]:\n",
    "        if res[i, 1] > res[i - 1, 1]: P_q += res[i, 1] - res[i - 1, 1]\n",
    "\n",
    "    P_p = n * (n - 1) / 2 - P_q\n",
    "    res = 4 * P_p / (n * (n - 1)) - 1\n",
    "    tau.append(res)\n",
    "    if res < z_gamma_kendal[tmp]:\n",
    "        Hyp_Kendal.append(\"H0\")\n",
    "    else:\n",
    "        Hyp_Kendal.append(\"false\")\n",
    "\n",
    "data_Kendal = {\"Kendal statistic\": tau, f\"z_gamma\": z_gamma_kendal, \"Result\": Hyp_Kendal}\n",
    "df_Kendal = pd.DataFrame.from_dict(data_Kendal, orient='index', columns=N_arr)\n",
    "\n",
    "df_Kendal"
   ]
  },
  {
   "cell_type": "markdown",
   "metadata": {},
   "source": [
    "### для в.в. $\\xi$ та $\\eta$"
   ]
  },
  {
   "cell_type": "code",
   "execution_count": 11,
   "metadata": {
    "ExecuteTime": {
     "start_time": "2023-04-06T09:49:32.381544Z",
     "end_time": "2023-04-06T09:49:32.431011Z"
    }
   },
   "outputs": [
    {
     "name": "stdout",
     "output_type": "stream",
     "text": [
      "P_q =  15 \n",
      " P_p =  76.0 \n",
      " -0.6703296703296704\n"
     ]
    }
   ],
   "source": [
    "#для прикладу\n",
    "data_xi = [100, 118, 112, 97, 99, 103, 102, 132, 122, 121, 115, 117, 109, 111]\n",
    "data_eta = [154, 123, 120, 213, 200, 187, 155, 100, 114, 115, 107, 176, 143, 111]\n",
    "n = len(data_xi)\n",
    "X = rank(data_xi)\n",
    "Y = rank(data_eta)\n",
    "\n",
    "res = np.array([X, Y], np.int64)\n",
    "res = np.transpose(res)\n",
    "res = res[res[:, 0].argsort()]\n",
    "P_q = 0\n",
    "for i in res[1:-1, 0]:\n",
    "    if res[i, 1] > res[i - 1, 1]: P_q += res[i, 1] - res[i - 1, 1]\n",
    "\n",
    "P_p = n * (n - 1) / 2 - P_q\n",
    "print('P_q = ', P_q, '\\n', 'P_p = ', P_p, '\\n', 4 * P_q / (n * (n - 1)) - 1)\n"
   ]
  },
  {
   "cell_type": "markdown",
   "metadata": {},
   "source": [
    "### Завдання 3\n",
    "#### Критерій інверсій\n",
    "\n",
    "У даному методі будемо перевіряти гіпотезу випадковості (повного хаосу), що означає:\n",
    "$$H_0: F_{\\overline{x}}(u_1, \\ldots, u_n) = F_{\\xi}(u_1) \\cdot F_{\\xi}(u_2) \\cdot \\ldots \\cdot F_{\\xi}(u_n)$$\n",
    "\n",
    "**Алгоритм обчислення:**\n",
    "1. Згенерувати $n$ спостережень\n",
    "2. Обчислюємо \"хаос\" $k$ у варіаційному ряді,\n",
    "3. Обчислюємо критичну область $\\dfrac{z_{\\gamma} n \\sqrt{n}}{6}$\n",
    "4. Рахуємо статистику $S_n(\\overline{X}) = \\Big| k - \\dfrac{n(n-1)}{4}  \\Big|$\n",
    "5. Порівнюємо $ \\Big| k - \\dfrac{n(n-1)}{4}  \\Big| \\bigvee  \\dfrac{z_{\\gamma} n \\sqrt{n}}{6}$\n",
    "як $<$, приймаємо гіпотезу $H_0$, інакше -- ні"
   ]
  },
  {
   "cell_type": "code",
   "execution_count": 14,
   "metadata": {
    "ExecuteTime": {
     "start_time": "2023-04-06T10:14:16.087556Z",
     "end_time": "2023-04-06T10:14:19.267554Z"
    }
   },
   "outputs": [
    {
     "name": "stdout",
     "output_type": "stream",
     "text": [
      "k_0: 60029\n",
      "k_1: 6145292\n"
     ]
    },
    {
     "data": {
      "text/plain": "               500          5000\nLAMBDA       2346.0     103458.0\nz_gamma  116.834552  3694.632932\nResult        false        false",
      "text/html": "<div>\n<style scoped>\n    .dataframe tbody tr th:only-of-type {\n        vertical-align: middle;\n    }\n\n    .dataframe tbody tr th {\n        vertical-align: top;\n    }\n\n    .dataframe thead th {\n        text-align: right;\n    }\n</style>\n<table border=\"1\" class=\"dataframe\">\n  <thead>\n    <tr style=\"text-align: right;\">\n      <th></th>\n      <th>500</th>\n      <th>5000</th>\n    </tr>\n  </thead>\n  <tbody>\n    <tr>\n      <th>LAMBDA</th>\n      <td>2346.0</td>\n      <td>103458.0</td>\n    </tr>\n    <tr>\n      <th>z_gamma</th>\n      <td>116.834552</td>\n      <td>3694.632932</td>\n    </tr>\n    <tr>\n      <th>Result</th>\n      <td>false</td>\n      <td>false</td>\n    </tr>\n  </tbody>\n</table>\n</div>"
     },
     "execution_count": 14,
     "metadata": {},
     "output_type": "execute_result"
    }
   ],
   "source": [
    "N_arr = [500, 5000]  #, 50000]\n",
    "z_gamma_inv = [z_gamma / 6 * n ** (3 / 2) for n in N_arr]\n",
    "LAMBDA = []\n",
    "RES_inv = []\n",
    "\n",
    "def genX(n):\n",
    "    X = []\n",
    "    ksi = np.random.uniform(-1, 1, n)\n",
    "    for j in range(n):\n",
    "      x=np.sum(ksi[:j+1])/(j+1)\n",
    "      X.append(x)\n",
    "    return X\n",
    "\n",
    "for tmp, n in enumerate(N_arr):\n",
    "    X = genX(n)\n",
    "    k = 0\n",
    "\n",
    "    for x in range(1, len(X) - 1):\n",
    "        for j in range(x, len(X)):\n",
    "            i = j - 1\n",
    "            if (X[j] < X[i]) and (i < j): k += 1\n",
    "\n",
    "    print(f\"k_{tmp}: {k}\")\n",
    "\n",
    "    statistic = (abs(k - n * (n - 1) / 4))\n",
    "    LAMBDA.append(statistic)\n",
    "    if statistic < z_gamma_inv[tmp]:\n",
    "        RES_inv.append(\"H0\")\n",
    "    else:\n",
    "        RES_inv.append(\"false\")\n",
    "\n",
    "data_inv = {\"LAMBDA\": LAMBDA, f\"z_gamma\": z_gamma_inv, \"Result\": RES_inv}\n",
    "df_inv = pd.DataFrame.from_dict(data_inv, orient='index', columns=N_arr)\n",
    "\n",
    "df_inv"
   ]
  },
  {
   "cell_type": "code",
   "execution_count": null,
   "outputs": [],
   "source": [],
   "metadata": {
    "collapsed": false
   }
  }
 ],
 "metadata": {
  "interpreter": {
   "hash": "6787530bf9925b057af33f954282f7ad07558b12920f3eef54087b2f6236d6d8"
  },
  "kernelspec": {
   "display_name": "Python 3 (ipykernel)",
   "language": "python",
   "name": "python3"
  },
  "language_info": {
   "codemirror_mode": {
    "name": "ipython",
    "version": 3
   },
   "file_extension": ".py",
   "mimetype": "text/x-python",
   "name": "python",
   "nbconvert_exporter": "python",
   "pygments_lexer": "ipython3",
   "version": "3.10.6"
  }
 },
 "nbformat": 4,
 "nbformat_minor": 2
}
