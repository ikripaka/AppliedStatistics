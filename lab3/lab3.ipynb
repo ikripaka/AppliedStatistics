{
 "cells": [
  {
   "cell_type": "code",
   "execution_count": 1,
   "metadata": {
    "pycharm": {
     "is_executing": true
    }
   },
   "outputs": [],
   "source": [
    "import numpy as np\n",
    "import pandas as pd"
   ]
  },
  {
   "cell_type": "markdown",
   "metadata": {},
   "source": [
    "### $\\int_{-\\inf}^{z} e^{\\frac{-u^2}{2}}du = \\frac{1-0.05}{2}*\\sqrt{2*π}$"
   ]
  },
  {
   "cell_type": "code",
   "execution_count": 2,
   "metadata": {
    "pycharm": {
     "is_executing": true
    }
   },
   "outputs": [],
   "source": [
    "z_gamma_empty = 0.062706777"
   ]
  },
  {
   "cell_type": "markdown",
   "metadata": {},
   "source": [
    "### Завдання 1"
   ]
  },
  {
   "cell_type": "markdown",
   "metadata": {},
   "source": [
    "Выборочные блоки -- естественные разбиения оси $Ox$ на интервалы $ (X_{i-1},X_i],\\ i=1,...,n+1\\ (X_{(0)} = -\\inf, X_{(n+1)} = \\inf) $\n",
    "\n",
    "Пусть $\\xi_r = \\xi_r(n,m) \\larr$ число этих блоков, каждый из которых содержит ровно $r$ элементов второй выборки $Y=(Y_1,...,Y_m), r = 0,1,...,m$. Тогда в качестве тестовой статистики можно взять произвольную линейную комбинацию $\\sum_r c_r \\xi_r$. В часности, $\\xi_0$ - число блоков, не содержащих ни одного элемента второй выборки, -- порождает критерий пустых блоков. "
   ]
  },
  {
   "cell_type": "code",
   "execution_count": 3,
   "metadata": {
    "pycharm": {
     "is_executing": true
    }
   },
   "outputs": [
    {
     "name": "stdout",
     "output_type": "stream",
     "text": [
      "0.0709225908774696 <= 0.23939539357822429 <= 1.0672894364131933\n",
      "0.0709225908774696 <= 0.13089726525352355 <= 1.0672894364131933\n",
      "0.0709225908774696 <= 0.5550406388866039 <= 1.0672894364131933\n",
      "0.0709225908774696 <= 0.3066429569317196 <= 1.0672894364131933\n",
      "0.0709225908774696 <= 0.8514201478331345 <= 1.0672894364131933\n",
      "0.0709225908774696 <= 0.45386292707506387 <= 1.0672894364131933\n",
      "0.0709225908774696 <= 0.44611681177222556 <= 1.0672894364131933\n",
      "0.0709225908774696 <= 0.17666470705976395 <= 1.0672894364131933\n",
      "0.0709225908774696 <= 0.5857888828925591 <= 1.0672894364131933\n",
      "0.0709225908774696 <= 0.4513279230085344 <= 1.0672894364131933\n",
      "0.0709225908774696 <= 0.12374827308923671 <= 1.0672894364131933\n",
      "0.0709225908774696 <= 0.47774122956019494 <= 1.0672894364131933\n",
      "0.0709225908774696 <= 1.0149378423994961 <= 1.0672894364131933\n",
      "0 :: 13.0\n",
      "+++++++++++++++++++++++++\n",
      "0.32683471873571385 <= 1.3170980635531124 <= 2.2417325868132436\n",
      "0.32683471873571385 <= 0.5550406388866039 <= 2.2417325868132436\n",
      "0.32683471873571385 <= 0.8514201478331345 <= 2.2417325868132436\n",
      "0.32683471873571385 <= 0.45386292707506387 <= 2.2417325868132436\n",
      "0.32683471873571385 <= 0.44611681177222556 <= 2.2417325868132436\n",
      "0.32683471873571385 <= 0.5857888828925591 <= 2.2417325868132436\n",
      "0.32683471873571385 <= 1.4297042783945333 <= 2.2417325868132436\n",
      "0.32683471873571385 <= 1.9130054336122826 <= 2.2417325868132436\n",
      "0.32683471873571385 <= 0.4513279230085344 <= 2.2417325868132436\n",
      "0.32683471873571385 <= 0.47774122956019494 <= 2.2417325868132436\n",
      "0.32683471873571385 <= 1.0149378423994961 <= 2.2417325868132436\n",
      "0.32683471873571385 <= 1.6073670010192729 <= 2.2417325868132436\n",
      "2 :: 12.0\n",
      "+++++++++++++++++++++++++\n",
      "2.2417325868132436 <= 3.015198528163083 <= 3.3195528828234364\n",
      "3 :: 1.0\n",
      "+++++++++++++++++++++++++\n",
      "0.2821964590572183 <= 1.3170980635531124 <= 1.5926445004275893\n",
      "0.2821964590572183 <= 0.5550406388866039 <= 1.5926445004275893\n",
      "0.2821964590572183 <= 0.3066429569317196 <= 1.5926445004275893\n",
      "0.2821964590572183 <= 0.8514201478331345 <= 1.5926445004275893\n",
      "0.2821964590572183 <= 0.45386292707506387 <= 1.5926445004275893\n",
      "0.2821964590572183 <= 0.44611681177222556 <= 1.5926445004275893\n",
      "0.2821964590572183 <= 0.5857888828925591 <= 1.5926445004275893\n",
      "0.2821964590572183 <= 1.4297042783945333 <= 1.5926445004275893\n",
      "0.2821964590572183 <= 0.4513279230085344 <= 1.5926445004275893\n",
      "0.2821964590572183 <= 0.47774122956019494 <= 1.5926445004275893\n",
      "0.2821964590572183 <= 1.0149378423994961 <= 1.5926445004275893\n",
      "5 :: 11.0\n",
      "+++++++++++++++++++++++++\n",
      "0.03199111110053773 <= 0.23939539357822429 <= 0.25597884636059676\n",
      "0.03199111110053773 <= 0.13089726525352355 <= 0.25597884636059676\n",
      "0.03199111110053773 <= 0.17666470705976395 <= 0.25597884636059676\n",
      "0.03199111110053773 <= 0.06865038095390216 <= 0.25597884636059676\n",
      "0.03199111110053773 <= 0.12374827308923671 <= 0.25597884636059676\n",
      "7 :: 5.0\n",
      "+++++++++++++++++++++++++\n",
      "0.25597884636059676 <= 0.5550406388866039 <= 0.9687873403516863\n",
      "0.25597884636059676 <= 0.3066429569317196 <= 0.9687873403516863\n",
      "0.25597884636059676 <= 0.8514201478331345 <= 0.9687873403516863\n",
      "0.25597884636059676 <= 0.45386292707506387 <= 0.9687873403516863\n",
      "0.25597884636059676 <= 0.44611681177222556 <= 0.9687873403516863\n",
      "0.25597884636059676 <= 0.5857888828925591 <= 0.9687873403516863\n",
      "0.25597884636059676 <= 0.4513279230085344 <= 0.9687873403516863\n",
      "0.25597884636059676 <= 0.47774122956019494 <= 0.9687873403516863\n",
      "8 :: 8.0\n",
      "+++++++++++++++++++++++++\n",
      "\n",
      "\n",
      "[13.  0. 12.  1.  0. 11.  0.  5.  8.]\n",
      "++++++++++++++++++++\n",
      "3\n"
     ]
    }
   ],
   "source": [
    "# example 1\n",
    "X = np.random.exponential(1, 10)\n",
    "Y = np.random.exponential(1, 20)\n",
    "intervals = []\n",
    "for i in range(1, len(X + 1)):\n",
    "    intervals.append([X[i - 1], X[i]])\n",
    "\n",
    "res = np.zeros(len(intervals))\n",
    "for i, x in enumerate(intervals):\n",
    "    for item in Y:\n",
    "        if intervals[i][0] <= item <= intervals[i][1]:\n",
    "            print(f\"{intervals[i][0]} <= {item} <= {intervals[i][1]}\")\n",
    "            res[i] += 1\n",
    "    if res[i] != 0:\n",
    "        print(f\"{i} :: {res[i]}\")\n",
    "        print(\"+++++++++++++++++++++++++\")\n",
    "\n",
    "print()\n",
    "print()\n",
    "print(res)\n",
    "print(\"+\" * 20)\n",
    "print(np.count_nonzero(res == 0))\n"
   ]
  },
  {
   "cell_type": "code",
   "execution_count": 4,
   "metadata": {
    "pycharm": {
     "is_executing": true
    }
   },
   "outputs": [],
   "source": [
    "NM = [[500, 1000], [5000, 10000]]  #, [50000, 100000]]\n",
    "\n",
    "xi_empty = []\n",
    "crit_empty = []\n",
    "RES_empty = []\n",
    "for nm in NM:\n",
    "\n",
    "    n = nm[0]\n",
    "    m = nm[1]\n",
    "    ro = m / n\n",
    "\n",
    "    X = np.random.exponential(1, n)\n",
    "    Y = np.random.exponential(1, m)\n",
    "\n",
    "    # робимо інтервали [1 коорд, 2 коорд]\n",
    "    intervals = []\n",
    "    for i in range(1, len(X + 1)):\n",
    "        intervals.append([X[i - 1], X[i]])\n",
    "\n",
    "    # рахуємо кількість попадань у відрізок\n",
    "    res = np.zeros(len(intervals))\n",
    "    for i, x in enumerate(intervals):\n",
    "        for item in Y:\n",
    "            if intervals[i][0] <= item <= intervals[i][1]: res[i] += 1\n",
    "\n",
    "    xi_empty_temp = np.count_nonzero(res == 0)\n",
    "    xi_empty.append(xi_empty_temp)\n",
    "\n",
    "    crit = n / (1 + ro) + np.math.sqrt(n) * ro * z_gamma_empty / (1 + ro) ** (3 / 2)\n",
    "    crit_empty.append(crit)\n",
    "    if xi_empty_temp < crit:\n",
    "        RES_empty.append(\"H0\")\n",
    "    else:\n",
    "        RES_empty.append(\"False\")\n",
    "\n",
    "data_empty = {\"xi_empty (n, m)\": xi_empty, f\"crit\": crit_empty, \"Result\": RES_empty}\n",
    "df_empty = pd.DataFrame.from_dict(data_empty, orient='index', columns=[f\"n::{item[0]}; m::{item[1]}\" for item in NM])\n"
   ]
  },
  {
   "cell_type": "code",
   "execution_count": 5,
   "metadata": {
    "pycharm": {
     "is_executing": true
    }
   },
   "outputs": [
    {
     "data": {
      "text/html": [
       "<div>\n",
       "<style scoped>\n",
       "    .dataframe tbody tr th:only-of-type {\n",
       "        vertical-align: middle;\n",
       "    }\n",
       "\n",
       "    .dataframe tbody tr th {\n",
       "        vertical-align: top;\n",
       "    }\n",
       "\n",
       "    .dataframe thead th {\n",
       "        text-align: right;\n",
       "    }\n",
       "</style>\n",
       "<table border=\"1\" class=\"dataframe\">\n",
       "  <thead>\n",
       "    <tr style=\"text-align: right;\">\n",
       "      <th></th>\n",
       "      <th>n::500; m::1000</th>\n",
       "      <th>n::5000; m::10000</th>\n",
       "    </tr>\n",
       "  </thead>\n",
       "  <tbody>\n",
       "    <tr>\n",
       "      <th>xi_empty (n, m)</th>\n",
       "      <td>255</td>\n",
       "      <td>2491</td>\n",
       "    </tr>\n",
       "    <tr>\n",
       "      <th>crit</th>\n",
       "      <td>167.206361</td>\n",
       "      <td>1668.373329</td>\n",
       "    </tr>\n",
       "    <tr>\n",
       "      <th>Result</th>\n",
       "      <td>False</td>\n",
       "      <td>False</td>\n",
       "    </tr>\n",
       "  </tbody>\n",
       "</table>\n",
       "</div>"
      ],
      "text/plain": [
       "                n::500; m::1000 n::5000; m::10000\n",
       "xi_empty (n, m)             255              2491\n",
       "crit                 167.206361       1668.373329\n",
       "Result                    False             False"
      ]
     },
     "execution_count": 5,
     "metadata": {},
     "output_type": "execute_result"
    }
   ],
   "source": [
    "df_empty"
   ]
  },
  {
   "cell_type": "markdown",
   "metadata": {},
   "source": [
    "## Завдання 2"
   ]
  },
  {
   "cell_type": "markdown",
   "metadata": {},
   "source": [
    "### Ранжування"
   ]
  },
  {
   "cell_type": "code",
   "execution_count": 6,
   "metadata": {
    "pycharm": {
     "is_executing": true
    }
   },
   "outputs": [],
   "source": [
    "rank = lambda data: pd.Series(data).rank(method=\"min\").to_list()\n",
    "gamma = 0.05\n",
    "z_gamma = 0.0627"
   ]
  },
  {
   "cell_type": "markdown",
   "metadata": {},
   "source": [
    "### Критерій перевірки гіпотези $H_0$\n"
   ]
  },
  {
   "cell_type": "markdown",
   "metadata": {},
   "source": [
    "#### $\\rho_n(\\bar X, \\bar Y) = \\frac {\\sum^n_{i=1} (R_i  - \\bar R) (S_i - \\bar S)}  {[ \\sum^n_{i=1} (R_i  - \\bar R)^2 \\sum^m_{i=1}(S_i - \\bar S)^2 ]^{\\frac{1}{2}}}$\n",
    "\n",
    "##### $\\bar R = \\frac {1}{n} \\sum_{i=1}^n \\frac{n+1}{2}$\n",
    "##### $\\sum^n_{i=1} (R_i  - \\bar R)^2 = \\frac {n(n^2-1)}{12}$\n"
   ]
  },
  {
   "cell_type": "markdown",
   "metadata": {},
   "source": [
    "### критей Спірмана"
   ]
  },
  {
   "cell_type": "code",
   "execution_count": 7,
   "metadata": {
    "pycharm": {
     "is_executing": true
    }
   },
   "outputs": [],
   "source": [
    "def SpearMan(V):\n",
    "    n = len(V)\n",
    "    return 1 - 6 * np.sum(pow(V[:, 0] - V[:, 1], 2)) / (n * (pow(n, 2) - 1))\n",
    "    ..."
   ]
  },
  {
   "cell_type": "code",
   "execution_count": 13,
   "metadata": {
    "pycharm": {
     "is_executing": true
    }
   },
   "outputs": [
    {
     "name": "stdout",
     "output_type": "stream",
     "text": [
      "8\n"
     ]
    }
   ],
   "source": [
    "X = [5, 2, 1, 7, 8, 4, 6, 3]\n",
    "Y = [4, 3, 2, 1, 7, 6, 5, 8]\n",
    "\n",
    "n = 8\n",
    "print(n)\n",
    "\n",
    "res = np.array([X, Y])\n",
    "res = np.transpose(res)\n",
    "res = res[res[:, 0].argsort()]\n",
    "\n",
    "#test = abs(SpearMan(res))\n",
    "#print(test)"
   ]
  },
  {
   "cell_type": "code",
   "execution_count": 15,
   "metadata": {
    "pycharm": {
     "is_executing": true
    }
   },
   "outputs": [
    {
     "data": {
      "text/html": [
       "<div>\n",
       "<style scoped>\n",
       "    .dataframe tbody tr th:only-of-type {\n",
       "        vertical-align: middle;\n",
       "    }\n",
       "\n",
       "    .dataframe tbody tr th {\n",
       "        vertical-align: top;\n",
       "    }\n",
       "\n",
       "    .dataframe thead th {\n",
       "        text-align: right;\n",
       "    }\n",
       "</style>\n",
       "<table border=\"1\" class=\"dataframe\">\n",
       "  <thead>\n",
       "    <tr style=\"text-align: right;\">\n",
       "      <th></th>\n",
       "      <th>500</th>\n",
       "      <th>5000</th>\n",
       "      <th>50000</th>\n",
       "    </tr>\n",
       "  </thead>\n",
       "  <tbody>\n",
       "    <tr>\n",
       "      <th>Spearman statistic</th>\n",
       "      <td>0.024062</td>\n",
       "      <td>0.019931</td>\n",
       "      <td>0.002409</td>\n",
       "    </tr>\n",
       "    <tr>\n",
       "      <th>z_gamma</th>\n",
       "      <td>0.002804</td>\n",
       "      <td>0.000887</td>\n",
       "      <td>0.00028</td>\n",
       "    </tr>\n",
       "    <tr>\n",
       "      <th>Result</th>\n",
       "      <td>False</td>\n",
       "      <td>False</td>\n",
       "      <td>False</td>\n",
       "    </tr>\n",
       "  </tbody>\n",
       "</table>\n",
       "</div>"
      ],
      "text/plain": [
       "                       500       5000      50000\n",
       "Spearman statistic  0.024062  0.019931  0.002409\n",
       "z_gamma             0.002804  0.000887   0.00028\n",
       "Result                 False     False     False"
      ]
     },
     "execution_count": 15,
     "metadata": {},
     "output_type": "execute_result"
    }
   ],
   "source": [
    "N_arr = [500, 5000, 50000]\n",
    "z_gamma_spearman = [z_gamma / np.math.sqrt(n) for n in N_arr]\n",
    "\n",
    "RHO = []\n",
    "Hyp_Spearman = []\n",
    "for i, n in enumerate(N_arr):\n",
    "    data_xi = np.random.uniform(0, 1, n)\n",
    "    data_nu = np.random.uniform(-1, 1, n)\n",
    "    X = rank(data_xi)\n",
    "    Y = rank(data_xi * data_nu)\n",
    "\n",
    "    res = np.array([X, Y])\n",
    "    res = np.transpose(res)\n",
    "    res = res[res[:, 0].argsort()]\n",
    "\n",
    "    test = abs(SpearMan(res))\n",
    "    RHO.append(test)\n",
    "    if test < z_gamma_spearman[i]:\n",
    "        Hyp_Spearman.append(\"H0\")\n",
    "    else:\n",
    "        Hyp_Spearman.append(\"False\")\n",
    "\n",
    "data_Spearman = {\"Spearman statistic\": RHO, f\"z_gamma\": z_gamma_spearman, \"Result\": Hyp_Spearman}\n",
    "df_Spearman = pd.DataFrame.from_dict(data_Spearman, orient='index', columns=N_arr)\n",
    "\n",
    "df_Spearman"
   ]
  },
  {
   "cell_type": "markdown",
   "metadata": {},
   "source": [
    "### критерій Кендала"
   ]
  },
  {
   "cell_type": "code",
   "execution_count": 10,
   "metadata": {
    "pycharm": {
     "is_executing": true
    }
   },
   "outputs": [
    {
     "data": {
      "text/html": [
       "<div>\n",
       "<style scoped>\n",
       "    .dataframe tbody tr th:only-of-type {\n",
       "        vertical-align: middle;\n",
       "    }\n",
       "\n",
       "    .dataframe tbody tr th {\n",
       "        vertical-align: top;\n",
       "    }\n",
       "\n",
       "    .dataframe thead th {\n",
       "        text-align: right;\n",
       "    }\n",
       "</style>\n",
       "<table border=\"1\" class=\"dataframe\">\n",
       "  <thead>\n",
       "    <tr style=\"text-align: right;\">\n",
       "      <th></th>\n",
       "      <th>500</th>\n",
       "      <th>5000</th>\n",
       "      <th>50000</th>\n",
       "    </tr>\n",
       "  </thead>\n",
       "  <tbody>\n",
       "    <tr>\n",
       "      <th>Kendal statistic</th>\n",
       "      <td>0.3638</td>\n",
       "      <td>0.38278</td>\n",
       "      <td>0.391335</td>\n",
       "    </tr>\n",
       "    <tr>\n",
       "      <th>z_gamma</th>\n",
       "      <td>0.001869</td>\n",
       "      <td>0.000591</td>\n",
       "      <td>0.000187</td>\n",
       "    </tr>\n",
       "    <tr>\n",
       "      <th>Result</th>\n",
       "      <td>false</td>\n",
       "      <td>false</td>\n",
       "      <td>false</td>\n",
       "    </tr>\n",
       "  </tbody>\n",
       "</table>\n",
       "</div>"
      ],
      "text/plain": [
       "                     500       5000      50000\n",
       "Kendal statistic    0.3638   0.38278  0.391335\n",
       "z_gamma           0.001869  0.000591  0.000187\n",
       "Result               false     false     false"
      ]
     },
     "execution_count": 10,
     "metadata": {},
     "output_type": "execute_result"
    }
   ],
   "source": [
    "N_arr = [500, 5000, 50000]\n",
    "\n",
    "z_gamma_kendal = [z_gamma / np.math.sqrt(n) / 3 * 2 for n in N_arr]\n",
    "tau = []\n",
    "Hyp_Kendal = []\n",
    "for tmp, n in enumerate(N_arr):\n",
    "    data_xi = np.random.uniform(0, 1, n)\n",
    "    data_nu = np.random.uniform(-1, 1, n)\n",
    "    X = rank(data_xi)\n",
    "    Y = rank(data_xi * data_nu)\n",
    "\n",
    "    res = np.array([X, Y], np.int64)\n",
    "    res = np.transpose(res)\n",
    "    res = res[res[:, 0].argsort()]\n",
    "    P_q = 0\n",
    "    for i in res[1:-1, 0]:\n",
    "        if res[i, 1] > res[i - 1, 1]: P_q += res[i, 1] - res[i - 1, 1]\n",
    "\n",
    "    P_p = n * (n - 1) / 2 - P_q\n",
    "    res = 4 * P_p / (n * (n - 1)) - 1\n",
    "    tau.append(res)\n",
    "    if res < z_gamma_kendal[tmp]:\n",
    "        Hyp_Kendal.append(\"H0\")\n",
    "    else:\n",
    "        Hyp_Kendal.append(\"false\")\n",
    "\n",
    "data_Kendal = {\"Kendal statistic\": tau, f\"z_gamma\": z_gamma_kendal, \"Result\": Hyp_Kendal}\n",
    "df_Kendal = pd.DataFrame.from_dict(data_Kendal, orient='index', columns=N_arr)\n",
    "\n",
    "df_Kendal"
   ]
  },
  {
   "cell_type": "code",
   "execution_count": 11,
   "metadata": {
    "pycharm": {
     "is_executing": true
    }
   },
   "outputs": [
    {
     "name": "stdout",
     "output_type": "stream",
     "text": [
      "15 76.0 -0.6703296703296704\n"
     ]
    }
   ],
   "source": [
    "data_xi = [100, 118, 112, 97, 99, 103, 102, 132, 122, 121, 115, 117, 109, 111]\n",
    "data_nu = [154, 123, 120, 213, 200, 187, 155, 100, 114, 115, 107, 176, 143, 111]\n",
    "n = len(data_xi)\n",
    "X = rank(data_xi)\n",
    "Y = rank(data_nu)\n",
    "\n",
    "res = np.array([X, Y], np.int64)\n",
    "res = np.transpose(res)\n",
    "res = res[res[:, 0].argsort()]\n",
    "P_q = 0\n",
    "for i in res[1:-1, 0]:\n",
    "    if res[i, 1] > res[i - 1, 1]: P_q += res[i, 1] - res[i - 1, 1]\n",
    "\n",
    "P_p = n * (n - 1) / 2 - P_q\n",
    "print(P_q, P_p, 4 * P_q / (n * (n - 1)) - 1)\n"
   ]
  },
  {
   "cell_type": "markdown",
   "metadata": {},
   "source": [
    "### Завдання 3\n",
    "#### Критерій інверсій\n",
    "\n",
    "У даномоу методі будемо перевіряти гіпотезу випадковості (повного хаосу), що означає:\n",
    "$$H_0: F_{\\overline{x}}(u_1, \\ldots, u_n) = F_{\\xi}(u_1) \\cdot F_{\\xi}(u_2) \\cdot \\ldots \\cdot F_{\\xi}(u_n)$$\n",
    "\n",
    "**Алгоритм обчислення:**\n",
    "1. Згенерувати $n$ спостережень\n",
    "2. Обчислюємо \"хаос\" $k$ у варіаційному ряді,\n",
    "3. Обчислюємо критичну область $\\dfrac{z_{\\gamma} n \\sqrt{n}}{6}$\n",
    "4. Рахуємо статистику $S_n(\\overline{X}) = \\Big| k - \\dfrac{n(n-1)}{4}  \\Big|$\n",
    "5. Порівнюємо $ \\Big| k - \\dfrac{n(n-1)}{4}  \\Big| \\bigvee  \\dfrac{z_{\\gamma} n \\sqrt{n}}{6}$\n",
    "як $<$, приймаємо гіпотезу $H_0$, інакше -- ні"
   ]
  },
  {
   "cell_type": "code",
   "execution_count": 12,
   "metadata": {
    "pycharm": {
     "is_executing": true
    }
   },
   "outputs": [
    {
     "name": "stdout",
     "output_type": "stream",
     "text": [
      "k_0: 61030\n",
      "k_1: 6271691\n"
     ]
    },
    {
     "data": {
      "text/html": [
       "<div>\n",
       "<style scoped>\n",
       "    .dataframe tbody tr th:only-of-type {\n",
       "        vertical-align: middle;\n",
       "    }\n",
       "\n",
       "    .dataframe tbody tr th {\n",
       "        vertical-align: top;\n",
       "    }\n",
       "\n",
       "    .dataframe thead th {\n",
       "        text-align: right;\n",
       "    }\n",
       "</style>\n",
       "<table border=\"1\" class=\"dataframe\">\n",
       "  <thead>\n",
       "    <tr style=\"text-align: right;\">\n",
       "      <th></th>\n",
       "      <th>500</th>\n",
       "      <th>5000</th>\n",
       "    </tr>\n",
       "  </thead>\n",
       "  <tbody>\n",
       "    <tr>\n",
       "      <th>LAMBDA</th>\n",
       "      <td>1345.0</td>\n",
       "      <td>22941.0</td>\n",
       "    </tr>\n",
       "    <tr>\n",
       "      <th>z_gamma</th>\n",
       "      <td>116.834552</td>\n",
       "      <td>3694.632932</td>\n",
       "    </tr>\n",
       "    <tr>\n",
       "      <th>Result</th>\n",
       "      <td>false</td>\n",
       "      <td>false</td>\n",
       "    </tr>\n",
       "  </tbody>\n",
       "</table>\n",
       "</div>"
      ],
      "text/plain": [
       "               500          5000\n",
       "LAMBDA       1345.0      22941.0\n",
       "z_gamma  116.834552  3694.632932\n",
       "Result        false        false"
      ]
     },
     "execution_count": 12,
     "metadata": {},
     "output_type": "execute_result"
    }
   ],
   "source": [
    "N_arr = [500, 5000]  #, 50000]\n",
    "z_gamma_inv = [z_gamma / 6 * n ** (3 / 2) for n in N_arr]\n",
    "LAMBDA = []\n",
    "RES_inv = []\n",
    "\n",
    "for tmp, n in enumerate(N_arr):\n",
    "    X = np.random.normal(-1, 1, n)\n",
    "    k = 0\n",
    "\n",
    "    for x in range(1, len(X) - 1):\n",
    "        for j in range(x, len(X)):\n",
    "            i = j - 1\n",
    "            if (X[j] < X[i]) and (i < j): k += 1\n",
    "\n",
    "    print(f\"k_{tmp}: {k}\")\n",
    "\n",
    "    statistic = (abs(k - n * (n - 1) / 4))\n",
    "    LAMBDA.append(statistic)\n",
    "    if statistic < z_gamma_inv[tmp]:\n",
    "        RES_inv.append(\"H0\")\n",
    "    else:\n",
    "        RES_inv.append(\"false\")\n",
    "\n",
    "data_inv = {\"LAMBDA\": LAMBDA, f\"z_gamma\": z_gamma_inv, \"Result\": RES_inv}\n",
    "df_inv = pd.DataFrame.from_dict(data_inv, orient='index', columns=N_arr)\n",
    "\n",
    "df_inv"
   ]
  }
 ],
 "metadata": {
  "interpreter": {
   "hash": "6787530bf9925b057af33f954282f7ad07558b12920f3eef54087b2f6236d6d8"
  },
  "kernelspec": {
   "display_name": "Python 3 (ipykernel)",
   "language": "python",
   "name": "python3"
  },
  "language_info": {
   "codemirror_mode": {
    "name": "ipython",
    "version": 3
   },
   "file_extension": ".py",
   "mimetype": "text/x-python",
   "name": "python",
   "nbconvert_exporter": "python",
   "pygments_lexer": "ipython3",
   "version": "3.10.6"
  }
 },
 "nbformat": 4,
 "nbformat_minor": 2
}
