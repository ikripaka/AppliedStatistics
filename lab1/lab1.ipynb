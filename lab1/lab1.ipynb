{
 "cells": [
  {
   "cell_type": "markdown",
   "metadata": {
    "datalore": {
     "hide_input_from_viewers": false,
     "hide_output_from_viewers": false,
     "node_id": "5lapjHK1aE9TkCgCY5F2C1",
     "report_properties": {},
     "type": "MD"
    }
   },
   "source": [
    "# Побудова оцінок та довірчих інтервалів\n",
    "\n",
    "Будуємо довірчі інтервали для `n = 100, 10_000, 1_000_000`\n",
    "Рівень довіри = `0,99` (рівень значущості = `0.01`\n",
    "\n",
    "#### Довірчі інтервали для м.с. та дисперсії у випадку нормально розподіленої генеральної сукупності.\n",
    "##### Перша частина леми 1. (Пункт А):\n",
    "Вибіркове математичне сподівання: $\\hat{a}_{n}=\\frac {1}{n}\\sum^{n}_{k=1}X_k$\n",
    "Вибіркова дисперсія: $\\hat{\\sigma}^2_{n}=\\frac {1}{n}\\sum^{n}_{k=1}(X_k-\\hat{a}_{n})^2$\n",
    "Дов інтервал $a \\in a_n \\pm \\frac{z_{\\gamma}  \\sigma_n}{\\sqrt{n}}$\n",
    "К-ть ітерацій: $n$"
   ]
  },
  {
   "cell_type": "code",
   "execution_count": 1,
   "metadata": {
    "datalore": {
     "hide_input_from_viewers": false,
     "hide_output_from_viewers": false,
     "node_id": "wB7NV6mEKWFPAUAsMfU0Vi",
     "report_properties": {},
     "type": "CODE"
    },
    "pycharm": {
     "is_executing": true
    }
   },
   "outputs": [],
   "source": [
    "import math\n",
    "\n",
    "import numpy as np\n",
    "from scipy.stats import chi2, t, norm"
   ]
  },
  {
   "cell_type": "code",
   "execution_count": 2,
   "metadata": {
    "datalore": {
     "hide_input_from_viewers": false,
     "hide_output_from_viewers": false,
     "node_id": "DBZrm0ZZIGaKtWw3BWo8Th",
     "report_properties": {},
     "type": "CODE"
    },
    "pycharm": {
     "is_executing": true
    }
   },
   "outputs": [],
   "source": [
    "def calc_sample_variance(samples, sample_mean: float):\n",
    "    squared_variance = 0.\n",
    "    for sample in samples:\n",
    "        squared_variance += (sample - sample_mean) ** 2\n",
    "\n",
    "    squared_variance /= (len(samples) - 1)\n",
    "    return math.sqrt(squared_variance)\n",
    "\n",
    "\n",
    "def calc_sample_mean(samples):\n",
    "    mean = 0.\n",
    "    for sample in samples:\n",
    "        mean += sample\n",
    "    return mean / len(samples)\n",
    "\n",
    "\n",
    "def calc_s_squared(samples, sample_mean):\n",
    "    s_squared = 0\n",
    "    for sample in samples:\n",
    "        s_squared += (sample - sample_mean) ** 2\n",
    "\n",
    "    s_squared /= (len(samples) - 1)\n",
    "    return s_squared\n",
    "\n",
    "\n",
    "# generating samples with help of N(0,1) distribution\n",
    "def gen_samples(size: int):\n",
    "    samples = size * [None]\n",
    "    for i in range(size):\n",
    "        samples[i] = np.random.normal(0, 1)\n",
    "    return samples"
   ]
  },
  {
   "cell_type": "code",
   "execution_count": 3,
   "metadata": {
    "datalore": {
     "hide_input_from_viewers": false,
     "hide_output_from_viewers": false,
     "node_id": "fngB1jHY38n7oEjFK2Fszf",
     "report_properties": {},
     "type": "CODE"
    }
   },
   "outputs": [
    {
     "name": "stdout",
     "output_type": "stream",
     "text": [
      "samples_num_ci:[100, 10000, 1000000]\n",
      "m_arr:[1, 10, 100, 1000, 10000]\n"
     ]
    }
   ],
   "source": [
    "n_arr = [100, 10_000, 1_000_000]  # for calculating Confidence Intervals\n",
    "m_arr = [1, 10, 100, 1_000, 10_000]  # for calculating Q_m\n",
    "\n",
    "samples_list = len(n_arr) * [None]\n",
    "alfa = 0.01\n",
    "gama = 1 - alfa\n",
    "z_gama = 2.575  # norm distro 0.99 quantile\n",
    "\n",
    "Q_m = lambda q, n: np.sum(q) / n\n",
    "# calculating variance in integral methods\n",
    "# незміщена?\n",
    "calc_variance = lambda q, n, Q: (1 / (n - 1)) * (np.sum([qi ** 2 for qi in q]) - n * Q ** 2)\n",
    "\n",
    "eta = lambda x: 1 / x - 1\n",
    "xi_i = lambda x: -1 * np.log(x)\n",
    "\n",
    "# calculating 0.99 quantiles\n",
    "print(f\"samples_num_ci:{n_arr}\\nm_arr:{m_arr}\")"
   ]
  },
  {
   "cell_type": "code",
   "execution_count": 4,
   "metadata": {
    "datalore": {
     "hide_input_from_viewers": false,
     "hide_output_from_viewers": false,
     "node_id": "tQN7QAHOy8NgMFWYLEIVKv",
     "report_properties": {},
     "type": "CODE"
    },
    "pycharm": {
     "is_executing": true
    }
   },
   "outputs": [],
   "source": [
    "# calculating Confidence Interval for the EXPECTATION(sigma^2) under the assumption:\n",
    "# - observed random value ~ N(0,1)\n",
    "# - sample variance is unknown\n",
    "def calculate_ci_1(samples):\n",
    "    sample_mean = calc_sample_mean(samples)\n",
    "    n_sq_root = math.sqrt(len(samples))\n",
    "    s_squared = calc_s_squared(samples, sample_mean)\n",
    "\n",
    "    g = t.ppf((1 + gama) / 2, df=len(samples) - 1)\n",
    "    return [sample_mean - math.sqrt(s_squared) * g / n_sq_root, sample_mean + math.sqrt(s_squared) * g / n_sq_root]\n",
    "\n",
    "\n",
    "# calculating Confidence Interval for the EXPECTATION under assumption:\n",
    "# - observed value distribution is unknown\n",
    "# asymptotic confidence interval\n",
    "def calculate_ci_2(samples, gama):\n",
    "    sample_mean = calc_sample_mean(samples)\n",
    "    sample_variance = calc_sample_variance(samples, sample_mean)\n",
    "\n",
    "    n_sq_root = math.sqrt(len(samples))\n",
    "\n",
    "    c = norm.ppf((1 + gama) / 2)\n",
    "    return [sample_mean - sample_variance * c / n_sq_root, sample_mean + sample_variance * c / n_sq_root]\n",
    "\n",
    "\n",
    "# calculating Confidence Interval for the variance under assumption:\n",
    "# - observed random value ~ N(0,1)\n",
    "def calculate_ci_3(samples, gama):\n",
    "    sample_mean = calc_sample_mean(samples)\n",
    "    g_1 = chi2.ppf((1 - gama) / 2, df=len(samples) - 1)\n",
    "    g_2 = chi2.ppf((1 + gama) / 2, df=len(samples) - 1)\n",
    "\n",
    "    squared_difference = 0\n",
    "    for sample in samples:\n",
    "        squared_difference = (sample - sample_mean) ** 2\n",
    "\n",
    "    return [squared_difference / g_2, squared_difference / g_1]"
   ]
  },
  {
   "cell_type": "code",
   "execution_count": 5,
   "metadata": {
    "datalore": {
     "hide_input_from_viewers": false,
     "hide_output_from_viewers": false,
     "node_id": "ItjCIxLPIinFWCfESUqDGn",
     "report_properties": {},
     "type": "CODE"
    }
   },
   "outputs": [
    {
     "name": "stdout",
     "output_type": "stream",
     "text": [
      "\n",
      "[1] Довірчий інтервал для мат. спод. M при невідомій дисперсії\n",
      "Кількість спостережень: n = 100\n",
      "Вибіркове математичне сподівання: -0.014112862771841478\n",
      "Довірчий інтервал:[-0.27835801756618267 ; 0.2501322920224997]\n",
      "Довжина довірчого інтервалу: 0.5284903095886824\n",
      "\n",
      "[2] Довірчий інтервал для мат. спод. M при невідомому розподілі\n",
      "Кількість спостережень: n = 100\n",
      "Вибіркове математичне сподівання: -0.014112862771841478\n",
      "Довірчий інтервал:[-0.2732695026521448 ; 0.2450437771084618]\n",
      "Довжина довірчого інтервалу: 0.5183132797606066\n",
      "\n",
      "[3] Довірчий інтервал для дисперсії\n",
      "Кількість спостережень: n = 100\n",
      "Вибіркова дисперсія = 1.0061095256709949\n",
      "Довірчий інтервал:[2.0030059247709372e-06 ; 4.1857000444384354e-06]\n",
      "Довжина довірчого інтервалу: 2.182694119667498e-06\n",
      "\n",
      "[1] Довірчий інтервал для мат. спод. M при невідомій дисперсії\n",
      "Кількість спостережень: n = 10000\n",
      "Вибіркове математичне сподівання: 0.010642912384757076\n",
      "Довірчий інтервал:[-0.01510604923341709 ; 0.03639187400293124]\n",
      "Довжина довірчого інтервалу: 0.05149792323634833\n",
      "\n",
      "[2] Довірчий інтервал для мат. спод. M при невідомому розподілі\n",
      "Кількість спостережень: n = 10000\n",
      "Вибіркове математичне сподівання: 0.010642912384757076\n",
      "Довірчий інтервал:[-0.01510113403038771 ; 0.036386958799901864]\n",
      "Довжина довірчого інтервалу: 0.05148809283028957\n",
      "\n",
      "[3] Довірчий інтервал для дисперсії\n",
      "Кількість спостережень: n = 10000\n",
      "Вибіркова дисперсія = 0.9994469113180525\n",
      "Довірчий інтервал:[0.0001100262336800613 ; 0.00011834246102608227]\n",
      "Довжина довірчого інтервалу: 8.316227346020976e-06\n",
      "\n",
      "[1] Довірчий інтервал для мат. спод. M при невідомій дисперсії\n",
      "Кількість спостережень: n = 1000000\n",
      "Вибіркове математичне сподівання: -0.0004103450813638935\n",
      "Довірчий інтервал:[-0.0029852776405489613 ; 0.0021645874778211745]\n",
      "Довжина довірчого інтервалу: 0.005149865118370136\n",
      "\n",
      "[2] Довірчий інтервал для мат. спод. M при невідомому розподілі\n",
      "Кількість спостережень: n = 1000000\n",
      "Вибіркове математичне сподівання: -0.0004103450813638935\n",
      "Довірчий інтервал:[-0.002985272725708635 ; 0.002164582562980848]\n",
      "Довжина довірчого інтервалу: 0.005149855288689483\n",
      "\n",
      "[3] Довірчий інтервал для дисперсії\n",
      "Кількість спостережень: n = 1000000\n",
      "Вибіркова дисперсія = 0.9996499538215065\n",
      "Довірчий інтервал:[2.8259506233590687e-08 ; 2.846614420929567e-08]\n",
      "Довжина довірчого інтервалу: 2.06637975704981e-10\n"
     ]
    }
   ],
   "source": [
    "for i, sample_size in enumerate(n_arr):\n",
    "    samples_list[i] = gen_samples(sample_size)\n",
    "    sample_mean = calc_sample_mean(samples_list[i])\n",
    "    sample_variance = calc_sample_variance(samples_list[i], sample_mean)\n",
    "\n",
    "    ci_1 = calculate_ci_1(samples_list[i])\n",
    "    print('\\n[1] Довірчий інтервал для мат. спод. M при невідомій дисперсії')\n",
    "    print(f'Кількість спостережень: n = {sample_size}')\n",
    "    print(f'Вибіркове математичне сподівання: {sample_mean}')\n",
    "    print(f'Довірчий інтервал:[{ci_1[0]} ; {ci_1[1]}]')\n",
    "    print(f'Довжина довірчого інтервалу: {ci_1[1] - ci_1[0]}')\n",
    "\n",
    "    ci_2 = calculate_ci_2(samples_list[i], gama)\n",
    "    print('\\n[2] Довірчий інтервал для мат. спод. M при невідомому розподілі')\n",
    "    print(f'Кількість спостережень: n = {sample_size}')\n",
    "    print(f'Вибіркове математичне сподівання: {sample_mean}')\n",
    "    print(f'Довірчий інтервал:[{ci_2[0]} ; {ci_2[1]}]')\n",
    "    print(f'Довжина довірчого інтервалу: {ci_2[1] - ci_2[0]}')\n",
    "\n",
    "    ci_3 = calculate_ci_3(samples_list[i], gama)\n",
    "    print('\\n[3] Довірчий інтервал для дисперсії')\n",
    "    print(f'Кількість спостережень: n = {sample_size}')\n",
    "    print(f'Вибіркова дисперсія = {sample_variance}')\n",
    "    print(f'Довірчий інтервал:[{ci_3[0]} ; {ci_3[1]}]')\n",
    "    print(f'Довжина довірчого інтервалу: {ci_3[1] - ci_3[0]}')"
   ]
  },
  {
   "cell_type": "markdown",
   "metadata": {
    "datalore": {
     "hide_input_from_viewers": false,
     "hide_output_from_viewers": false,
     "node_id": "XrFVdlkFBfA0eQsLFLLSMW",
     "report_properties": {},
     "type": "MD"
    }
   },
   "source": [
    "# Метод 1\n",
    "Будемо обраховувати інтеграл за допомогою методу Монте-Карло:\n",
    "$$Q_m = \\bf{M}(I(\\eta > \\xi_{1} + \\ldots + \\xi_m))$$\n",
    "\n",
    "(варто підмітити, що із збільшенням m значення інтеграла зменшується у $\\sqrt{m}$ разів)"
   ]
  },
  {
   "cell_type": "code",
   "execution_count": 6,
   "metadata": {
    "datalore": {
     "hide_input_from_viewers": false,
     "hide_output_from_viewers": false,
     "node_id": "q0u7I3LyobdoZd4MCtF7s1",
     "report_properties": {},
     "type": "CODE"
    }
   },
   "outputs": [
    {
     "name": "stdout",
     "output_type": "stream",
     "text": [
      "Кількість зразків: 1\n",
      "Оцінка Q: 0.6901\n",
      "Вибіркова дисперсія: 0.21388337833783375\n",
      "Асимптотичний довірчий інтервал: [0.6781874263907887, 0.7020125736092114]\n",
      "Кількість спостережень: 10000\n",
      "N*: 29778.817433982196\n",
      "\n",
      "Кількість зразків: 10\n",
      "Оцінка Q: 0.1711\n",
      "Вибіркова дисперсія: 0.14183897389738975\n",
      "Асимптотичний довірчий інтервал: [0.16139903651277826, 0.18080096348722174]\n",
      "Кількість спостережень: 10000\n",
      "N*: 321255.0981866159\n",
      "\n",
      "Кількість зразків: 100\n",
      "Оцінка Q: 0.0175\n",
      "Вибіркова дисперсія: 0.017195469546954695\n",
      "Асимптотичний довірчий інтервал: [0.014122276470016662, 0.020877723529983343]\n",
      "Кількість спостережень: 10000\n",
      "N*: 3722994.6208906597\n",
      "\n",
      "Кількість зразків: 1000\n",
      "Оцінка Q: 0.0028\n",
      "Вибіркова дисперсія: 0.0027924392439243927\n",
      "Асимптотичний довірчий інтервал: [0.0014388407276122613, 0.0041611592723877384]\n",
      "Кількість спостережень: 10000\n",
      "N*: 23616859.007329307\n",
      "\n"
     ]
    }
   ],
   "source": [
    "q_1 = lambda eta, samples: 1 if eta > np.sum(samples) else 0\n",
    "m_arr = [1, 10, 100, 1_000]  # for calculating Q_m\n",
    "n_0 = 10000  #\n",
    "\n",
    "for m in m_arr:\n",
    "    indicators = []\n",
    "\n",
    "    for j in range(n_0):\n",
    "        samples = np.random.random(m)\n",
    "        indicators.append(q_1(eta(np.random.random(1)), samples))\n",
    "\n",
    "    Q = Q_m(indicators, len(indicators))\n",
    "    sigma = calc_variance(indicators, len(indicators), Q)\n",
    "\n",
    "    print(f\"Кількість зразків: {m}\")\n",
    "    print(f\"Оцінка Q: {Q}\")\n",
    "    print(f\"Вибіркова дисперсія: {sigma}\")\n",
    "    print(f\"Асимптотичний довірчий інтервал: {calculate_ci_2(indicators, gama)}\")\n",
    "    print(f\"Кількість спостережень: {n_0}\")\n",
    "    print(f\"N*: {(z_gama * 100) ** 2 * sigma / (Q ** 2)}\\n\")"
   ]
  },
  {
   "cell_type": "markdown",
   "metadata": {
    "datalore": {
     "hide_input_from_viewers": false,
     "hide_output_from_viewers": false,
     "node_id": "WuuqlJYtqjnro91VIZAXuY",
     "report_properties": {},
     "type": "MD"
    }
   },
   "source": [
    "# Метод 2\n",
    "\n",
    "$$Q_m = \\bf{M} \\frac{1}{1+\\xi_1 + \\ldots + \\xi_m}$$\n"
   ]
  },
  {
   "cell_type": "code",
   "execution_count": null,
   "metadata": {
    "datalore": {
     "hide_input_from_viewers": true,
     "hide_output_from_viewers": true,
     "node_id": "OMI16L5MZCQ2hFaOB8h8Jm",
     "type": "CODE"
    }
   },
   "outputs": [],
   "source": []
  },
  {
   "cell_type": "code",
   "execution_count": 7,
   "metadata": {
    "datalore": {
     "hide_input_from_viewers": false,
     "hide_output_from_viewers": false,
     "node_id": "mFL4fdwIv92FvowUhSqdAN",
     "report_properties": {},
     "type": "CODE"
    }
   },
   "outputs": [
    {
     "name": "stdout",
     "output_type": "stream",
     "text": [
      "Кількість зразків: 1\n",
      "Оцінка Q: 0.6831284608009885\n",
      "Вибіркова дисперсія: 0.017179828773842245\n",
      "Асимптотичний довірчий інтервал: [0.6493665906605931, 0.7168903309413842]\n",
      "Кількість спостережень: 100\n",
      "N*: 2441.00426835169\n",
      "\n",
      "Кількість зразків: 10\n",
      "Оцінка Q: 0.17138982443397455\n",
      "Вибіркова дисперсія: 0.0008435661919523854\n",
      "Асимптотичний довірчий інтервал: [0.16390853145767612, 0.17887111741027292]\n",
      "Кількість спостережень: 100\n",
      "N*: 1904.1605571126988\n",
      "\n",
      "Кількість зразків: 100\n",
      "Оцінка Q: 0.019660097856589353\n",
      "Вибіркова дисперсія: 1.2401263380989286e-06\n",
      "Асимптотичний довірчий інтервал: [0.01937325103291007, 0.019946944680268634]\n",
      "Кількість спостережень: 100\n",
      "N*: 212.7399474679719\n",
      "\n",
      "Кількість зразків: 1000\n",
      "Оцінка Q: 0.001996764880835993\n",
      "Вибіркова дисперсія: 1.6707865261333337e-09\n",
      "Асимптотичний довірчий інтервал: [0.001986236112701366, 0.0020072936489706206]\n",
      "Кількість спостережень: 100\n",
      "N*: 27.78571467133126\n",
      "\n",
      "Кількість зразків: 10000\n",
      "Оцінка Q: 0.0001998678189002261\n",
      "Вибіркова дисперсія: 1.6084685038629628e-12\n",
      "Асимптотичний довірчий інтервал: [0.00019954113828847886, 0.00020019449951197348]\n",
      "Кількість спостережень: 100\n",
      "N*: 2.6698156939377475\n",
      "\n"
     ]
    }
   ],
   "source": [
    "\n",
    "m_arr = [1, 10, 100, 1_000, 10_000]  # for calculating Q_m\n",
    "n_0 = 100\n",
    "q_2 = lambda samples: 1 / (1 + np.sum(samples))\n",
    "\n",
    "for m in m_arr:\n",
    "    indicators = []\n",
    "    for j in range(n_0):\n",
    "        samples = np.random.random(m)\n",
    "        indicators.append(q_2(samples))\n",
    "    Q = Q_m(indicators, len(indicators))\n",
    "    sigma = calc_variance(indicators, len(indicators), Q)\n",
    "    print(f\"Кількість зразків: {m}\")\n",
    "    print(f\"Оцінка Q: {Q}\")\n",
    "    print(f\"Вибіркова дисперсія: {sigma}\")\n",
    "    print(f\"Асимптотичний довірчий інтервал: {calculate_ci_2(indicators, gama)}\")\n",
    "    print(f\"Кількість спостережень: {n_0}\")\n",
    "    print(f\"N*: {(2.575 * 100) ** 2 * sigma / (Q ** 2)}\\n\")"
   ]
  },
  {
   "cell_type": "markdown",
   "metadata": {
    "datalore": {
     "hide_input_from_viewers": false,
     "hide_output_from_viewers": false,
     "node_id": "9IeihVfT5MQ8FrqIBjOkYA",
     "report_properties": {},
     "type": "MD"
    }
   },
   "source": [
    "# Метод 4\n",
    "\n",
    "$$\n",
    "Q_m = \\frac{1}{m-1} \\bf{M} \\frac{\\xi_1 + \\ldots + \\xi_{m-1}}{1+\\xi_1 + \\ldots + \\xi_{m-1}}\n",
    "$$"
   ]
  },
  {
   "cell_type": "code",
   "execution_count": 8,
   "metadata": {
    "datalore": {
     "hide_input_from_viewers": false,
     "hide_output_from_viewers": false,
     "node_id": "PdgbhAee9lmoZGH69VCQEs",
     "report_properties": {},
     "type": "CODE"
    }
   },
   "outputs": [
    {
     "name": "stdout",
     "output_type": "stream",
     "text": [
      "Кількість зразків: 1\n",
      "Оцінка Q: 0.6906684924118055\n",
      "Вибіркова дисперсія: 0.033639057298284536\n",
      "Асимптотичний довірчий інтервал: [0.47939063416350436, 0.9019463506601066]\n",
      "Кількість спостережень: 5\n",
      "N*: 4675.833031203439\n",
      "\n",
      "Кількість зразків: 10\n",
      "Оцінка Q: 0.14677748785120465\n",
      "Вибіркова дисперсія: 0.00031842364836962705\n",
      "Асимптотичний довірчий інтервал: [0.1262216712425051, 0.1673333044599042]\n",
      "Кількість спостережень: 5\n",
      "N*: 980.0334072561062\n",
      "\n",
      "Кількість зразків: 100\n",
      "Оцінка Q: 0.02017893724091381\n",
      "Вибіркова дисперсія: 9.574382510026515e-07\n",
      "Асимптотичний довірчий інтервал: [0.01905177231977184, 0.021306102162055782]\n",
      "Кількість спостережень: 5\n",
      "N*: 155.90809379011128\n",
      "\n",
      "Кількість зразків: 1000\n",
      "Оцінка Q: 0.001995570588493485\n",
      "Вибіркова дисперсія: 3.907945610043713e-09\n",
      "Асимптотичний довірчий інтервал: [0.0019235583464161012, 0.002067582830570869]\n",
      "Кількість спостережень: 5\n",
      "N*: 65.06819932788676\n",
      "\n",
      "Кількість зразків: 10000\n",
      "Оцінка Q: 0.0001999279720467157\n",
      "Вибіркова дисперсія: 1.6563953230731117e-12\n",
      "Асимптотичний довірчий інтервал: [0.00019844540591334775, 0.00020141053818008363]\n",
      "Кількість спостережень: 5\n",
      "N*: 2.747712824692526\n",
      "\n"
     ]
    }
   ],
   "source": [
    "m_arr = [1, 10, 100, 1_000, 10_000]  # for calculation Q_m\n",
    "n_0 = 5\n",
    "q_4 = lambda m, x, samples: (1 / (m - 1)) * ((np.sum(samples)) / (1 + np.sum(samples)))\n",
    "\n",
    "for m in m_arr:\n",
    "    indicators = []\n",
    "    for j in range(n_0):\n",
    "        samples = np.random.random(m)\n",
    "        indicators.append(q_2(samples))\n",
    "\n",
    "    Q = Q_m(indicators, len(indicators))\n",
    "    sigma = calc_variance(indicators, len(indicators), Q)\n",
    "\n",
    "    print(f\"Кількість зразків: {m}\")\n",
    "    print(f\"Оцінка Q: {Q}\")\n",
    "    print(f\"Вибіркова дисперсія: {sigma}\")\n",
    "    print(f\"Асимптотичний довірчий інтервал: {calculate_ci_2(indicators, gama)}\")\n",
    "    print(f\"Кількість спостережень: {n_0}\")\n",
    "    print(f\"N*: {(2.575 * 100) ** 2 * sigma / (Q ** 2)}\\n\")"
   ]
  }
 ],
 "metadata": {
  "datalore": {
   "base_environment": "default",
   "computation_mode": "JUPYTER",
   "package_manager": "pip",
   "packages": [],
   "version": 1
  },
  "kernelspec": {
   "display_name": "Python 3 (ipykernel)",
   "language": "python",
   "name": "python3"
  },
  "language_info": {
   "codemirror_mode": {
    "name": "ipython",
    "version": 3
   },
   "file_extension": ".py",
   "mimetype": "text/x-python",
   "name": "python",
   "nbconvert_exporter": "python",
   "pygments_lexer": "ipython3",
   "version": "3.10.6"
  }
 },
 "nbformat": 4,
 "nbformat_minor": 4
}
