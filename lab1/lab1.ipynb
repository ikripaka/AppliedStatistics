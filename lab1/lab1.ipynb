{
 "cells": [
  {
   "attachments": {},
   "cell_type": "markdown",
   "metadata": {
    "datalore": {
     "hide_input_from_viewers": false,
     "hide_output_from_viewers": false,
     "node_id": "5lapjHK1aE9TkCgCY5F2C1",
     "report_properties": {},
     "type": "MD"
    }
   },
   "source": [
    "# Побудова оцінок та довірчих інтервалів\n",
    "\n",
    "Будуємо довірчі інтервали для `n = 100, 10_000, 1_000_000`\n",
    "Рівень довіри = `0,99` (рівень значущості = `0.01`\n",
    "\n",
    "#### Довірчі інтервали для м.с. та дисперсії у випадку нормально розподіленої генеральної сукупності.\n",
    "##### Перша частина леми 1. (Пункт А):\n",
    "Вибіркове математичне сподівання: $\\hat{a}_{n}=\\frac {1}{n}\\sum^{n}_{k=1}X_k$\n",
    "Вибіркова дисперсія: $\\hat{\\sigma}^2_{n}=\\frac {1}{n}\\sum^{n}_{k=1}(X_k-\\hat{a}_{n})^2$\n",
    "Дов інтервал $a \\in a_n \\pm \\frac{z_{\\gamma}  \\sigma_n}{\\sqrt{n}}$\n",
    "К-ть ітерацій: $n$"
   ]
  },
  {
   "cell_type": "code",
   "execution_count": 10,
   "metadata": {
    "datalore": {
     "hide_input_from_viewers": false,
     "hide_output_from_viewers": false,
     "node_id": "wB7NV6mEKWFPAUAsMfU0Vi",
     "report_properties": {},
     "type": "CODE"
    }
   },
   "outputs": [],
   "source": [
    "import math\n",
    "\n",
    "import numpy as np\n",
    "from scipy.stats import chi2, t, norm"
   ]
  },
  {
   "cell_type": "code",
   "execution_count": 11,
   "metadata": {
    "datalore": {
     "hide_input_from_viewers": false,
     "hide_output_from_viewers": false,
     "node_id": "DBZrm0ZZIGaKtWw3BWo8Th",
     "report_properties": {},
     "type": "CODE"
    }
   },
   "outputs": [],
   "source": [
    "def calc_sample_variance(samples, sample_mean: float):\n",
    "    squared_variance = 0.\n",
    "    for sample in samples:\n",
    "        squared_variance += (sample - sample_mean) ** 2\n",
    "\n",
    "    squared_variance /= (len(samples) - 1)\n",
    "    return math.sqrt(squared_variance)\n",
    "\n",
    "\n",
    "def calc_sample_mean(samples):\n",
    "    mean = 0.\n",
    "    for sample in samples:\n",
    "        mean += sample\n",
    "    return mean / len(samples)\n",
    "\n",
    "\n",
    "def calc_s_squared(samples, sample_mean):\n",
    "    s_squared = 0\n",
    "    for sample in samples:\n",
    "        s_squared += (sample - sample_mean) ** 2\n",
    "\n",
    "    s_squared /= (len(samples) - 1)\n",
    "    return s_squared\n",
    "\n",
    "\n",
    "# generating samples with help of N(0,1) distribution\n",
    "def gen_samples(size: int):\n",
    "    samples = size * [None]\n",
    "    for i in range(size):\n",
    "        samples[i] = np.random.normal(0, 1)\n",
    "    return samples"
   ]
  },
  {
   "cell_type": "code",
   "execution_count": 12,
   "metadata": {
    "datalore": {
     "hide_input_from_viewers": false,
     "hide_output_from_viewers": false,
     "node_id": "fngB1jHY38n7oEjFK2Fszf",
     "report_properties": {},
     "type": "CODE"
    }
   },
   "outputs": [
    {
     "name": "stdout",
     "output_type": "stream",
     "text": [
      "samples_num_ci:[100, 10000, 1000000]\n",
      "m_arr:[1, 10, 100, 1000, 10000]\n"
     ]
    }
   ],
   "source": [
    "n_arr = [100, 10_000, 1_000_000]  # for calculating Confidence Intervals\n",
    "m_arr = [1, 10, 100, 1_000, 10_000]  # for calculating Q_m\n",
    "\n",
    "samples_list = len(n_arr) * [None]\n",
    "alfa = 0.01\n",
    "gama = 1 - alfa\n",
    "z_gama = 2.575  # norm distro 0.99 quantile\n",
    "\n",
    "Q_m = lambda q, n: np.sum(q) / n\n",
    "# calculating variance in integral methods\n",
    "# незміщена?\n",
    "calc_variance = lambda q, n, Q: (1 / (n - 1)) * (np.sum([qi ** 2 for qi in q]) - n * Q ** 2)\n",
    "\n",
    "eta = lambda x: 1 / x - 1\n",
    "xi_i = lambda x: -1 * np.log(x)\n",
    "\n",
    "# calculating 0.99 quantiles\n",
    "print(f\"samples_num_ci:{n_arr}\\nm_arr:{m_arr}\")"
   ]
  },
  {
   "cell_type": "code",
   "execution_count": 13,
   "metadata": {
    "datalore": {
     "hide_input_from_viewers": false,
     "hide_output_from_viewers": false,
     "node_id": "tQN7QAHOy8NgMFWYLEIVKv",
     "report_properties": {},
     "type": "CODE"
    }
   },
   "outputs": [],
   "source": [
    "# calculating Confidence Interval for the EXPECTATION(sigma^2) under the assumption:\n",
    "# - observed random value ~ N(0,1)\n",
    "# - sample variance is unknown\n",
    "def calculate_ci_1(samples):\n",
    "    sample_mean = calc_sample_mean(samples)\n",
    "    n_sq_root = math.sqrt(len(samples))\n",
    "    s_squared = calc_s_squared(samples, sample_mean)\n",
    "\n",
    "    g = t.ppf((1 + gama) / 2, df=len(samples) - 1)\n",
    "    return [sample_mean - math.sqrt(s_squared) * g / n_sq_root, sample_mean + math.sqrt(s_squared) * g / n_sq_root]\n",
    "\n",
    "\n",
    "# calculating Confidence Interval for the EXPECTATION under assumption:\n",
    "# - observed value distribution is unknown\n",
    "# asymptotic confidence interval\n",
    "def calculate_ci_2(samples, gama):\n",
    "    sample_mean = calc_sample_mean(samples)\n",
    "    sample_variance = calc_sample_variance(samples, sample_mean)\n",
    "\n",
    "    n_sq_root = math.sqrt(len(samples))\n",
    "\n",
    "    c = norm.ppf((1 + gama) / 2)\n",
    "    return [sample_mean - sample_variance * c / n_sq_root, sample_mean + sample_variance * c / n_sq_root]\n",
    "\n",
    "\n",
    "# calculating Confidence Interval for the variance under assumption:\n",
    "# - observed random value ~ N(0,1)\n",
    "def calculate_ci_3(samples, gama):\n",
    "    sample_mean = calc_sample_mean(samples)\n",
    "    g_1 = chi2.ppf((1 - gama) / 2, df=len(samples) - 1)\n",
    "    g_2 = chi2.ppf((1 + gama) / 2, df=len(samples) - 1)\n",
    "\n",
    "    squared_difference = 0\n",
    "    for sample in samples:\n",
    "        squared_difference = (sample - sample_mean) ** 2\n",
    "\n",
    "    return [squared_difference / g_2, squared_difference / g_1]"
   ]
  },
  {
   "cell_type": "code",
   "execution_count": 14,
   "metadata": {
    "datalore": {
     "hide_input_from_viewers": false,
     "hide_output_from_viewers": false,
     "node_id": "ItjCIxLPIinFWCfESUqDGn",
     "report_properties": {},
     "type": "CODE"
    }
   },
   "outputs": [
    {
     "name": "stdout",
     "output_type": "stream",
     "text": [
      "\n",
      "[1] Довірчий інтервал для мат. спод. M при невідомій дисперсії\n",
      "Кількість спостережень: n = 100\n",
      "Вибіркове математичне сподівання: -0.04259839099926314\n",
      "Довірчий інтервал:[-0.2952052699945802 ; 0.2100084879960539]\n",
      "Довжина довірчого інтервалу: 0.5052137579906341\n",
      "\n",
      "[2] Довірчий інтервал для мат. спод. M при невідомому розподілі\n",
      "Кількість спостережень: n = 100\n",
      "Вибіркове математичне сподівання: -0.04259839099926314\n",
      "Довірчий інтервал:[-0.29034087097785405 ; 0.2051440889793278]\n",
      "Довжина довірчого інтервалу: 0.49548495995718184\n",
      "\n",
      "[3] Lовірчий інтервал для дисперсії\n",
      "Кількість спостережень: n = 100\n",
      "Вибіркова дисперсія = 0.9617969623890014\n",
      "Довірчий інтервал:[0.0005988133301462133 ; 0.0012513457656846269]\n",
      "Довжина довірчого інтервалу: 0.0006525324355384135\n",
      "\n",
      "[1] Довірчий інтервал для мат. спод. M при невідомій дисперсії\n",
      "Кількість спостережень: n = 10000\n",
      "Вибіркове математичне сподівання: 0.020098354942593568\n",
      "Довірчий інтервал:[-0.005972714988537586 ; 0.04616942487372472]\n",
      "Довжина довірчого інтервалу: 0.05214213986226231\n",
      "\n",
      "[2] Довірчий інтервал для мат. спод. M при невідомому розподілі\n",
      "Кількість спостережень: n = 10000\n",
      "Вибіркове математичне сподівання: 0.020098354942593568\n",
      "Довірчий інтервал:[-0.005967738298455677 ; 0.04616444818364281]\n",
      "Довжина довірчого інтервалу: 0.05213218648209849\n",
      "\n",
      "[3] Lовірчий інтервал для дисперсії\n",
      "Кількість спостережень: n = 10000\n",
      "Вибіркова дисперсія = 1.0119495575710766\n",
      "Довірчий інтервал:[0.00016513747657222145 ; 0.00017761923435478995]\n",
      "Довжина довірчого інтервалу: 1.2481757782568497e-05\n",
      "\n",
      "[1] Довірчий інтервал для мат. спод. M при невідомій дисперсії\n",
      "Кількість спостережень: n = 1000000\n",
      "Вибіркове математичне сподівання: 0.000910513067884073\n",
      "Довірчий інтервал:[-0.001665143120521741 ; 0.0034861692562898868]\n",
      "Довжина довірчого інтервалу: 0.005151312376811628\n",
      "\n",
      "[2] Довірчий інтервал для мат. спод. M при невідомому розподілі\n",
      "Кількість спостережень: n = 1000000\n",
      "Вибіркове математичне сподівання: 0.000910513067884073\n",
      "Довірчий інтервал:[-0.0016651382043002048 ; 0.0034861643400683506]\n",
      "Довжина довірчого інтервалу: 0.005151302544368555\n",
      "\n",
      "[3] Lовірчий інтервал для дисперсії\n",
      "Кількість спостережень: n = 1000000\n",
      "Вибіркова дисперсія = 0.9999308838654886\n",
      "Довірчий інтервал:[1.326859920800979e-06 ; 1.3365621302384702e-06]\n",
      "Довжина довірчого інтервалу: 9.7022094374912e-09\n"
     ]
    }
   ],
   "source": [
    "for i, sample_size in enumerate(n_arr):\n",
    "    samples_list[i] = gen_samples(sample_size)\n",
    "    sample_mean = calc_sample_mean(samples_list[i])\n",
    "    sample_variance = calc_sample_variance(samples_list[i], sample_mean)\n",
    "\n",
    "    ci_1 = calculate_ci_1(samples_list[i])\n",
    "    print('\\n[1] Довірчий інтервал для мат. спод. M при невідомій дисперсії')\n",
    "    print(f'Кількість спостережень: n = {sample_size}')\n",
    "    print(f'Вибіркове математичне сподівання: {sample_mean}')\n",
    "    print(f'Довірчий інтервал:[{ci_1[0]} ; {ci_1[1]}]')\n",
    "    print(f'Довжина довірчого інтервалу: {ci_1[1] - ci_1[0]}')\n",
    "\n",
    "    ci_2 = calculate_ci_2(samples_list[i], gama)\n",
    "    print('\\n[2] Довірчий інтервал для мат. спод. M при невідомому розподілі')\n",
    "    print(f'Кількість спостережень: n = {sample_size}')\n",
    "    print(f'Вибіркове математичне сподівання: {sample_mean}')\n",
    "    print(f'Довірчий інтервал:[{ci_2[0]} ; {ci_2[1]}]')\n",
    "    print(f'Довжина довірчого інтервалу: {ci_2[1] - ci_2[0]}')\n",
    "\n",
    "    ci_3 = calculate_ci_3(samples_list[i], gama)\n",
    "    print('\\n[3] Lовірчий інтервал для дисперсії')\n",
    "    print(f'Кількість спостережень: n = {sample_size}')\n",
    "    print(f'Вибіркова дисперсія = {sample_variance}')\n",
    "    print(f'Довірчий інтервал:[{ci_3[0]} ; {ci_3[1]}]')\n",
    "    print(f'Довжина довірчого інтервалу: {ci_3[1] - ci_3[0]}')"
   ]
  },
  {
   "attachments": {},
   "cell_type": "markdown",
   "metadata": {
    "datalore": {
     "hide_input_from_viewers": false,
     "hide_output_from_viewers": false,
     "node_id": "XrFVdlkFBfA0eQsLFLLSMW",
     "report_properties": {},
     "type": "MD"
    }
   },
   "source": [
    "# Метод 1\n",
    "Будемо обраховувати інтеграл за допомогою методу Монте-Карло:\n",
    "$$Q_m = \\bf{M}(I(\\eta > \\xi_{1} + \\ldots + \\xi_m))$$\n",
    "\n",
    "(варто підмітити, що із збільшенням m значення інтеграла зменшується у $\\sqrt{m}$ разів)"
   ]
  },
  {
   "cell_type": "code",
   "execution_count": 15,
   "metadata": {
    "datalore": {
     "hide_input_from_viewers": false,
     "hide_output_from_viewers": false,
     "node_id": "q0u7I3LyobdoZd4MCtF7s1",
     "report_properties": {},
     "type": "CODE"
    }
   },
   "outputs": [
    {
     "name": "stdout",
     "output_type": "stream",
     "text": [
      "Кількість зразків: 1\n",
      "Оцінка Q: 0.7036\n",
      "Вибіркова дисперсія: 0.20858875775155034\n",
      "Асимптотичний довірчий інтервал: [0.6869629038602472, 0.7202370961397528]\n",
      "Кількість спостережень: 5000\n",
      "N*: 27937.896419534052\n",
      "\n",
      "Кількість зразків: 10\n",
      "Оцінка Q: 0.1636\n",
      "Вибіркова дисперсія: 0.1368624124824965\n",
      "Асимптотичний довірчий інтервал: [0.15012359131379818, 0.1770764086862018]\n",
      "Кількість спостережень: 5000\n",
      "N*: 339056.4879479564\n",
      "\n",
      "Кількість зразків: 100\n",
      "Оцінка Q: 0.0152\n",
      "Вибіркова дисперсія: 0.014971954390878176\n",
      "Асимптотичний довірчий інтервал: [0.01074270554486938, 0.01965729445513062]\n",
      "Кількість спостережень: 5000\n",
      "N*: 4296806.400753835\n",
      "\n",
      "Кількість зразків: 1000\n",
      "Оцінка Q: 0.0016\n",
      "Вибіркова дисперсія: 0.001597759551910382\n",
      "Асимптотичний довірчий інтервал: [0.00014391144361205945, 0.0030560885563879407]\n",
      "Кількість спостережень: 5000\n",
      "N*: 41383376.675335065\n",
      "\n"
     ]
    }
   ],
   "source": [
    "q_1 = lambda eta, samples: 1 if eta > np.sum(samples) else 0\n",
    "m_arr = [1, 10, 100, 1_000]  # for calculating Q_m\n",
    "n_0 = 5000  #\n",
    "\n",
    "for m in m_arr:\n",
    "    indicators = []\n",
    "\n",
    "    for j in range(n_0):\n",
    "        samples = np.random.random(m)\n",
    "        indicators.append(q_1(eta(np.random.random(1)), samples))\n",
    "\n",
    "    Q = Q_m(indicators, len(indicators))\n",
    "    sigma = calc_variance(indicators, len(indicators), Q)\n",
    "\n",
    "    print(f\"Кількість зразків: {m}\")\n",
    "    print(f\"Оцінка Q: {Q}\")\n",
    "    print(f\"Вибіркова дисперсія: {sigma}\")\n",
    "    print(f\"Асимптотичний довірчий інтервал: {calculate_ci_2(indicators, gama)}\")\n",
    "    print(f\"Кількість спостережень: {n_0}\")\n",
    "    print(f\"N*: {(2.575 * 100) ** 2 * sigma / (Q ** 2)}\\n\")"
   ]
  },
  {
   "attachments": {},
   "cell_type": "markdown",
   "metadata": {},
   "source": [
    "Метод 2"
   ]
  },
  {
   "cell_type": "code",
   "execution_count": 16,
   "metadata": {
    "datalore": {
     "hide_input_from_viewers": false,
     "hide_output_from_viewers": false,
     "node_id": "mFL4fdwIv92FvowUhSqdAN",
     "report_properties": {},
     "type": "CODE"
    }
   },
   "outputs": [
    {
     "name": "stdout",
     "output_type": "stream",
     "text": [
      "Кількість зразків: 1\n",
      "Оцінка Q: 0.6909606530548138\n",
      "Вибіркова дисперсія: 0.021020157331772215\n",
      "Асимптотичний довірчий інтервал: [0.6536154297413147, 0.728305876368312]\n",
      "Кількість спостережень: 100\n",
      "N*: 2919.3340647790487\n",
      "\n",
      "Кількість зразків: 10\n",
      "Оцінка Q: 0.17217434045309546\n",
      "Вибіркова дисперсія: 0.0007247906732450595\n",
      "Асимптотичний довірчий інтервал: [0.16523970911872327, 0.17910897178746749]\n",
      "Кількість спостережень: 100\n",
      "N*: 1621.1761532446276\n",
      "\n",
      "Кількість зразків: 100\n",
      "Оцінка Q: 0.019578885293872774\n",
      "Вибіркова дисперсія: 8.625088759545349e-07\n",
      "Асимптотичний довірчий інтервал: [0.019339664533707175, 0.019818106054038366]\n",
      "Кількість спостережень: 100\n",
      "N*: 149.19082508118805\n",
      "\n",
      "Кількість зразків: 1000\n",
      "Оцінка Q: 0.0019965912736311995\n",
      "Вибіркова дисперсія: 1.0334469480729866e-09\n",
      "Асимптотичний довірчий інтервал: [0.0019883106857033427, 0.0020048718615590564]\n",
      "Кількість спостережень: 100\n",
      "N*: 17.189542438635527\n",
      "\n",
      "Кількість зразків: 10000\n",
      "Оцінка Q: 0.00019995887504449156\n",
      "Вибіркова дисперсія: 1.2673912987417323e-12\n",
      "Асимптотичний довірчий інтервал: [0.00019966889211016183, 0.00020024885797882146]\n",
      "Кількість спостережень: 100\n",
      "N*: 2.1017633679389958\n",
      "\n"
     ]
    }
   ],
   "source": [
    "\n",
    "m_arr = [1, 10, 100, 1_000, 10_000]  # for calculating Q_m\n",
    "n_0 = 100\n",
    "q_2 = lambda samples: 1 / (1 + np.sum(samples))\n",
    "\n",
    "for m in m_arr:\n",
    "    indicators = []\n",
    "    for j in range(n_0):\n",
    "        samples = np.random.random(m)\n",
    "        indicators.append(q_2(samples))\n",
    "    Q = Q_m(indicators, len(indicators))\n",
    "    sigma = calc_variance(indicators, len(indicators), Q)\n",
    "    print(f\"Кількість зразків: {m}\")\n",
    "    print(f\"Оцінка Q: {Q}\")\n",
    "    print(f\"Вибіркова дисперсія: {sigma}\")\n",
    "    print(f\"Асимптотичний довірчий інтервал: {calculate_ci_2(indicators, gama)}\")\n",
    "    print(f\"Кількість спостережень: {n_0}\")\n",
    "    print(f\"N*: {(2.575 * 100) ** 2 * sigma / (Q ** 2)}\\n\")"
   ]
  },
  {
   "attachments": {},
   "cell_type": "markdown",
   "metadata": {},
   "source": [
    "Метод 4"
   ]
  },
  {
   "cell_type": "code",
   "execution_count": 17,
   "metadata": {},
   "outputs": [
    {
     "name": "stdout",
     "output_type": "stream",
     "text": [
      "Кількість зразків: 1\n",
      "Оцінка Q: 0.6763812779654477\n",
      "Вибіркова дисперсія: 0.02257625255644735\n",
      "Асимптотичний довірчий інтервал: [0.5032968469206133, 0.8494657090102821]\n",
      "Кількість спостережень: 5\n",
      "N*: 3272.0743670406237\n",
      "\n",
      "Кількість зразків: 10\n",
      "Оцінка Q: 0.1847351312375894\n",
      "Вибіркова дисперсія: 0.0003790521134224706\n",
      "Асимптотичний довірчий інтервал: [0.16230759646911017, 0.2071626660060686]\n",
      "Кількість спостережень: 5\n",
      "N*: 736.4688835924711\n",
      "\n",
      "Кількість зразків: 100\n",
      "Оцінка Q: 0.01970261854829894\n",
      "Вибіркова дисперсія: 1.3675849866464198e-06\n",
      "Асимптотичний довірчий інтервал: [0.01835548938006688, 0.021049747716531]\n",
      "Кількість спостережень: 5\n",
      "N*: 233.5935746410745\n",
      "\n",
      "Кількість зразків: 1000\n",
      "Оцінка Q: 0.0019923615653446797\n",
      "Вибіркова дисперсія: 4.049320668294233e-09\n",
      "Асимптотичний довірчий інтервал: [0.0019190583267552329, 0.0020656648039341263]\n",
      "Кількість спостережень: 5\n",
      "N*: 67.63949034959347\n",
      "\n",
      "Кількість зразків: 10000\n",
      "Оцінка Q: 0.00020028756806775625\n",
      "Вибіркова дисперсія: 2.5191353785154504e-12\n",
      "Асимптотичний довірчий інтервал: [0.0001984592244041919, 0.0002021159117313206]\n",
      "Кількість спостережень: 5\n",
      "N*: 4.163877913195475\n",
      "\n"
     ]
    }
   ],
   "source": [
    "m_arr = [1, 10, 100, 1_000, 10_000]  # for calculation Q_m\n",
    "n_0 = 5\n",
    "q_4 = lambda m, x, samples: (1 / (m - 1)) * ((np.sum(samples)) / (1 + np.sum(samples)))\n",
    "\n",
    "for m in m_arr:\n",
    "    indicators = []\n",
    "    for j in range(n_0):\n",
    "        samples = np.random.random(m)\n",
    "        indicators.append(q_2(samples))\n",
    "\n",
    "    Q = Q_m(indicators, len(indicators))\n",
    "    sigma = calc_variance(indicators, len(indicators), Q)\n",
    "\n",
    "    print(f\"Кількість зразків: {m}\")\n",
    "    print(f\"Оцінка Q: {Q}\")\n",
    "    print(f\"Вибіркова дисперсія: {sigma}\")\n",
    "    print(f\"Асимптотичний довірчий інтервал: {calculate_ci_2(indicators, gama)}\")\n",
    "    print(f\"Кількість спостережень: {n_0}\")\n",
    "    print(f\"N*: {(2.575 * 100) ** 2 * sigma / (Q ** 2)}\\n\")"
   ]
  }
 ],
 "metadata": {
  "datalore": {
   "base_environment": "default",
   "computation_mode": "JUPYTER",
   "package_manager": "pip",
   "packages": [],
   "version": 1
  },
  "kernelspec": {
   "display_name": "Python 3",
   "language": "python",
   "name": "python3"
  },
  "language_info": {
   "codemirror_mode": {
    "name": "ipython",
    "version": 3
   },
   "file_extension": ".py",
   "mimetype": "text/x-python",
   "name": "python",
   "nbconvert_exporter": "python",
   "pygments_lexer": "ipython3",
   "version": "3.10.6"
  },
  "vscode": {
   "interpreter": {
    "hash": "916dbcbb3f70747c44a77c7bcd40155683ae19c65e1c03b4aa3499c5328201f1"
   }
  }
 },
 "nbformat": 4,
 "nbformat_minor": 4
}
