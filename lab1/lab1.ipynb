{
 "cells":[
  {
   "cell_type":"markdown",
   "source":[
    "# Побудова оцінок та довірчих інтервалів\n",
    "\n",
    "Будуємо довірчі інтервали для `n = 100, 10_000, 1_000_000`\n",
    "Рівень довіри = `0,99` (рівень значущості = `0.01`\n",
    "\n",
    "#### Довірчі інтервали для м.с. та дисперсії у випадку нормально розподіленої генеральної сукупності.\n",
    "##### Перша частина леми 1. (Пункт А):\n",
    "Вибіркове математичне сподівання: $\\hat{a}_{n}=\\frac {1}{n}\\sum^{n}_{k=1}X_k$\n",
    "Вибіркова дисперсія: $\\hat{\\sigma}^2_{n}=\\frac {1}{n}\\sum^{n}_{k=1}(X_k-\\hat{a}_{n})^2$\n",
    "Дов інтервал $a \\in a_n \\pm \\frac{z_{\\gamma}  \\sigma_n}{\\sqrt{n}}$\n",
    "К-ть ітерацій: $n$"
   ],
   "attachments":{
    
   },
   "metadata":{
    "datalore":{
     "node_id":"5lapjHK1aE9TkCgCY5F2C1",
     "type":"MD",
     "hide_input_from_viewers":false,
     "hide_output_from_viewers":false,
     "report_properties":{
      
     }
    }
   }
  },
  {
   "cell_type":"code",
   "source":[
    "import math\n",
    "\n",
    "import numpy as np\n",
    "from scipy.stats import chi2, t, norm"
   ],
   "execution_count":2,
   "outputs":[
    
   ],
   "metadata":{
    "datalore":{
     "node_id":"wB7NV6mEKWFPAUAsMfU0Vi",
     "type":"CODE",
     "hide_input_from_viewers":false,
     "hide_output_from_viewers":false,
     "report_properties":{
      
     }
    }
   }
  },
  {
   "cell_type":"code",
   "source":[
    "def calc_sample_variance(samples, sample_mean: float):\n",
    "    squared_variance = 0.\n",
    "    for sample in samples:\n",
    "        squared_variance += (sample - sample_mean) ** 2\n",
    "\n",
    "    squared_variance \/= (len(samples) - 1)\n",
    "    return math.sqrt(squared_variance)\n",
    "\n",
    "\n",
    "def calc_sample_mean(samples):\n",
    "    mean = 0.\n",
    "    for sample in samples:\n",
    "        mean += sample\n",
    "    return mean \/ len(samples)\n",
    "\n",
    "\n",
    "def calc_s_squared(samples, sample_mean):\n",
    "    s_squared = 0\n",
    "    for sample in samples:\n",
    "        s_squared += (sample - sample_mean) ** 2\n",
    "\n",
    "    s_squared \/= (len(samples) - 1)\n",
    "    return s_squared\n",
    "\n",
    "\n",
    "# generating samples with help of N(0,1) distribution\n",
    "def gen_samples(size: int):\n",
    "    samples = size * [None]\n",
    "    for i in range(size):\n",
    "        samples[i] = np.random.normal(0, 1)\n",
    "    return samples"
   ],
   "execution_count":3,
   "outputs":[
    
   ],
   "metadata":{
    "datalore":{
     "node_id":"DBZrm0ZZIGaKtWw3BWo8Th",
     "type":"CODE",
     "hide_input_from_viewers":false,
     "hide_output_from_viewers":false,
     "report_properties":{
      
     }
    }
   }
  },
  {
   "cell_type":"code",
   "source":[
    "n_arr = [100, 10_000, 1_000_000]  # for calculating Confidence Intervals\n",
    "m_arr = [1, 10, 100, 1_000, 10_000]  # for calculating Q_m\n",
    "\n",
    "samples_list = len(n_arr) * [None]\n",
    "alfa = 0.01\n",
    "gama = 1 - alfa\n",
    "z_gama = 2.575  # norm distro 0.99 quantile\n",
    "\n",
    "Q_m = lambda q, n: np.sum(q) \/ n\n",
    "# calculating variance in integral methods\n",
    "# незміщена?\n",
    "calc_variance = lambda q, n, Q: (1 \/ (n-1)) * (np.sum([qi**2 for qi in q]) - n * Q ** 2)\n",
    "\n",
    "eta = lambda x: 1 \/ x - 1\n",
    "xi_i = lambda x: -1 * np.log(x)\n",
    "\n",
    "# calculating 0.99 quantiles\n",
    "print(f\"samples_num_ci:{n_arr}\\nm_arr:{m_arr}\")"
   ],
   "execution_count":4,
   "outputs":[
    {
     "name":"stdout",
     "text":[
      "samples_num_ci:[100, 10000, 1000000]\n",
      "m_arr:[1, 10, 100, 1000, 10000]\n"
     ],
     "output_type":"stream"
    }
   ],
   "metadata":{
    "datalore":{
     "node_id":"fngB1jHY38n7oEjFK2Fszf",
     "type":"CODE",
     "hide_input_from_viewers":false,
     "hide_output_from_viewers":false,
     "report_properties":{
      
     }
    }
   }
  },
  {
   "cell_type":"code",
   "source":[
    "# calculating Confidence Interval for the EXPECTATION(sigma^2) under the assumption:\n",
    "# - observed random value ~ N(0,1)\n",
    "# - sample variance is unknown\n",
    "def calculate_ci_1(samples):\n",
    "    sample_mean = calc_sample_mean(samples)\n",
    "    n_sq_root = math.sqrt(len(samples))\n",
    "    s_squared = calc_s_squared(samples, sample_mean)\n",
    "\n",
    "    g = t.ppf((1 + gama) \/ 2, df=len(samples) - 1)\n",
    "    return [sample_mean - math.sqrt(s_squared) * g \/ n_sq_root, sample_mean + math.sqrt(s_squared) * g \/ n_sq_root]\n",
    "\n",
    "\n",
    "# calculating Confidence Interval for the EXPECTATION under assumption:\n",
    "# - observed value distribution is unknown\n",
    "# asymptotic confidence interval\n",
    "def calculate_ci_2(samples, gama):\n",
    "    sample_mean = calc_sample_mean(samples)\n",
    "    sample_variance = calc_sample_variance(samples, sample_mean)\n",
    "\n",
    "    n_sq_root = math.sqrt(len(samples))\n",
    "\n",
    "    c = norm.ppf((1 + gama) \/ 2)\n",
    "    return [sample_mean - sample_variance * c \/ n_sq_root, sample_mean + sample_variance * c \/ n_sq_root]\n",
    "\n",
    "\n",
    "# calculating Confidence Interval for the variance under assumption:\n",
    "# - observed random value ~ N(0,1)\n",
    "def calculate_ci_3(samples, gama):\n",
    "    sample_mean = calc_sample_mean(samples)\n",
    "    g_1 = chi2.ppf((1 - gama) \/ 2, df=len(samples) - 1)\n",
    "    g_2 = chi2.ppf((1 + gama) \/ 2, df=len(samples) - 1)\n",
    "\n",
    "    squared_difference = 0\n",
    "    for sample in samples:\n",
    "        squared_difference = (sample - sample_mean) ** 2\n",
    "\n",
    "    return [squared_difference \/ g_2, squared_difference \/ g_1]"
   ],
   "execution_count":5,
   "outputs":[
    
   ],
   "metadata":{
    "datalore":{
     "node_id":"tQN7QAHOy8NgMFWYLEIVKv",
     "type":"CODE",
     "hide_input_from_viewers":false,
     "hide_output_from_viewers":false,
     "report_properties":{
      
     }
    }
   }
  },
  {
   "cell_type":"code",
   "source":[
    "\n",
    "def calculate_2_integral():\n",
    "    pass"
   ],
   "execution_count":6,
   "outputs":[
    
   ],
   "metadata":{
    "datalore":{
     "node_id":"nXGGVzEBU6hwST6pJ9RyrG",
     "type":"CODE",
     "hide_input_from_viewers":false,
     "hide_output_from_viewers":false,
     "report_properties":{
      
     }
    }
   }
  },
  {
   "cell_type":"code",
   "source":[
    "def calculate_3_integral():\n",
    "    pass"
   ],
   "execution_count":7,
   "outputs":[
    
   ],
   "metadata":{
    "datalore":{
     "node_id":"tO9AP1ju30rPBVg1wDQ8rh",
     "type":"CODE",
     "hide_input_from_viewers":false,
     "hide_output_from_viewers":false,
     "report_properties":{
      
     }
    }
   }
  },
  {
   "cell_type":"code",
   "source":[
    "for i, sample_size in enumerate(n_arr):\n",
    "    samples_list[i] = gen_samples(sample_size)\n",
    "    sample_mean = calc_sample_mean(samples_list[i])\n",
    "    sample_variance = calc_sample_variance(samples_list[i], sample_mean)\n",
    "\n",
    "    ci_1 = calculate_ci_1(samples_list[i])\n",
    "    print('\\n[1] Довірчий інтервал для мат. спод. M при невідомій дисперсії')\n",
    "    print(f'Кількість спостережень: n = {sample_size}')\n",
    "    print(f'Вибіркове математичне сподівання: {sample_mean}')\n",
    "    print(f'Довірчий інтервал:[{ci_1[0]} ; {ci_1[1]}]')\n",
    "    print(f'Довжина довірчого інтервалу: {ci_1[1] - ci_1[0]}')\n",
    "\n",
    "    ci_2 = calculate_ci_2(samples_list[i], gama)\n",
    "    print('\\n[2] Довірчий інтервал для мат. спод. M при невідомому розподілі')\n",
    "    print(f'Кількість спостережень: n = {sample_size}')\n",
    "    print(f'Вибіркове математичне сподівання: {sample_mean}')\n",
    "    print(f'Довірчий інтервал:[{ci_2[0]} ; {ci_2[1]}]')\n",
    "    print(f'Довжина довірчого інтервалу: {ci_2[1] - ci_2[0]}')\n",
    "\n",
    "    ci_3 = calculate_ci_3(samples_list[i], gama)\n",
    "    print('\\n[3] Lовірчий інтервал для дисперсії')\n",
    "    print(f'Кількість спостережень: n = {sample_size}')\n",
    "    print(f'Вибіркова дисперсія = {sample_variance}')\n",
    "    print(f'Довірчий інтервал:[{ci_3[0]} ; {ci_3[1]}]')\n",
    "    print(f'Довжина довірчого інтервалу: {ci_3[1] - ci_3[0]}')"
   ],
   "execution_count":8,
   "outputs":[
    {
     "name":"stdout",
     "text":[
      "\n",
      "[1] Довірчий інтервал для мат. спод. M при невідомій дисперсії\n",
      "Кількість спостережень: n = 100\n",
      "Вибіркове математичне сподівання: 0.06884792739108217\n",
      "Довірчий інтервал:[-0.18979237771574328 ; 0.3274882324979076]\n",
      "Довжина довірчого інтервалу: 0.5172806102136509\n",
      "\n",
      "[2] Довірчий інтервал для мат. спод. M при невідомому розподілі\n",
      "Кількість спостережень: n = 100\n",
      "Вибіркове математичне сподівання: 0.06884792739108217\n",
      "Довірчий інтервал:[-0.18481179424607966 ; 0.322507649028244]\n",
      "Довжина довірчого інтервалу: 0.5073194432743237\n",
      "\n",
      "[3] Lовірчий інтервал для дисперсії\n",
      "Кількість спостережень: n = 100\n",
      "Вибіркова дисперсія = 0.9847691432335096\n",
      "Довірчий інтервал:[0.0006583494511301198 ; 0.001375758949473151]\n",
      "Довжина довірчого інтервалу: 0.0007174094983430312\n",
      "\n",
      "[1] Довірчий інтервал для мат. спод. M при невідомій дисперсії\n",
      "Кількість спостережень: n = 10000\n",
      "Вибіркове математичне сподівання: 0.005106193537922027\n",
      "Довірчий інтервал:[-0.020475835938235286 ; 0.030688223014079342]\n",
      "Довжина довірчого інтервалу: 0.05116405895231463\n",
      "\n",
      "[2] Довірчий інтервал для мат. спод. M при невідомому розподілі\n",
      "Кількість спостережень: n = 10000\n",
      "Вибіркове математичне сподівання: 0.005106193537922027\n",
      "Довірчий інтервал:[-0.02047095260077712 ; 0.030683339676621176]\n",
      "Довжина довірчого інтервалу: 0.051154292277398296\n",
      "\n",
      "[3] Lовірчий інтервал для дисперсії\n",
      "Кількість спостережень: n = 10000\n",
      "Вибіркова дисперсія = 0.9929674339623252\n",
      "Довірчий інтервал:[1.5858185721578893e-05 ; 1.7056811479682733e-05]\n",
      "Довжина довірчого інтервалу: 1.1986257581038398e-06\n",
      "\n",
      "[1] Довірчий інтервал для мат. спод. M при невідомій дисперсії\n",
      "Кількість спостережень: n = 1000000\n",
      "Вибіркове математичне сподівання: 6.87220376801977e-05\n",
      "Довірчий інтервал:[-0.00250570277045421 ; 0.0026431468458146053]\n",
      "Довжина довірчого інтервалу: 0.005148849616268815\n",
      "\n",
      "[2] Довірчий інтервал для мат. спод. M при невідомому розподілі\n",
      "Кількість спостережень: n = 1000000\n",
      "Вибіркове математичне сподівання: 6.87220376801977e-05\n",
      "Довірчий інтервал:[-0.0025056978565830405 ; 0.002643141931943436]\n",
      "Довжина довірчого інтервалу: 0.005148839788526476\n",
      "\n",
      "[3] Lовірчий інтервал для дисперсії\n",
      "Кількість спостережень: n = 1000000\n",
      "Вибіркова дисперсія = 0.999452832808556\n",
      "Довірчий інтервал:[1.2205436316522863e-07 ; 1.229468439581324e-07]\n",
      "Довжина довірчого інтервалу: 8.924807929037565e-10\n"
     ],
     "output_type":"stream"
    }
   ],
   "metadata":{
    "datalore":{
     "node_id":"ItjCIxLPIinFWCfESUqDGn",
     "type":"CODE",
     "hide_input_from_viewers":false,
     "hide_output_from_viewers":false,
     "report_properties":{
      
     }
    }
   }
  },
  {
   "cell_type":"markdown",
   "source":[
    "# Метод 1\n",
    "Будемо обраховувати інтеграл за допомогою методу Монте-Карло:\n",
    "$$Q_m = \\bf{M}(I(\\eta > \\xi_{1} + \\ldots + \\xi_m))$$\n",
    "\n",
    "(варто підмітити, що із збільшенням m значення інтеграла зменшується у $\\sqrt{m}$ разів)"
   ],
   "attachments":{
    
   },
   "metadata":{
    "datalore":{
     "node_id":"XrFVdlkFBfA0eQsLFLLSMW",
     "type":"MD",
     "hide_input_from_viewers":false,
     "hide_output_from_viewers":false,
     "report_properties":{
      
     }
    }
   }
  },
  {
   "cell_type":"code",
   "source":[
    "q_1 = lambda eta, samples: 1 if eta > np.sum(samples) else 0\n",
    "m_arr = [1, 10, 100, 1_000]  # for calculating Q_m\n",
    "n_0 = 5000  #\n",
    "\n",
    "for m in m_arr:\n",
    "    indicators = []\n",
    "\n",
    "    for j in range(n_0):\n",
    "        samples = np.random.random(m)\n",
    "        indicators.append(q_1(eta(np.random.random(1)), samples))\n",
    "\n",
    "    Q = Q_m(indicators, len(indicators))\n",
    "    sigma = calc_variance(indicators, len(indicators),  Q)\n",
    "\n",
    "    print(f\"Кількість зразків: {m}\")\n",
    "    print(f\"Оцінка Q: {Q}\")\n",
    "    print(f\"Вибіркова дисперсія: {sigma}\")\n",
    "    print(f\"Асимптотичний довірчий інтервал: {calculate_ci_2(indicators, gama)}\")\n",
    "    print(f\"Кількість спостережень: {n_0}\")\n",
    "    print(f\"N*: {(2.575 * 100) ** 2 * sigma \/ (Q ** 2)}\\n\")"
   ],
   "execution_count":9,
   "outputs":[
    {
     "name":"stdout",
     "text":[
      "Кількість зразків: 1\n",
      "Оцінка Q: 0.6816\n",
      "Вибіркова дисперсія: 0.2170648529705941\n",
      "Асимптотичний довірчий інтервал: [0.6646282419580315, 0.6985717580419685]\n",
      "Кількість спостережень: 5000\n",
      "N*: 30980.24240998434\n",
      "\n",
      "Кількість зразків: 10\n",
      "Оцінка Q: 0.1686\n",
      "Вибіркова дисперсія: 0.14020208041608323\n",
      "Асимптотичний довірчий інтервал: [0.15496015904191823, 0.18223984095808177]\n",
      "Кількість спостережень: 5000\n",
      "N*: 327034.66108405555\n",
      "\n",
      "Кількість зразків: 100\n",
      "Оцінка Q: 0.0208\n",
      "Вибіркова дисперсія: 0.020371434286857372\n",
      "Асимптотичний довірчий інтервал: [0.015600723894467719, 0.02599927610553228]\n",
      "Кількість спостережень: 5000\n",
      "N*: 3122118.654500131\n",
      "\n",
      "Кількість зразків: 1000\n",
      "Оцінка Q: 0.002\n",
      "Вибіркова дисперсія: 0.001996399279855971\n",
      "Асимптотичний довірчий інтервал: [0.0003723696490788872, 0.003627630350921113]\n",
      "Кількість спостережень: 5000\n",
      "N*: 33093437.437487498\n",
      "\n"
     ],
     "output_type":"stream"
    }
   ],
   "metadata":{
    "datalore":{
     "node_id":"q0u7I3LyobdoZd4MCtF7s1",
     "type":"CODE",
     "hide_input_from_viewers":false,
     "hide_output_from_viewers":false,
     "report_properties":{
      
     }
    }
   }
  },
  {
   "cell_type":"code",
   "source":[
    "\n",
    "m_arr = [1, 10, 100, 1_000, 10_000]  # for calculating Q_m\n",
    "n_0 = 100\n",
    "q_2 = lambda samples: 1\/(1+np.sum(samples))\n",
    "\n",
    "\n",
    "for m in m_arr:\n",
    "    indicators = []\n",
    "    for j in range(n_0):\n",
    "        samples = np.random.random(m)\n",
    "        indicators.append(q_2(samples))\n",
    "    Q = Q_m(indicators, len(indicators))\n",
    "    sigma = calc_variance(indicators, len(indicators), Q)\n",
    "    print(f\"Кількість зразків: {m}\")\n",
    "    print(f\"Оцінка Q: {Q}\")\n",
    "    print(f\"Вибіркова дисперсія: {sigma}\")\n",
    "    print(f\"Асимптотичний довірчий інтервал: {calculate_ci_2(indicators, gama)}\")\n",
    "    print(f\"Кількість спостережень: {n_0}\")\n",
    "    print(f\"N*: {(2.575 * 100) ** 2 * sigma \/ (Q ** 2)}\\n\")"
   ],
   "execution_count":10,
   "outputs":[
    {
     "name":"stdout",
     "text":[
      "Кількість зразків: 1\n",
      "Оцінка Q: 0.6881338705722736\n",
      "Вибіркова дисперсія: 0.01961045666683183\n",
      "Асимптотичний довірчий інтервал: [0.6520626421092399, 0.724205099035307]\n",
      "Кількість спостережень: 100\n",
      "N*: 2745.973263961743\n",
      "\n",
      "Кількість зразків: 10\n",
      "Оцінка Q: 0.16796231543588333\n",
      "Вибіркова дисперсія: 0.0007322354311468986\n",
      "Асимптотичний довірчий інтервал: [0.16099216022006213, 0.17493247065170442]\n",
      "Кількість спостережень: 100\n",
      "N*: 1721.002496788734\n",
      "\n",
      "Кількість зразків: 100\n",
      "Оцінка Q: 0.019573111540935974\n",
      "Вибіркова дисперсія: 9.269701548439453e-07\n",
      "Асимптотичний довірчий інтервал: [0.01932511252622782, 0.01982111055564414]\n",
      "Кількість спостережень: 100\n",
      "N*: 160.43550156810085\n",
      "\n",
      "Кількість зразків: 1000\n",
      "Оцінка Q: 0.0020039507684895476\n",
      "Вибіркова дисперсія: 1.5618300845548811e-09\n",
      "Асимптотичний довірчий інтервал: [0.001993771092109922, 0.002014130444869173]\n",
      "Кількість спостережень: 100\n",
      "N*: 25.787791788143654\n",
      "\n",
      "Кількість зразків: 10000\n",
      "Оцінка Q: 0.00019992054969760885\n",
      "Вибіркова дисперсія: 1.2934818760411683e-12\n",
      "Асимптотичний довірчий інтервал: [0.0001996275971672798, 0.00020021350222793795]\n",
      "Кількість спостережень: 100\n",
      "N*: 2.145852864036326\n",
      "\n"
     ],
     "output_type":"stream"
    }
   ],
   "metadata":{
    "datalore":{
     "node_id":"mFL4fdwIv92FvowUhSqdAN",
     "type":"CODE",
     "hide_input_from_viewers":false,
     "hide_output_from_viewers":false,
     "report_properties":{
      
     }
    }
   }
  },
  {
   "cell_type":"code",
   "source":[
    "m_arr = [1, 10, 100, 1_000, 10_000]  # for calculating Q_m\n",
    "n_0 = 10\n"
   ],
   "execution_count":null,
   "outputs":[
    
   ],
   "metadata":{
    "datalore":{
     "node_id":"Toh7bAXcZD3cyQ2NhhCrMk",
     "type":"CODE",
     "hide_input_from_viewers":false,
     "hide_output_from_viewers":false,
     "report_properties":{
      
     }
    }
   }
  }
 ],
 "metadata":{
  "kernelspec":{
   "display_name":"Python",
   "language":"python",
   "name":"python"
  },
  "datalore":{
   "version":1,
   "computation_mode":"JUPYTER",
   "package_manager":"pip",
   "base_environment":"default",
   "packages":[
    
   ]
  }
 },
 "nbformat":4,
 "nbformat_minor":4
}