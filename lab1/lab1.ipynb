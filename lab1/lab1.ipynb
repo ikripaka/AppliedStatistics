{
 "cells": [
  {
   "cell_type": "markdown",
   "source": [
    "# Побудова оцінок та довірчих інтервалів\n",
    "\n",
    "Будуємо довірчі інтервали для `n = 100, 10_000, 1_000_000`\n",
    "Рівень довіри = `0,99` (рівень значущості = `0.01`\n",
    "\n",
    "#### Довірчі інтервали для м.с. та дисперсії у випадку нормально розподіленої генеральної сукупності.\n",
    "##### Перша частина леми 1. (Пункт А):\n",
    "Вибіркове математичне сподівання: $\\hat{a}_{n}=\\frac {1}{n}\\sum^{n}_{k=1}X_k$\n",
    "Вибіркова дисперсія: $\\hat{\\sigma}^2_{n}=\\frac {1}{n}\\sum^{n}_{k=1}(X_k-\\hat{a}_{n})^2$\n",
    "Дов інтервал $a \\in a_n \\pm \\frac{z_{\\gamma}  \\sigma_n}{\\sqrt{n}}$\n",
    "К-ть ітерацій: $n$"
   ],
   "metadata": {
    "collapsed": false
   }
  },
  {
   "cell_type": "code",
   "execution_count": 72,
   "outputs": [],
   "source": [
    "import math\n",
    "\n",
    "import numpy as np\n",
    "from scipy.stats import chi2, t, norm"
   ],
   "metadata": {
    "collapsed": false
   }
  },
  {
   "cell_type": "code",
   "execution_count": 73,
   "outputs": [],
   "source": [
    "def calc_sample_variance(samples, sample_mean: float):\n",
    "    squared_variance = 0.\n",
    "    for sample in samples:\n",
    "        squared_variance += (sample - sample_mean) ** 2\n",
    "\n",
    "    squared_variance /= (len(samples) - 1)\n",
    "    return math.sqrt(squared_variance)\n",
    "\n",
    "\n",
    "def calc_sample_mean(samples):\n",
    "    mean = 0.\n",
    "    for sample in samples:\n",
    "        mean += sample\n",
    "    return mean / len(samples)\n",
    "\n",
    "\n",
    "def calc_s_squared(samples, sample_mean):\n",
    "    s_squared = 0\n",
    "    for sample in samples:\n",
    "        s_squared += (sample - sample_mean) ** 2\n",
    "\n",
    "    s_squared /= (len(samples) - 1)\n",
    "    return s_squared\n",
    "\n",
    "\n",
    "# generating samples with help of N(0,1) distribution\n",
    "def gen_samples(size: int):\n",
    "    samples = size * [None]\n",
    "    for i in range(size):\n",
    "        samples[i] = np.random.normal(0, 1)\n",
    "    return samples"
   ],
   "metadata": {
    "collapsed": false
   }
  },
  {
   "cell_type": "code",
   "execution_count": 74,
   "outputs": [
    {
     "name": "stdout",
     "output_type": "stream",
     "text": [
      "samples_num_ci:[100, 10000, 1000000]\n",
      "m_arr:[1, 10, 100, 1000, 10000]\n"
     ]
    }
   ],
   "source": [
    "n_arr = [100, 10_000, 1_000_000]  # for calculating Confidence Intervals\n",
    "m_arr = [1, 10, 100, 1_000, 10_000]  # for calculating Q_m\n",
    "\n",
    "samples_list = len(n_arr) * [None]\n",
    "alfa = 0.01\n",
    "gama = 1 - alfa\n",
    "z_gama = 2.575  # norm distro 0.99 quantile\n",
    "\n",
    "Q_m = lambda q, n: np.sum(q) / n\n",
    "# calculating variance in integral methods\n",
    "# незміщена?\n",
    "calc_variance = lambda q, n, Q: (1 / (n-1)) * (np.sum([qi**2 for qi in q]) - n * Q ** 2)\n",
    "\n",
    "eta = lambda x: 1 / x - 1\n",
    "xi_i = lambda x: -1 * np.log(x)\n",
    "\n",
    "# calculating 0.99 quantiles\n",
    "print(f\"samples_num_ci:{n_arr}\\nm_arr:{m_arr}\")"
   ],
   "metadata": {
    "collapsed": false
   }
  },
  {
   "cell_type": "code",
   "execution_count": 75,
   "outputs": [],
   "source": [
    "# calculating Confidence Interval for the EXPECTATION(sigma^2) under the assumption:\n",
    "# - observed random value ~ N(0,1)\n",
    "# - sample variance is unknown\n",
    "def calculate_ci_1(samples):\n",
    "    sample_mean = calc_sample_mean(samples)\n",
    "    n_sq_root = math.sqrt(len(samples))\n",
    "    s_squared = calc_s_squared(samples, sample_mean)\n",
    "\n",
    "    g = t.ppf((1 + gama) / 2, df=len(samples) - 1)\n",
    "    return [sample_mean - math.sqrt(s_squared) * g / n_sq_root, sample_mean + math.sqrt(s_squared) * g / n_sq_root]\n",
    "\n",
    "\n",
    "# calculating Confidence Interval for the EXPECTATION under assumption:\n",
    "# - observed value distribution is unknown\n",
    "# asymptotic confidence interval\n",
    "def calculate_ci_2(samples, gama):\n",
    "    sample_mean = calc_sample_mean(samples)\n",
    "    sample_variance = calc_sample_variance(samples, sample_mean)\n",
    "\n",
    "    n_sq_root = math.sqrt(len(samples))\n",
    "\n",
    "    c = norm.ppf((1 + gama) / 2)\n",
    "    return [sample_mean - sample_variance * c / n_sq_root, sample_mean + sample_variance * c / n_sq_root]\n",
    "\n",
    "\n",
    "# calculating Confidence Interval for the variance under assumption:\n",
    "# - observed random value ~ N(0,1)\n",
    "def calculate_ci_3(samples, gama):\n",
    "    sample_mean = calc_sample_mean(samples)\n",
    "    g_1 = chi2.ppf((1 - gama) / 2, df=len(samples) - 1)\n",
    "    g_2 = chi2.ppf((1 + gama) / 2, df=len(samples) - 1)\n",
    "\n",
    "    squared_difference = 0\n",
    "    for sample in samples:\n",
    "        squared_difference = (sample - sample_mean) ** 2\n",
    "\n",
    "    return [squared_difference / g_2, squared_difference / g_1]\n"
   ],
   "metadata": {
    "collapsed": false
   }
  },
  {
   "cell_type": "code",
   "execution_count": 76,
   "outputs": [],
   "source": [
    "\n",
    "def calculate_2_integral():\n",
    "    pass"
   ],
   "metadata": {
    "collapsed": false
   }
  },
  {
   "cell_type": "code",
   "execution_count": 77,
   "outputs": [],
   "source": [
    "def calculate_3_integral():\n",
    "    pass\n"
   ],
   "metadata": {
    "collapsed": false
   }
  },
  {
   "cell_type": "code",
   "execution_count": 78,
   "outputs": [
    {
     "name": "stdout",
     "output_type": "stream",
     "text": [
      "\n",
      "[1] Довірчий інтервал для мат. спод. M при невідомій дисперсії\n",
      "Кількість спостережень: n = 100\n",
      "Вибіркове математичне сподівання: 0.002592152743340701\n",
      "Довірчий інтервал:[-0.27747308089755524 ; 0.2826573863842366]\n",
      "Довжина довірчого інтервалу: 0.5601304672817918\n",
      "\n",
      "[2] Довірчий інтервал для мат. спод. M при невідомому розподілі\n",
      "Кількість спостережень: n = 100\n",
      "Вибіркове математичне сподівання: 0.002592152743340701\n",
      "Довірчий інтервал:[-0.27207992195999836 ; 0.2772642274466797]\n",
      "Довжина довірчого інтервалу: 0.5493441494066781\n",
      "\n",
      "[3] Lовірчий інтервал для дисперсії\n",
      "Кількість спостережень: n = 100\n",
      "Вибіркова дисперсія = 1.0663442423180143\n",
      "Довірчий інтервал:[0.01625030668347501 ; 0.03395841648093884]\n",
      "Довжина довірчого інтервалу: 0.017708109797463834\n",
      "\n",
      "[1] Довірчий інтервал для мат. спод. M при невідомій дисперсії\n",
      "Кількість спостережень: n = 10000\n",
      "Вибіркове математичне сподівання: -0.006822308416369051\n",
      "Довірчий інтервал:[-0.032488220130919294 ; 0.01884360329818119]\n",
      "Довжина довірчого інтервалу: 0.05133182342910048\n",
      "\n",
      "[2] Довірчий інтервал для мат. спод. M при невідомому розподілі\n",
      "Кількість спостережень: n = 10000\n",
      "Вибіркове математичне сподівання: -0.006822308416369051\n",
      "Довірчий інтервал:[-0.032483320781233595 ; 0.018838703948495496]\n",
      "Довжина довірчого інтервалу: 0.05132202472972909\n",
      "\n",
      "[3] Lовірчий інтервал для дисперсії\n",
      "Кількість спостережень: n = 10000\n",
      "Вибіркова дисперсія = 0.9962233261928332\n",
      "Довірчий інтервал:[0.0004834359011623565 ; 0.0005199759400860304]\n",
      "Довжина довірчого інтервалу: 3.654003892367391e-05\n",
      "\n",
      "[1] Довірчий інтервал для мат. спод. M при невідомій дисперсії\n",
      "Кількість спостережень: n = 1000000\n",
      "Вибіркове математичне сподівання: 4.0012364580832086e-05\n",
      "Довірчий інтервал:[-0.0025341232099285725 ; 0.0026141479390902364]\n",
      "Довжина довірчого інтервалу: 0.005148271149018809\n",
      "\n",
      "[2] Довірчий інтервал для мат. спод. M при невідомому розподілі\n",
      "Кількість спостережень: n = 1000000\n",
      "Вибіркове математичне сподівання: 4.0012364580832086e-05\n",
      "Довірчий інтервал:[-0.002534118296609471 ; 0.002614143025771135]\n",
      "Довжина довірчого інтервалу: 0.005148261322380606\n",
      "\n",
      "[3] Lовірчий інтервал для дисперсії\n",
      "Кількість спостережень: n = 1000000\n",
      "Вибіркова дисперсія = 0.9993405454483117\n",
      "Довірчий інтервал:[9.507655317148905e-07 ; 9.577176795415256e-07]\n",
      "Довжина довірчого інтервалу: 6.952147826635069e-09\n"
     ]
    }
   ],
   "source": [
    "for i, sample_size in enumerate(n_arr):\n",
    "    samples_list[i] = gen_samples(sample_size)\n",
    "    sample_mean = calc_sample_mean(samples_list[i])\n",
    "    sample_variance = calc_sample_variance(samples_list[i], sample_mean)\n",
    "\n",
    "    ci_1 = calculate_ci_1(samples_list[i])\n",
    "    print('\\n[1] Довірчий інтервал для мат. спод. M при невідомій дисперсії')\n",
    "    print(f'Кількість спостережень: n = {sample_size}')\n",
    "    print(f'Вибіркове математичне сподівання: {sample_mean}')\n",
    "    print(f'Довірчий інтервал:[{ci_1[0]} ; {ci_1[1]}]')\n",
    "    print(f'Довжина довірчого інтервалу: {ci_1[1] - ci_1[0]}')\n",
    "\n",
    "    ci_2 = calculate_ci_2(samples_list[i], gama)\n",
    "    print('\\n[2] Довірчий інтервал для мат. спод. M при невідомому розподілі')\n",
    "    print(f'Кількість спостережень: n = {sample_size}')\n",
    "    print(f'Вибіркове математичне сподівання: {sample_mean}')\n",
    "    print(f'Довірчий інтервал:[{ci_2[0]} ; {ci_2[1]}]')\n",
    "    print(f'Довжина довірчого інтервалу: {ci_2[1] - ci_2[0]}')\n",
    "\n",
    "    ci_3 = calculate_ci_3(samples_list[i], gama)\n",
    "    print('\\n[3] Lовірчий інтервал для дисперсії')\n",
    "    print(f'Кількість спостережень: n = {sample_size}')\n",
    "    print(f'Вибіркова дисперсія = {sample_variance}')\n",
    "    print(f'Довірчий інтервал:[{ci_3[0]} ; {ci_3[1]}]')\n",
    "    print(f'Довжина довірчого інтервалу: {ci_3[1] - ci_3[0]}')"
   ],
   "metadata": {
    "collapsed": false
   }
  },
  {
   "cell_type": "markdown",
   "source": [
    "# Метод 1\n",
    "Будемо обраховувати інтеграл за допомогою методу Монте-Карло:\n",
    "$$Q_m = \\bf{M}(I(\\eta > \\xi_{1} + \\ldots + \\xi_m))$$\n",
    "\n",
    "(варто підмітити, що із збільшенням m значення інтеграла зменшується у $\\sqrt{m}$ разів)"
   ],
   "metadata": {
    "collapsed": false
   }
  },
  {
   "cell_type": "code",
   "execution_count": 79,
   "outputs": [
    {
     "name": "stdout",
     "output_type": "stream",
     "text": [
      "Кількість зразків: 1\n",
      "Оцінка Q: 0.687\n",
      "Вибіркова дисперсія: 0.21507401480296054\n",
      "Асимптотичний довірчий інтервал: [0.6701062505654658, 0.7038937494345343]\n",
      "Кількість спостережень: 5000\n",
      "N*: 30215.440831980068\n",
      "\n",
      "Кількість зразків: 10\n",
      "Оцінка Q: 0.1724\n",
      "Вибіркова дисперсія: 0.14270678135627127\n",
      "Асимптотичний довірчий інтервал: [0.15863886095874777, 0.18616113904125223]\n",
      "Кількість спостережень: 5000\n",
      "N*: 318364.4414497749\n",
      "\n",
      "Кількість зразків: 100\n",
      "Оцінка Q: 0.0194\n",
      "Вибіркова дисперсія: 0.01902744548909782\n",
      "Асимптотичний довірчий інтервал: [0.014375159039298192, 0.02442484096070181]\n",
      "Кількість спостережень: 5000\n",
      "N*: 3352212.1305704433\n",
      "\n",
      "Кількість зразків: 1000\n",
      "Оцінка Q: 0.0028\n",
      "Вибіркова дисперсія: 0.002792718543708742\n",
      "Асимптотичний довірчий інтервал: [0.0008749338310975875, 0.004725066168902413]\n",
      "Кількість спостережень: 5000\n",
      "N*: 23619221.165661708\n",
      "\n"
     ]
    }
   ],
   "source": [
    "q_1 = lambda eta, samples: 1 if eta > np.sum(samples) else 0\n",
    "m_arr = [1, 10, 100, 1_000]  # for calculating Q_m\n",
    "n_0 = 5000  #\n",
    "\n",
    "for m in m_arr:\n",
    "    indicators = []\n",
    "\n",
    "    for j in range(n_0):\n",
    "        samples = np.random.random(m)\n",
    "        indicators.append(q_1(eta(np.random.random(1)), samples))\n",
    "\n",
    "    Q = Q_m(indicators, len(indicators))\n",
    "    sigma = calc_variance(indicators, len(indicators),  Q)\n",
    "\n",
    "    print(f\"Кількість зразків: {m}\")\n",
    "    print(f\"Оцінка Q: {Q}\")\n",
    "    print(f\"Вибіркова дисперсія: {sigma}\")\n",
    "    print(f\"Асимптотичний довірчий інтервал: {calculate_ci_2(indicators, gama)}\")\n",
    "    print(f\"Кількість спостережень: {n_0}\")\n",
    "    print(f\"N*: {(2.575 * 100) ** 2 * sigma / (Q ** 2)}\\n\")"
   ],
   "metadata": {
    "collapsed": false
   }
  },
  {
   "cell_type": "code",
   "execution_count": 80,
   "outputs": [],
   "source": [
    "\n",
    "m_arr = [1, 10, 100, 1_000, 10_000]  # for calculating Q_m\n",
    "n_0 = 100\n"
   ],
   "metadata": {
    "collapsed": false
   }
  },
  {
   "cell_type": "code",
   "execution_count": 81,
   "outputs": [],
   "source": [
    "m_arr = [1, 10, 100, 1_000, 10_000]  # for calculating Q_m\n",
    "n_0 = 10\n",
    "\n"
   ],
   "metadata": {
    "collapsed": false
   }
  }
 ],
 "metadata": {
  "kernelspec": {
   "display_name": "Python 3",
   "language": "python",
   "name": "python3"
  },
  "language_info": {
   "codemirror_mode": {
    "name": "ipython",
    "version": 2
   },
   "file_extension": ".py",
   "mimetype": "text/x-python",
   "name": "python",
   "nbconvert_exporter": "python",
   "pygments_lexer": "ipython2",
   "version": "2.7.6"
  }
 },
 "nbformat": 4,
 "nbformat_minor": 0
}
