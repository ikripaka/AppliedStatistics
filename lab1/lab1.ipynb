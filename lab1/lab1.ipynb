{
 "cells": [
  {
   "attachments": {},
   "cell_type": "markdown",
   "metadata": {
    "datalore": {
     "hide_input_from_viewers": false,
     "hide_output_from_viewers": false,
     "node_id": "5lapjHK1aE9TkCgCY5F2C1",
     "report_properties": {},
     "type": "MD"
    }
   },
   "source": [
    "# Побудова оцінок та довірчих інтервалів\n",
    "\n",
    "Будуємо довірчі інтервали для `n = 100, 10_000, 1_000_000`\n",
    "Рівень довіри = `0,99` (рівень значущості = `0.01`\n",
    "\n",
    "#### Довірчі інтервали для м.с. та дисперсії у випадку нормально розподіленої генеральної сукупності.\n",
    "##### Перша частина леми 1. (Пункт А):\n",
    "Вибіркове математичне сподівання: $\\hat{a}_{n}=\\frac {1}{n}\\sum^{n}_{k=1}X_k$\n",
    "Вибіркова дисперсія: $\\hat{\\sigma}^2_{n}=\\frac {1}{n}\\sum^{n}_{k=1}(X_k-\\hat{a}_{n})^2$\n",
    "Дов інтервал $a \\in a_n \\pm \\frac{z_{\\gamma}  \\sigma_n}{\\sqrt{n}}$\n",
    "К-ть ітерацій: $n$"
   ]
  },
  {
   "cell_type": "code",
   "execution_count": 2,
   "metadata": {
    "datalore": {
     "hide_input_from_viewers": false,
     "hide_output_from_viewers": false,
     "node_id": "wB7NV6mEKWFPAUAsMfU0Vi",
     "report_properties": {},
     "type": "CODE"
    }
   },
   "outputs": [],
   "source": [
    "import math\n",
    "\n",
    "import numpy as np\n",
    "from scipy.stats import chi2, t, norm"
   ]
  },
  {
   "cell_type": "code",
   "execution_count": 3,
   "metadata": {
    "datalore": {
     "hide_input_from_viewers": false,
     "hide_output_from_viewers": false,
     "node_id": "DBZrm0ZZIGaKtWw3BWo8Th",
     "report_properties": {},
     "type": "CODE"
    }
   },
   "outputs": [],
   "source": [
    "def calc_sample_variance(samples, sample_mean: float):\n",
    "    squared_variance = 0.\n",
    "    for sample in samples:\n",
    "        squared_variance += (sample - sample_mean) ** 2\n",
    "\n",
    "    squared_variance /= (len(samples) - 1)\n",
    "    return math.sqrt(squared_variance)\n",
    "\n",
    "\n",
    "def calc_sample_mean(samples):\n",
    "    mean = 0.\n",
    "    for sample in samples:\n",
    "        mean += sample\n",
    "    return mean / len(samples)\n",
    "\n",
    "\n",
    "def calc_s_squared(samples, sample_mean):\n",
    "    s_squared = 0\n",
    "    for sample in samples:\n",
    "        s_squared += (sample - sample_mean) ** 2\n",
    "\n",
    "    s_squared /= (len(samples) - 1)\n",
    "    return s_squared\n",
    "\n",
    "\n",
    "# generating samples with help of N(0,1) distribution\n",
    "def gen_samples(size: int):\n",
    "    samples = size * [None]\n",
    "    for i in range(size):\n",
    "        samples[i] = np.random.normal(0, 1)\n",
    "    return samples"
   ]
  },
  {
   "cell_type": "code",
   "execution_count": 4,
   "metadata": {
    "datalore": {
     "hide_input_from_viewers": false,
     "hide_output_from_viewers": false,
     "node_id": "fngB1jHY38n7oEjFK2Fszf",
     "report_properties": {},
     "type": "CODE"
    }
   },
   "outputs": [
    {
     "name": "stdout",
     "output_type": "stream",
     "text": [
      "samples_num_ci:[100, 10000, 1000000]\n",
      "m_arr:[1, 10, 100, 1000, 10000]\n"
     ]
    }
   ],
   "source": [
    "n_arr = [100, 10_000, 1_000_000]  # for calculating Confidence Intervals\n",
    "m_arr = [1, 10, 100, 1_000, 10_000]  # for calculating Q_m\n",
    "\n",
    "samples_list = len(n_arr) * [None]\n",
    "alfa = 0.01\n",
    "gama = 1 - alfa\n",
    "z_gama = 2.575  # norm distro 0.99 quantile\n",
    "\n",
    "Q_m = lambda q, n: np.sum(q) / n\n",
    "# calculating variance in integral methods\n",
    "# незміщена?\n",
    "calc_variance = lambda q, n, Q: (1 / (n-1)) * (np.sum([qi**2 for qi in q]) - n * Q ** 2)\n",
    "\n",
    "eta = lambda x: 1 / x - 1\n",
    "xi_i = lambda x: -1 * np.log(x)\n",
    "\n",
    "# calculating 0.99 quantiles\n",
    "print(f\"samples_num_ci:{n_arr}\\nm_arr:{m_arr}\")"
   ]
  },
  {
   "cell_type": "code",
   "execution_count": 5,
   "metadata": {
    "datalore": {
     "hide_input_from_viewers": false,
     "hide_output_from_viewers": false,
     "node_id": "tQN7QAHOy8NgMFWYLEIVKv",
     "report_properties": {},
     "type": "CODE"
    }
   },
   "outputs": [],
   "source": [
    "# calculating Confidence Interval for the EXPECTATION(sigma^2) under the assumption:\n",
    "# - observed random value ~ N(0,1)\n",
    "# - sample variance is unknown\n",
    "def calculate_ci_1(samples):\n",
    "    sample_mean = calc_sample_mean(samples)\n",
    "    n_sq_root = math.sqrt(len(samples))\n",
    "    s_squared = calc_s_squared(samples, sample_mean)\n",
    "\n",
    "    g = t.ppf((1 + gama) / 2, df=len(samples) - 1)\n",
    "    return [sample_mean - math.sqrt(s_squared) * g / n_sq_root, sample_mean + math.sqrt(s_squared) * g / n_sq_root]\n",
    "\n",
    "\n",
    "# calculating Confidence Interval for the EXPECTATION under assumption:\n",
    "# - observed value distribution is unknown\n",
    "# asymptotic confidence interval\n",
    "def calculate_ci_2(samples, gama):\n",
    "    sample_mean = calc_sample_mean(samples)\n",
    "    sample_variance = calc_sample_variance(samples, sample_mean)\n",
    "\n",
    "    n_sq_root = math.sqrt(len(samples))\n",
    "\n",
    "    c = norm.ppf((1 + gama) / 2)\n",
    "    return [sample_mean - sample_variance * c / n_sq_root, sample_mean + sample_variance * c / n_sq_root]\n",
    "\n",
    "\n",
    "# calculating Confidence Interval for the variance under assumption:\n",
    "# - observed random value ~ N(0,1)\n",
    "def calculate_ci_3(samples, gama):\n",
    "    sample_mean = calc_sample_mean(samples)\n",
    "    g_1 = chi2.ppf((1 - gama) / 2, df=len(samples) - 1)\n",
    "    g_2 = chi2.ppf((1 + gama) / 2, df=len(samples) - 1)\n",
    "\n",
    "    squared_difference = 0\n",
    "    for sample in samples:\n",
    "        squared_difference = (sample - sample_mean) ** 2\n",
    "\n",
    "    return [squared_difference / g_2, squared_difference / g_1]"
   ]
  },
  {
   "cell_type": "code",
   "execution_count": 6,
   "metadata": {
    "datalore": {
     "hide_input_from_viewers": false,
     "hide_output_from_viewers": false,
     "node_id": "nXGGVzEBU6hwST6pJ9RyrG",
     "report_properties": {},
     "type": "CODE"
    }
   },
   "outputs": [],
   "source": [
    "\n",
    "def calculate_2_integral():\n",
    "    pass"
   ]
  },
  {
   "cell_type": "code",
   "execution_count": 7,
   "metadata": {
    "datalore": {
     "hide_input_from_viewers": false,
     "hide_output_from_viewers": false,
     "node_id": "tO9AP1ju30rPBVg1wDQ8rh",
     "report_properties": {},
     "type": "CODE"
    }
   },
   "outputs": [],
   "source": [
    "def calculate_3_integral():\n",
    "    pass"
   ]
  },
  {
   "cell_type": "code",
   "execution_count": 8,
   "metadata": {
    "datalore": {
     "hide_input_from_viewers": false,
     "hide_output_from_viewers": false,
     "node_id": "ItjCIxLPIinFWCfESUqDGn",
     "report_properties": {},
     "type": "CODE"
    }
   },
   "outputs": [
    {
     "name": "stdout",
     "output_type": "stream",
     "text": [
      "\n",
      "[1] Довірчий інтервал для мат. спод. M при невідомій дисперсії\n",
      "Кількість спостережень: n = 100\n",
      "Вибіркове математичне сподівання: 0.007650077666394552\n",
      "Довірчий інтервал:[-0.23832405245161203 ; 0.25362420778440115]\n",
      "Довжина довірчого інтервалу: 0.4919482602360132\n",
      "\n",
      "[2] Довірчий інтервал для мат. спод. M при невідомому розподілі\n",
      "Кількість спостережень: n = 100\n",
      "Вибіркове математичне сподівання: 0.007650077666394552\n",
      "Довірчий інтервал:[-0.2335873789237772 ; 0.24888753425656632]\n",
      "Довжина довірчого інтервалу: 0.4824749131803435\n",
      "\n",
      "[3] Lовірчий інтервал для дисперсії\n",
      "Кількість спостережень: n = 100\n",
      "Вибіркова дисперсія = 0.9365428689618603\n",
      "Довірчий інтервал:[0.0005792725500497568 ; 0.0012105112164171533]\n",
      "Довжина довірчого інтервалу: 0.0006312386663673966\n",
      "\n",
      "[1] Довірчий інтервал для мат. спод. M при невідомій дисперсії\n",
      "Кількість спостережень: n = 10000\n",
      "Вибіркове математичне сподівання: -0.002100346496743533\n",
      "Довірчий інтервал:[-0.028097948932395964 ; 0.023897255938908894]\n",
      "Довжина довірчого інтервалу: 0.05199520487130486\n",
      "\n",
      "[2] Довірчий інтервал для мат. спод. M при невідомому розподілі\n",
      "Кількість спостережень: n = 10000\n",
      "Вибіркове математичне сподівання: -0.002100346496743533\n",
      "Довірчий інтервал:[-0.02809298626647789 ; 0.023892293272990826]\n",
      "Довжина довірчого інтервалу: 0.051985279539468715\n",
      "\n",
      "[3] Lовірчий інтервал для дисперсії\n",
      "Кількість спостережень: n = 10000\n",
      "Вибіркова дисперсія = 1.009097913977548\n",
      "Довірчий інтервал:[0.000133204037407296 ; 0.0001432721368180977]\n",
      "Довжина довірчого інтервалу: 1.0068099410801706e-05\n",
      "\n",
      "[1] Довірчий інтервал для мат. спод. M при невідомій дисперсії\n",
      "Кількість спостережень: n = 1000000\n",
      "Вибіркове математичне сподівання: 9.934976438927147e-05\n",
      "Довірчий інтервал:[-0.0024768945686836252 ; 0.002675594097462168]\n",
      "Довжина довірчого інтервалу: 0.005152488666145793\n",
      "\n",
      "[2] Довірчий інтервал для мат. спод. M при невідомому розподілі\n",
      "Кількість спостережень: n = 1000000\n",
      "Вибіркове математичне сподівання: 9.934976438927147e-05\n",
      "Довірчий інтервал:[-0.0024768896513394823 ; 0.002675589180118025]\n",
      "Довжина довірчого інтервалу: 0.005152478831457507\n",
      "\n",
      "[3] Lовірчий інтервал для дисперсії\n",
      "Кількість спостережень: n = 1000000\n",
      "Вибіркова дисперсія = 1.0001592155890486\n",
      "Довірчий інтервал:[1.5362792732735867e-06 ; 1.5475127901129373e-06]\n",
      "Довжина довірчого інтервалу: 1.1233516839350594e-08\n"
     ]
    }
   ],
   "source": [
    "for i, sample_size in enumerate(n_arr):\n",
    "    samples_list[i] = gen_samples(sample_size)\n",
    "    sample_mean = calc_sample_mean(samples_list[i])\n",
    "    sample_variance = calc_sample_variance(samples_list[i], sample_mean)\n",
    "\n",
    "    ci_1 = calculate_ci_1(samples_list[i])\n",
    "    print('\\n[1] Довірчий інтервал для мат. спод. M при невідомій дисперсії')\n",
    "    print(f'Кількість спостережень: n = {sample_size}')\n",
    "    print(f'Вибіркове математичне сподівання: {sample_mean}')\n",
    "    print(f'Довірчий інтервал:[{ci_1[0]} ; {ci_1[1]}]')\n",
    "    print(f'Довжина довірчого інтервалу: {ci_1[1] - ci_1[0]}')\n",
    "\n",
    "    ci_2 = calculate_ci_2(samples_list[i], gama)\n",
    "    print('\\n[2] Довірчий інтервал для мат. спод. M при невідомому розподілі')\n",
    "    print(f'Кількість спостережень: n = {sample_size}')\n",
    "    print(f'Вибіркове математичне сподівання: {sample_mean}')\n",
    "    print(f'Довірчий інтервал:[{ci_2[0]} ; {ci_2[1]}]')\n",
    "    print(f'Довжина довірчого інтервалу: {ci_2[1] - ci_2[0]}')\n",
    "\n",
    "    ci_3 = calculate_ci_3(samples_list[i], gama)\n",
    "    print('\\n[3] Lовірчий інтервал для дисперсії')\n",
    "    print(f'Кількість спостережень: n = {sample_size}')\n",
    "    print(f'Вибіркова дисперсія = {sample_variance}')\n",
    "    print(f'Довірчий інтервал:[{ci_3[0]} ; {ci_3[1]}]')\n",
    "    print(f'Довжина довірчого інтервалу: {ci_3[1] - ci_3[0]}')"
   ]
  },
  {
   "attachments": {},
   "cell_type": "markdown",
   "metadata": {
    "datalore": {
     "hide_input_from_viewers": false,
     "hide_output_from_viewers": false,
     "node_id": "XrFVdlkFBfA0eQsLFLLSMW",
     "report_properties": {},
     "type": "MD"
    }
   },
   "source": [
    "# Метод 1\n",
    "Будемо обраховувати інтеграл за допомогою методу Монте-Карло:\n",
    "$$Q_m = \\bf{M}(I(\\eta > \\xi_{1} + \\ldots + \\xi_m))$$\n",
    "\n",
    "(варто підмітити, що із збільшенням m значення інтеграла зменшується у $\\sqrt{m}$ разів)"
   ]
  },
  {
   "cell_type": "code",
   "execution_count": 9,
   "metadata": {
    "datalore": {
     "hide_input_from_viewers": false,
     "hide_output_from_viewers": false,
     "node_id": "q0u7I3LyobdoZd4MCtF7s1",
     "report_properties": {},
     "type": "CODE"
    }
   },
   "outputs": [
    {
     "name": "stdout",
     "output_type": "stream",
     "text": [
      "Кількість зразків: 1\n",
      "Оцінка Q: 0.6892\n",
      "Вибіркова дисперсія: 0.21424620924184834\n",
      "Асимптотичний довірчий інтервал: [0.6723387933677308, 0.7060612066322692]\n",
      "Кількість спостережень: 5000\n",
      "N*: 29907.2909474524\n",
      "\n",
      "Кількість зразків: 10\n",
      "Оцінка Q: 0.1702\n",
      "Вибіркова дисперсія: 0.1412602120424085\n",
      "Асимптотичний довірчий інтервал: [0.1565087845627959, 0.18389121543720408]\n",
      "Кількість спостережень: 5000\n",
      "N*: 323336.8545036857\n",
      "\n",
      "Кількість зразків: 100\n",
      "Оцінка Q: 0.018\n",
      "Вибіркова дисперсія: 0.017679535907181434\n",
      "Асимптотичний довірчий інтервал: [0.013156408508179084, 0.022843591491820914]\n",
      "Кількість спостережень: 5000\n",
      "N*: 3618097.925140584\n",
      "\n",
      "Кількість зразків: 1000\n",
      "Оцінка Q: 0.0022\n",
      "Вибіркова дисперсія: 0.002195599119823965\n",
      "Асимптотичний довірчий інтервал: [0.0004930979443842037, 0.003906902055615797]\n",
      "Кількість спостережень: 5000\n",
      "N*: 30078914.078270197\n",
      "\n"
     ]
    }
   ],
   "source": [
    "q_1 = lambda eta, samples: 1 if eta > np.sum(samples) else 0\n",
    "m_arr = [1, 10, 100, 1_000]  # for calculating Q_m\n",
    "n_0 = 5000  #\n",
    "\n",
    "for m in m_arr:\n",
    "    indicators = []\n",
    "\n",
    "    for j in range(n_0):\n",
    "        samples = np.random.random(m)\n",
    "        indicators.append(q_1(eta(np.random.random(1)), samples))\n",
    "\n",
    "    Q = Q_m(indicators, len(indicators))\n",
    "    sigma = calc_variance(indicators, len(indicators),  Q)\n",
    "\n",
    "    print(f\"Кількість зразків: {m}\")\n",
    "    print(f\"Оцінка Q: {Q}\")\n",
    "    print(f\"Вибіркова дисперсія: {sigma}\")\n",
    "    print(f\"Асимптотичний довірчий інтервал: {calculate_ci_2(indicators, gama)}\")\n",
    "    print(f\"Кількість спостережень: {n_0}\")\n",
    "    print(f\"N*: {(2.575 * 100) ** 2 * sigma / (Q ** 2)}\\n\")"
   ]
  },
  {
   "attachments": {},
   "cell_type": "markdown",
   "metadata": {},
   "source": [
    "Метод 2"
   ]
  },
  {
   "cell_type": "code",
   "execution_count": 10,
   "metadata": {
    "datalore": {
     "hide_input_from_viewers": false,
     "hide_output_from_viewers": false,
     "node_id": "mFL4fdwIv92FvowUhSqdAN",
     "report_properties": {},
     "type": "CODE"
    }
   },
   "outputs": [
    {
     "name": "stdout",
     "output_type": "stream",
     "text": [
      "Кількість зразків: 1\n",
      "Оцінка Q: 0.7052984262770251\n",
      "Вибіркова дисперсія: 0.020957467068561244\n",
      "Асимптотичний довірчий інтервал: [0.6680089335184459, 0.7425879190356038]\n",
      "Кількість спостережень: 100\n",
      "N*: 2793.4919843856023\n",
      "\n",
      "Кількість зразків: 10\n",
      "Оцінка Q: 0.16890659571484348\n",
      "Вибіркова дисперсія: 0.0006863813651453715\n",
      "Асимптотичний довірчий інтервал: [0.16215821117733586, 0.1756549802523512]\n",
      "Кількість спостережень: 100\n",
      "N*: 1595.2425796634204\n",
      "\n",
      "Кількість зразків: 100\n",
      "Оцінка Q: 0.019869172763370614\n",
      "Вибіркова дисперсія: 1.2839048616219395e-06\n",
      "Асимптотичний довірчий інтервал: [0.019577306766680198, 0.02016103876006105]\n",
      "Кількість спостережень: 100\n",
      "N*: 215.63921298599803\n",
      "\n",
      "Кількість зразків: 1000\n",
      "Оцінка Q: 0.001997917386875396\n",
      "Вибіркова дисперсія: 1.5811448361326306e-09\n",
      "Асимптотичний довірчий інтервал: [0.00198767495918515, 0.00200815981456564]\n",
      "Кількість спостережень: 100\n",
      "N*: 26.26461675403712\n",
      "\n",
      "Кількість зразків: 10000\n",
      "Оцінка Q: 0.000199686227044988\n",
      "Вибіркова дисперсія: 1.0601029802885885e-12\n",
      "Асимптотичний довірчий інтервал: [0.00019942101630499587, 0.00019995143778498025]\n",
      "Кількість спостережень: 100\n",
      "N*: 1.7628132231838811\n",
      "\n"
     ]
    }
   ],
   "source": [
    "\n",
    "m_arr = [1, 10, 100, 1_000, 10_000]  # for calculating Q_m\n",
    "n_0 = 100\n",
    "q_2 = lambda samples: 1/(1+np.sum(samples))\n",
    "\n",
    "\n",
    "for m in m_arr:\n",
    "    indicators = []\n",
    "    for j in range(n_0):\n",
    "        samples = np.random.random(m)\n",
    "        indicators.append(q_2(samples))\n",
    "    Q = Q_m(indicators, len(indicators))\n",
    "    sigma = calc_variance(indicators, len(indicators), Q)\n",
    "    print(f\"Кількість зразків: {m}\")\n",
    "    print(f\"Оцінка Q: {Q}\")\n",
    "    print(f\"Вибіркова дисперсія: {sigma}\")\n",
    "    print(f\"Асимптотичний довірчий інтервал: {calculate_ci_2(indicators, gama)}\")\n",
    "    print(f\"Кількість спостережень: {n_0}\")\n",
    "    print(f\"N*: {(2.575 * 100) ** 2 * sigma / (Q ** 2)}\\n\")"
   ]
  },
  {
   "attachments": {},
   "cell_type": "markdown",
   "metadata": {},
   "source": [
    "Метод 4"
   ]
  },
  {
   "cell_type": "code",
   "execution_count": 11,
   "metadata": {},
   "outputs": [
    {
     "name": "stdout",
     "output_type": "stream",
     "text": [
      "Кількість зразків: 1\n",
      "Оцінка Q: 0.7063990217889996\n",
      "Вибіркова дисперсія: 0.019033112699155988\n",
      "Асимптотичний довірчий інтервал: [0.6708627396600985, 0.7419353039179005]\n",
      "Кількість спостережень: 100\n",
      "N*: 2529.088970387316\n",
      "\n",
      "Кількість зразків: 10\n",
      "Оцінка Q: 0.16919776724242563\n",
      "Вибіркова дисперсія: 0.0004736947955368792\n",
      "Асимптотичний довірчий інтервал: [0.16359159565315975, 0.17480393883169146]\n",
      "Кількість спостережень: 100\n",
      "N*: 1097.1444852165416\n",
      "\n",
      "Кількість зразків: 100\n",
      "Оцінка Q: 0.019637147042019187\n",
      "Вибіркова дисперсія: 1.1777245986145589e-06\n",
      "Асимптотичний довірчий інтервал: [0.019357610265614257, 0.01991668381842413]\n",
      "Кількість спостережень: 100\n",
      "N*: 202.50764751781026\n",
      "\n",
      "Кількість зразків: 1000\n",
      "Оцінка Q: 0.001999337084446198\n",
      "Вибіркова дисперсія: 1.264265449150741e-09\n",
      "Асимптотичний довірчий інтервал: [0.001990178334241417, 0.00200849583465098]\n",
      "Кількість спостережень: 100\n",
      "N*: 20.971074982251917\n",
      "\n",
      "Кількість зразків: 10000\n",
      "Оцінка Q: 0.00019987703798679605\n",
      "Вибіркова дисперсія: 1.7390227275082123e-12\n",
      "Асимптотичний довірчий інтервал: [0.00019953735819664087, 0.0002002167177769513]\n",
      "Кількість спостережень: 100\n",
      "N*: 2.8862497930199775\n",
      "\n"
     ]
    }
   ],
   "source": [
    "m_arr = [1, 10, 100, 1_000, 10_000] # for calculation Q_m\n",
    "n_0 = 100\n",
    "q_4 = lambda m, x, samples : (1 / (m - 1)) * ((np.sum(samples)) / (1 + np.sum(samples)))\n",
    "\n",
    "for m in m_arr:\n",
    "    indicators = []\n",
    "    for j in range(n_0):\n",
    "        samples = np.random.random(m)\n",
    "        indicators.append(q_2(samples))\n",
    "        \n",
    "    Q = Q_m(indicators, len(indicators))\n",
    "    sigma = calc_variance(indicators, len(indicators), Q)\n",
    "    \n",
    "    print(f\"Кількість зразків: {m}\")\n",
    "    print(f\"Оцінка Q: {Q}\")\n",
    "    print(f\"Вибіркова дисперсія: {sigma}\")\n",
    "    print(f\"Асимптотичний довірчий інтервал: {calculate_ci_2(indicators, gama)}\")\n",
    "    print(f\"Кількість спостережень: {n_0}\")\n",
    "    print(f\"N*: {(2.575 * 100) ** 2 * sigma / (Q ** 2)}\\n\")"
   ]
  },
  {
   "cell_type": "code",
   "execution_count": null,
   "metadata": {},
   "outputs": [],
   "source": []
  }
 ],
 "metadata": {
  "datalore": {
   "base_environment": "default",
   "computation_mode": "JUPYTER",
   "package_manager": "pip",
   "packages": [],
   "version": 1
  },
  "kernelspec": {
   "display_name": "Python 3",
   "language": "python",
   "name": "python3"
  },
  "language_info": {
   "codemirror_mode": {
    "name": "ipython",
    "version": 3
   },
   "file_extension": ".py",
   "mimetype": "text/x-python",
   "name": "python",
   "nbconvert_exporter": "python",
   "pygments_lexer": "ipython3",
   "version": "3.10.6"
  },
  "vscode": {
   "interpreter": {
    "hash": "916dbcbb3f70747c44a77c7bcd40155683ae19c65e1c03b4aa3499c5328201f1"
   }
  }
 },
 "nbformat": 4,
 "nbformat_minor": 4
}
