{
 "cells": [
  {
   "cell_type": "markdown",
   "source": [
    "# Побудова оцінок та довірчих інтервалів\n",
    "\n",
    "Будуємо довірчі інтервали для `n = 100, 10_000, 1_000_000`\n",
    "Рівень довіри = `0,99` (рівень значущості = `0.01`\n",
    "\n",
    "#### Довірчі інтервали для м.с. та дисперсії у випадку нормально розподіленої генеральної сукупності.\n",
    "##### Перша частина леми 1. (Пункт А):\n",
    "Вибіркове математичне сподівання: $\\hat{a}_{n}=\\frac {1}{n}\\sum^{n}_{k=1}X_k$\n",
    "Вибіркова дисперсія: $\\hat{\\sigma}^2_{n}=\\frac {1}{n}\\sum^{n}_{k=1}(X_k-\\hat{a}_{n})^2$\n",
    "Дов інтервал $a \\in a_n \\pm \\frac{z_{\\gamma}  \\sigma_n}{\\sqrt{n}}$\n",
    "К-ть ітерацій: $n$"
   ],
   "metadata": {
    "collapsed": false
   }
  },
  {
   "cell_type": "code",
   "execution_count": 48,
   "outputs": [],
   "source": [
    "import math\n",
    "\n",
    "import numpy as np\n",
    "from scipy.stats import chi2, t, norm"
   ],
   "metadata": {
    "collapsed": false
   }
  },
  {
   "cell_type": "code",
   "execution_count": 49,
   "outputs": [],
   "source": [
    "def calc_sample_variance(samples, sample_mean: float):\n",
    "    squared_variance = 0.\n",
    "    for sample in samples:\n",
    "        squared_variance += (sample - sample_mean) ** 2\n",
    "\n",
    "    squared_variance /= (len(samples) - 1)\n",
    "    return math.sqrt(squared_variance)\n",
    "\n",
    "\n",
    "def calc_sample_mean(samples):\n",
    "    mean = 0.\n",
    "    for sample in samples:\n",
    "        mean += sample\n",
    "    return mean / len(samples)\n",
    "\n",
    "def calc_s_squared(samples, sample_mean):\n",
    "    s_squared = 0\n",
    "    for sample in samples:\n",
    "        s_squared += (sample - sample_mean) ** 2\n",
    "\n",
    "    s_squared /= (len(samples) - 1)\n",
    "    return s_squared\n",
    "\n",
    "# generating samples with help of N(0,1) distribution\n",
    "def gen_samples(size: int):\n",
    "    samples = size * [None]\n",
    "    for i in range(size):\n",
    "        samples[i] = np.random.normal(0, 1)\n",
    "    return samples"
   ],
   "metadata": {
    "collapsed": false
   }
  },
  {
   "cell_type": "code",
   "execution_count": 50,
   "outputs": [
    {
     "name": "stdout",
     "output_type": "stream",
     "text": [
      "   samples_num:[100, 10000, 1000000]\n"
     ]
    }
   ],
   "source": [
    "samples_num = [100, 10_000, 1_000_000]\n",
    "samples_list = len(samples_num) * [None]\n",
    "alfa = 0.01\n",
    "gama = 1 - alfa\n",
    "\n",
    "# calculating 0.99 quantiles\n",
    "print(\"   samples_num:{0}\".format(samples_num))"
   ],
   "metadata": {
    "collapsed": false
   }
  },
  {
   "cell_type": "code",
   "execution_count": 51,
   "outputs": [],
   "source": [
    "# calculating Confidence Interval for the EXPECTATION(sigma^2) under the assumption:\n",
    "# - observed random value ~ N(0,1)\n",
    "# - sample variance is unknown\n",
    "def calculate_ci_1(samples):\n",
    "    sample_mean = calc_sample_mean(samples)\n",
    "    n_sq_root = math.sqrt(len(samples))\n",
    "    s_squared = calc_s_squared(samples, sample_mean)\n",
    "\n",
    "    g = t.ppf((1 + gama) / 2, df=len(samples)-1)\n",
    "    return [sample_mean - math.sqrt(s_squared) * g/ n_sq_root, sample_mean + math.sqrt(s_squared) * g / n_sq_root]\n",
    "\n",
    "\n",
    "# calculating Confidence Interval for the EXPECTATION under assumption:\n",
    "# - observed value distribution is unknown\n",
    "def calculate_ci_2(samples, gama):  # варіант в\n",
    "    sample_mean = calc_sample_mean(samples)\n",
    "    sample_variance = calc_sample_variance(samples, sample_mean)\n",
    "\n",
    "    n_sq_root = math.sqrt(len(samples))\n",
    "\n",
    "    c = norm.ppf((1 + gama) / 2)\n",
    "    return [sample_mean - sample_variance * c/ n_sq_root, sample_mean + sample_variance * c / n_sq_root]\n",
    "\n",
    "\n",
    "# calculating Confidence Interval for the variance under assumption:\n",
    "# - observed random value ~ N(0,1)\n",
    "def calculate_ci_3(samples, gama):\n",
    "    sample_mean = calc_sample_mean(samples)\n",
    "    g_1 = chi2.ppf((1 - gama) / 2, df=len(samples)-1)\n",
    "    g_2 = chi2.ppf((1 + gama) / 2, df=len(samples)-1)\n",
    "\n",
    "    squared_difference = 0\n",
    "    for sample in samples:\n",
    "        squared_difference = (sample - sample_mean) ** 2\n",
    "\n",
    "    return [squared_difference / g_2, squared_difference / g_1]\n",
    "\n",
    "\n",
    "def calculate_1_integral():\n",
    "    pass\n",
    "\n",
    "\n",
    "def calculate_2_integral():\n",
    "    pass\n",
    "\n",
    "\n",
    "def calculate_3_integral():\n",
    "    pass\n"
   ],
   "metadata": {
    "collapsed": false
   }
  },
  {
   "cell_type": "code",
   "execution_count": 52,
   "outputs": [
    {
     "name": "stdout",
     "output_type": "stream",
     "text": [
      "Sample_mean_[1]: 0.047777566999129634, Sample_variance_1: 0.9123888582375852\n",
      "CI of expected value (1): [-0.19185274056289472, 0.287407874561154]\n",
      "CI of expected value (2): [-0.18723822872885992, 0.2827933627271192]\n",
      "CI of variance (3)      : [0.005083687521965348, 0.010623428929215428]\n",
      "Sample_mean_[2]: 0.011888655900747997, Sample_variance_2: 1.007203233836424\n",
      "CI of expected value (1): [-0.014060133490729652, 0.037837445292225644]\n",
      "CI of expected value (2): [-0.014055180142702765, 0.03783249194419876]\n",
      "CI of variance (3)      : [5.425076673675621e-05, 5.835125890838432e-05]\n",
      "Sample_mean_[3]: 0.0003784940177670839, Sample_variance_3: 0.9987072997704358\n",
      "CI of expected value (1): [-0.0021940104208555107, 0.0029509984563896785]\n",
      "CI of expected value (2): [-0.002194005510649801, 0.0029509935461839686]\n",
      "CI of variance (3)      : [1.0669111176552241e-06, 1.0747125403618728e-06]\n"
     ]
    }
   ],
   "source": [
    "for i, sample_size in enumerate(samples_num):\n",
    "    samples_list[i] = gen_samples(sample_size)\n",
    "    sample_mean = calc_sample_mean(samples_list[i])\n",
    "    sample_variance = calc_sample_variance(samples_list[i], sample_mean)\n",
    "    # print(\"samples: {0}\".format(samples_list[i]))\n",
    "    print(f\"Sample_mean_[{i+1}]: {sample_mean}, Sample_variance_{i+1}: {sample_variance}\")\n",
    "    print(f\"CI of expected value (1): {calculate_ci_1(samples_list[i])}\")\n",
    "    print(f\"CI of expected value (2): {calculate_ci_2(samples_list[i], gama)}\")\n",
    "    print(f\"CI of variance (3)      : {calculate_ci_3(samples_list[i], gama)}\")\n",
    "    # print(\"CI of expected value (2): {0}\".format(calculate_ci_2(samples_list[i])))\n",
    "\n",
    "    calculate_1_integral()\n",
    "    calculate_2_integral()\n",
    "    calculate_3_integral()\n",
    "\n"
   ],
   "metadata": {
    "collapsed": false
   }
  },
  {
   "cell_type": "code",
   "execution_count": 52,
   "outputs": [],
   "source": [],
   "metadata": {
    "collapsed": false
   }
  }
 ],
 "metadata": {
  "kernelspec": {
   "display_name": "Python 3",
   "language": "python",
   "name": "python3"
  },
  "language_info": {
   "codemirror_mode": {
    "name": "ipython",
    "version": 2
   },
   "file_extension": ".py",
   "mimetype": "text/x-python",
   "name": "python",
   "nbconvert_exporter": "python",
   "pygments_lexer": "ipython2",
   "version": "2.7.6"
  }
 },
 "nbformat": 4,
 "nbformat_minor": 0
}
