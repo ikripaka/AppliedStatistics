{
 "cells": [
  {
   "cell_type": "markdown",
   "source": [
    "# Побудова оцінок та довірчих інтервалів\n",
    "\n",
    "\n",
    "Будуємо довірчі інтервали для `n = 100, 10_000, 1_000_000`\n",
    "Рівень довіри = `0,99`\n",
    "\n",
    "\n",
    "\n",
    "#### Довірчі інтервали для м.с. та дисперсії у випадку нормально розподіленої генеральної сукупності.\n",
    "##### Перша частина леми 1. (Пункт А):\n",
    "Оцінка $$\\hat{a}_{n}=\\frac {1}{n}\\sum^{n}_{k=1}X_k$$\n",
    "Дисперсія $$\\hat{\\sigma}^2_{n}=\\frac {1}{n}\\sum^{n}_{k=1}(X_k-\\hat{a}_{n})^2$$\n",
    "Дов інтервал $$a \\in a_n \\pm \\frac{z_{\\gamma}  \\sigma_n}{\\sqrt{n}}$$\n",
    "К-ть ітерацій $$n$$"
   ],
   "metadata": {
    "collapsed": false
   }
  },
  {
   "cell_type": "code",
   "execution_count": 18,
   "outputs": [],
   "source": [
    "import numpy as np\n",
    "import math\n",
    "from scipy.stats import norm"
   ],
   "metadata": {
    "collapsed": false
   }
  },
  {
   "cell_type": "code",
   "execution_count": 19,
   "outputs": [],
   "source": [
    "def calc_sample_variance(samples, sample_mean: float):\n",
    "    squared_variance = 0.\n",
    "    for sample in samples:\n",
    "        squared_variance += (sample - sample_mean) ** 2\n",
    "\n",
    "    squared_variance /= (samples.len() - 1)\n",
    "    return math.sqrt(squared_variance)\n",
    "\n",
    "\n",
    "def calc_sample_mean(samples):\n",
    "    mean = 0.\n",
    "    for sample in samples:\n",
    "        mean += sample\n",
    "    return mean / len(samples)\n",
    "\n",
    "\n",
    "def gen_samples(size: int):\n",
    "    samples = size * [None]\n",
    "    for i in range(size):\n",
    "        samples[i] = np.random.normal(0, 1)\n",
    "    return samples"
   ],
   "metadata": {
    "collapsed": false
   }
  },
  {
   "cell_type": "code",
   "execution_count": 20,
   "outputs": [],
   "source": [
    "samples_num = [100, 10_000, 1_000_000]\n",
    "samples_all = len(samples_num) * [None]\n",
    "alfa = 0.01\n",
    "\n",
    "# calculating 0.99 quantiles\n",
    "quantiles_alfa = norm.ppf(1 - alfa, loc=0, scale=1)\n",
    "print(\"   samples_num:{0}\\nquantiles_0.99:{1}\".format(samples_num, quantiles_alfa))"
   ],
   "metadata": {
    "collapsed": false
   }
  },
  {
   "cell_type": "code",
   "execution_count": 23,
   "outputs": [],
   "source": [
    "for i, sample_size in enumerate(samples_num) :\n",
    "    samples_all[i] = gen_samples(sample_size)\n",
    "    sample_mean = calc_sample_mean(samples_all[i])\n",
    "    sample_variance = calc_sample_variance(samples_all[i], sample_mean)\n",
    "    print(\"sample_mean_{0}: {1}, sample_variance_{0}: {2}\".format(i, sample_mean, sample_variance))"
   ],
   "metadata": {
    "collapsed": false
   }
  },
  {
   "cell_type": "code",
   "execution_count": null,
   "outputs": [],
   "source": [],
   "metadata": {
    "collapsed": false
   }
  }
 ],
 "metadata": {
  "kernelspec": {
   "display_name": "Python 3",
   "language": "python",
   "name": "python3"
  },
  "language_info": {
   "codemirror_mode": {
    "name": "ipython",
    "version": 2
   },
   "file_extension": ".py",
   "mimetype": "text/x-python",
   "name": "python",
   "nbconvert_exporter": "python",
   "pygments_lexer": "ipython2",
   "version": "2.7.6"
  }
 },
 "nbformat": 4,
 "nbformat_minor": 0
}
