{
 "cells": [
  {
   "cell_type": "code",
   "execution_count": 1,
   "metadata": {
    "datalore": {
     "hide_input_from_viewers": false,
     "hide_output_from_viewers": false,
     "node_id": "x5MJK6BwDYF0sNncJGwXf3",
     "report_properties": {},
     "type": "CODE"
    }
   },
   "outputs": [],
   "source": [
    "import math\n",
    "\n",
    "import matplotlib.pyplot as plt\n",
    "import numpy as np\n",
    "import pandas as pd"
   ]
  },
  {
   "cell_type": "markdown",
   "metadata": {
    "datalore": {
     "hide_input_from_viewers": false,
     "hide_output_from_viewers": false,
     "node_id": "WYwbKUmB41jZRXl3vPrUYl",
     "report_properties": {},
     "type": "MD"
    }
   },
   "source": [
    "## Завдання 1\n",
    "### Маємо вибірку \n",
    "$$\\overline{X} = (X_{1}, \\ldots , X_{n}), де \\{ X_{i} \\}$$\n",
    "### незалежні однаково розподілені випадкові величини\n",
    "\n",
    "### Рівень значимості маємо\n",
    "$$\\gamma = 0.05$$\n",
    "$$z_{\\gamma} = 1.36$$"
   ]
  },
  {
   "cell_type": "code",
   "execution_count": 2,
   "metadata": {
    "datalore": {
     "hide_input_from_viewers": false,
     "hide_output_from_viewers": false,
     "node_id": "SVQS2xBjRJtJVokA0fl6zq",
     "report_properties": {},
     "type": "CODE"
    }
   },
   "outputs": [],
   "source": [
    "gamma = 0.05\n",
    "z_gamma = 1.36"
   ]
  },
  {
   "cell_type": "markdown",
   "metadata": {
    "datalore": {
     "hide_input_from_viewers": false,
     "hide_output_from_viewers": false,
     "node_id": "2f9sPsDNow2NgCoiniJsBa",
     "report_properties": {},
     "type": "MD"
    }
   },
   "source": [
    "## Завдання 1.\n",
    "\n",
    "**1. Oбираємо рівень значимості**\n",
    "\n",
    "Обираємо $\\gamma$ та за таблицею для розподілу Колмогорова знаходимо $z_{\\gamma}$ таке, що $K(z_{\\gamma}) = 1 - \\gamma$.\n",
    "\n",
    "**Маємо, що**\n",
    "$$\\gamma = 0.05$$\n",
    "$$z_{\\gamma} = 1.36$$\n",
    "\n",
    "**2. За формулою**\n",
    "$$D_n(\\bar x) = \\max_{1 \\le k \\le n}{\\{ \\max{ \\{ (F(x_{(k)})-\\frac{k-1}{n}),(\\frac{k}{n}-(F(x_{(k)}))\\}}\\}}$$\n",
    "обчислюємо $D_n(\\bar x)$.\n",
    "\n",
    "**3. Якщо**\n",
    "$$ \\sqrt{n}D_n(\\bar x)<z_{\\gamma}, $$\n",
    "то робимо висновок: статистичні дані не суперечать гіпотезі $H_0$. Якщо ж $\\bar x \\in Z_1$, то слід прийняти альтернативну гіпотезу $H_1$."
   ]
  },
  {
   "cell_type": "code",
   "execution_count": 3,
   "metadata": {
    "datalore": {
     "hide_input_from_viewers": false,
     "hide_output_from_viewers": false,
     "node_id": "nPPSoc0OmXPbjHjv2UdZGb",
     "report_properties": {},
     "type": "CODE"
    }
   },
   "outputs": [],
   "source": [
    "# lambdas that used for describing distribution characteristics ~ F(u, 1) ( ~ F(u, 1.3))\n",
    "LAMBDA1 = 1\n",
    "LAMBDA2 = 1.3\n",
    "\n",
    "F_function_empirical = lambda u, X: np.count_nonzero(u >= X) / len(\n",
    "    X)  # Функція розподілу. емпірична (calculating [sum v_i]/n)\n",
    "F_function_theoretical = lambda u, LAMBDA: 1 - np.math.exp(\n",
    "    (-1) * LAMBDA * u)  # Функція розподілу. теоретична (used from assignment)"
   ]
  },
  {
   "cell_type": "code",
   "execution_count": 4,
   "metadata": {
    "datalore": {
     "hide_input_from_viewers": false,
     "hide_output_from_viewers": false,
     "node_id": "nAVuH9dNbkNEwaYClnGpU9",
     "report_properties": {},
     "type": "CODE"
    }
   },
   "outputs": [],
   "source": [
    "# calculating D_n(x) (test statistics) for\n",
    "def Dn_max(Xk, LAMBDA):\n",
    "    n = len(Xk)\n",
    "    Dn_m_p = np.max([k / n - F_function_theoretical(x, LAMBDA) for k, x in enumerate(Xk)])\n",
    "    Dn_m_n = np.max([F_function_theoretical(x, LAMBDA) - (k - 1) / n for k, x in enumerate(Xk)])\n",
    "    return [Dn_m_n, Dn_m_p]"
   ]
  },
  {
   "cell_type": "markdown",
   "metadata": {
    "datalore": {
     "hide_input_from_viewers": false,
     "hide_output_from_viewers": false,
     "node_id": "D6CQUipThK7yQHEXkmlkO4",
     "report_properties": {},
     "type": "MD"
    }
   },
   "source": [
    "### Для $\\lambda = 1$"
   ]
  },
  {
   "cell_type": "code",
   "execution_count": 39,
   "metadata": {
    "datalore": {
     "hide_input_from_viewers": false,
     "hide_output_from_viewers": false,
     "node_id": "TzCcoga2mfWHjNisQrvch3",
     "report_properties": {},
     "type": "CODE"
    },
    "ExecuteTime": {
     "start_time": "2023-04-05T18:29:27.692334Z",
     "end_time": "2023-04-05T18:29:27.844717Z"
    }
   },
   "outputs": [
    {
     "name": "stdout",
     "output_type": "stream",
     "text": [
      "1: 1.36\n"
     ]
    }
   ],
   "source": [
    "N = [pow(10, 3), pow(10, 4), pow(10, 5)]\n",
    "X1_1000 = np.sort(np.random.exponential(LAMBDA1, size=N[0]))\n",
    "X1_10000 = np.sort(np.random.exponential(LAMBDA1, size=N[1]))\n",
    "X1_100000 = np.sort(np.random.exponential(LAMBDA1, size=N[2]))\n",
    "\n",
    "D1 = [np.sqrt(N[0]) * max(Dn_max(X1_1000, LAMBDA1)), np.sqrt(N[1]) * max(Dn_max(X1_10000, LAMBDA1)),\n",
    "      np.sqrt(N[2]) * max(Dn_max(X1_100000, LAMBDA1))]\n",
    "\n",
    "print(f\"z_gamma: {z_gamma}\")\n",
    "\n",
    "\n",
    "RES_FOR_LAMBDA1 = ['H0' if element < z_gamma else 'false' for element in D1]\n"
   ]
  },
  {
   "cell_type": "markdown",
   "metadata": {
    "datalore": {
     "hide_input_from_viewers": false,
     "hide_output_from_viewers": false,
     "node_id": "HeN2CnTk5jxsvDuotn2h44",
     "report_properties": {},
     "type": "MD"
    }
   },
   "source": [
    "### Для $\\lambda = 1.3$"
   ]
  },
  {
   "cell_type": "code",
   "execution_count": 40,
   "metadata": {
    "datalore": {
     "hide_input_from_viewers": false,
     "hide_output_from_viewers": false,
     "node_id": "Pq9tsbYwLiPGEJBr81ps1u",
     "report_properties": {},
     "type": "CODE"
    },
    "ExecuteTime": {
     "start_time": "2023-04-05T18:29:30.408357Z",
     "end_time": "2023-04-05T18:29:30.537719Z"
    }
   },
   "outputs": [
    {
     "name": "stdout",
     "output_type": "stream",
     "text": [
      "2: 1.36\n"
     ]
    }
   ],
   "source": [
    "LAMBDA2 = 1.1\n",
    "\n",
    "X2_1000 = np.sort(np.random.exponential(LAMBDA2, size=N[0]))\n",
    "X2_10000 = np.sort(np.random.exponential(LAMBDA2, size=N[1]))\n",
    "X2_100000 = np.sort(np.random.exponential(LAMBDA2, size=N[2]))\n",
    "\n",
    "D2 = [np.sqrt(N[0]) * max(Dn_max(X2_1000, LAMBDA2)), np.sqrt(N[1]) * max(Dn_max(X2_10000, LAMBDA2)),\n",
    "      np.sqrt(N[2]) * max(Dn_max(X2_100000, LAMBDA2))]\n",
    "\n",
    "print(f\"z_gamma: {z_gamma}\")\n",
    "RES_FOR_LAMBDA2 = ['H0' if element < z_gamma else 'false' for element in D2]"
   ]
  },
  {
   "cell_type": "code",
   "execution_count": 41,
   "metadata": {
    "datalore": {
     "hide_input_from_viewers": false,
     "hide_output_from_viewers": false,
     "node_id": "kR7ehp1Mr2gozItZ45rDfg",
     "report_properties": {},
     "type": "CODE"
    },
    "ExecuteTime": {
     "start_time": "2023-04-05T18:29:32.211342Z",
     "end_time": "2023-04-05T18:29:32.232068Z"
    }
   },
   "outputs": [],
   "source": [
    "data_1 = {\"Завдання 1\": [\"\", \"\", \"\"], \"D\": D1, \"Результат для lambda = 1\": RES_FOR_LAMBDA1, \"D2\": D2,\n",
    "          \"Результат для lambda = 1.3\": RES_FOR_LAMBDA2}\n",
    "df1 = pd.DataFrame.from_dict(data_1, orient='index', columns=N)"
   ]
  },
  {
   "cell_type": "code",
   "execution_count": 42,
   "metadata": {
    "datalore": {
     "hide_input_from_viewers": false,
     "hide_output_from_viewers": false,
     "node_id": "0PcQtwAf0Tsk6Q77Ep4sHQ",
     "report_properties": {},
     "type": "CODE"
    },
    "ExecuteTime": {
     "start_time": "2023-04-05T18:29:32.906986Z",
     "end_time": "2023-04-05T18:29:32.927858Z"
    }
   },
   "outputs": [
    {
     "data": {
      "text/plain": "                              1000      10000      100000\nЗавдання 1                                               \nD                           0.477258  0.826485   1.244235\nРезультат для lambda = 1          H0        H0         H0\nD2                           2.84915  7.615531  22.956435\nРезультат для lambda = 1.3     false     false      false",
      "text/html": "<div>\n<style scoped>\n    .dataframe tbody tr th:only-of-type {\n        vertical-align: middle;\n    }\n\n    .dataframe tbody tr th {\n        vertical-align: top;\n    }\n\n    .dataframe thead th {\n        text-align: right;\n    }\n</style>\n<table border=\"1\" class=\"dataframe\">\n  <thead>\n    <tr style=\"text-align: right;\">\n      <th></th>\n      <th>1000</th>\n      <th>10000</th>\n      <th>100000</th>\n    </tr>\n  </thead>\n  <tbody>\n    <tr>\n      <th>Завдання 1</th>\n      <td></td>\n      <td></td>\n      <td></td>\n    </tr>\n    <tr>\n      <th>D</th>\n      <td>0.477258</td>\n      <td>0.826485</td>\n      <td>1.244235</td>\n    </tr>\n    <tr>\n      <th>Результат для lambda = 1</th>\n      <td>H0</td>\n      <td>H0</td>\n      <td>H0</td>\n    </tr>\n    <tr>\n      <th>D2</th>\n      <td>2.84915</td>\n      <td>7.615531</td>\n      <td>22.956435</td>\n    </tr>\n    <tr>\n      <th>Результат для lambda = 1.3</th>\n      <td>false</td>\n      <td>false</td>\n      <td>false</td>\n    </tr>\n  </tbody>\n</table>\n</div>"
     },
     "execution_count": 42,
     "metadata": {},
     "output_type": "execute_result"
    }
   ],
   "source": [
    "df1"
   ]
  },
  {
   "cell_type": "markdown",
   "metadata": {
    "datalore": {
     "hide_input_from_viewers": false,
     "hide_output_from_viewers": false,
     "node_id": "LVpRB4k97rEgHOt0Z9F678",
     "report_properties": {},
     "type": "MD"
    }
   },
   "source": [
    "## Завдання 2\n",
    "\n",
    "$r = 30 \\cdot \\dfrac{n}{1000}$\n",
    "\n",
    "1. Обираємо $\\lambda$ та обчислюємо за таблицею $\\chi^2$ - розподілу знаходимо $z_{\\lambda}$ таке, що $T_{r-m-1}(z_{\\lambda}) = 1 - \\lambda$\n",
    "2. Обчислюємо ймовірності {$p_i(\\bar{\\theta})$} та частоти {$v_i$}\n",
    "за допомогою критерію $\\chi^2$ перевірити гіпотези\n",
    "3. Знаходимо значення оцінки $\\overline{\\Delta_n^{(r)}} = \\sum_{i=1}^{r} \\dfrac{v_i^2}{np_i} - n$\n",
    "4. Як $\\Delta_n^{(r)} < z_{\\gamma}$, приймаємо $H_0$, інакше $H_1$\n",
    "\n",
    "**Зауваження**\n",
    "Кількість проміжків обирати з умови: $$r=\\frac{30 \\times n}{1000}$$"
   ]
  },
  {
   "cell_type": "markdown",
   "metadata": {
    "datalore": {
     "hide_input_from_viewers": false,
     "hide_output_from_viewers": false,
     "node_id": "Zs9b2t48TRoTnRdwsAftF5",
     "report_properties": {},
     "type": "MD"
    }
   },
   "source": [
    "### $\\chi^2$ - міра\n",
    "$$\\Delta^{(x)}_r=\\sum^{r}_{i=1} \\frac{(v_i-np_i)^2}{n p_i}$$"
   ]
  },
  {
   "cell_type": "code",
   "execution_count": 9,
   "metadata": {
    "datalore": {
     "hide_input_from_viewers": false,
     "hide_output_from_viewers": false,
     "node_id": "WIMfvms1guxqtbNWcFosiL",
     "report_properties": {},
     "type": "CODE"
    }
   },
   "outputs": [
    {
     "data": {
      "text/plain": [
       "43.488497255243864"
      ]
     },
     "execution_count": 9,
     "metadata": {},
     "output_type": "execute_result"
    }
   ],
   "source": [
    "# p = 1 - 0.05 = 0.95\n",
    "xi_average = 1.645\n",
    "\n",
    "xi_30 = 43.8\n",
    "\n",
    "r = lambda n: int(30 * n / 1000)\n",
    "xi_big = lambda n: (xi_average + np.math.sqrt(2 * n - 1)) ** 2 / 2\n",
    "\n",
    "xi_big(r(1000))"
   ]
  },
  {
   "cell_type": "code",
   "execution_count": 10,
   "metadata": {
    "datalore": {
     "hide_input_from_viewers": false,
     "hide_output_from_viewers": false,
     "node_id": "WcPLC7gV51lglwf6wypSu2",
     "report_properties": {},
     "type": "CODE"
    }
   },
   "outputs": [
    {
     "name": "stdout",
     "output_type": "stream",
     "text": [
      "1000 30 1.0\n",
      "20.12893595212123\n"
     ]
    }
   ],
   "source": [
    "def xi_sqr(X):\n",
    "    n = len(X)\n",
    "    # кількість проміжків\n",
    "    R = r(n)\n",
    "    tmp = R / 30\n",
    "    print(n, R, tmp)\n",
    "\n",
    "    # обчислюємо інтеграл (наступна точка - попередня) = ймовірність[i]\n",
    "    p = [F_function_theoretical(i / tmp, LAMBDA1) - F_function_theoretical((i - 1) / tmp, LAMBDA1) for i in\n",
    "         range(1, R + 1)]\n",
    "    v = np.zeros(R)\n",
    "    for i in range(n):\n",
    "        v[math.ceil(np.random.choice(X, 1) * tmp) - 1] += 1\n",
    "\n",
    "    delta = np.sum([((v[i] - n * p[i]) ** 2) / (n * p[i]) for i in range(R)])\n",
    "    return delta\n",
    "\n",
    "\n",
    "res = xi_sqr(np.copy(X1_1000))\n",
    "\n",
    "print(res)"
   ]
  },
  {
   "cell_type": "code",
   "execution_count": 11,
   "metadata": {
    "datalore": {
     "hide_input_from_viewers": false,
     "hide_output_from_viewers": false,
     "node_id": "4TrFWRXT7XLkSii2gHAt9D",
     "report_properties": {},
     "type": "CODE"
    }
   },
   "outputs": [
    {
     "name": "stdout",
     "output_type": "stream",
     "text": [
      "1000 30 1.0\n",
      "10000 300 10.0\n",
      "100000 3000 100.0\n",
      "1000 30 1.0\n",
      "10000 300 10.0\n",
      "100000 3000 100.0\n"
     ]
    }
   ],
   "source": [
    "N2 = [pow(10, 3), pow(10, 4), pow(10, 5)]\n",
    "XI = [17.70836618, 259.9453829, 2872.758544]  #[xi_big(N[i]) for i in range(3)]\n",
    "D_2_1 = [xi_sqr(X1_1000), xi_sqr(X1_10000), xi_sqr(X1_100000)]\n",
    "D_2_2 = [xi_sqr(X2_1000), xi_sqr(X2_10000), xi_sqr(X2_100000)]\n",
    "RES_2_1 = [\"H0\" if D_2_1[i] < XI[i] else \"False\" for i in range(3)]\n",
    "RES_2_2 = [\"H0\" if D_2_2[i] < XI[i] else \"False\" for i in range(3)]\n",
    "\n",
    "data_2 = {\"Завдання 2\": [\"\", \"\", \"\"], \"XI_sqr\": XI, \"lambda == 1\": D_2_1, \"RES_2_1\": RES_2_1, \"lambda == 1.3\": D_2_2,\n",
    "          \"RES_2_2\": RES_2_2}\n",
    "df2 = pd.DataFrame.from_dict(data_2, orient='index', columns=N)"
   ]
  },
  {
   "cell_type": "code",
   "execution_count": 12,
   "metadata": {
    "datalore": {
     "hide_input_from_viewers": false,
     "hide_output_from_viewers": false,
     "node_id": "kBDckhhrT8I6C5X8vFLXY2",
     "report_properties": {},
     "type": "CODE"
    }
   },
   "outputs": [
    {
     "data": {
      "text/html": [
       "<div>\n",
       "<style scoped>\n",
       "    .dataframe tbody tr th:only-of-type {\n",
       "        vertical-align: middle;\n",
       "    }\n",
       "\n",
       "    .dataframe tbody tr th {\n",
       "        vertical-align: top;\n",
       "    }\n",
       "\n",
       "    .dataframe thead th {\n",
       "        text-align: right;\n",
       "    }\n",
       "</style>\n",
       "<table border=\"1\" class=\"dataframe\">\n",
       "  <thead>\n",
       "    <tr style=\"text-align: right;\">\n",
       "      <th></th>\n",
       "      <th>1000</th>\n",
       "      <th>10000</th>\n",
       "      <th>100000</th>\n",
       "    </tr>\n",
       "  </thead>\n",
       "  <tbody>\n",
       "    <tr>\n",
       "      <th>Завдання 2</th>\n",
       "      <td></td>\n",
       "      <td></td>\n",
       "      <td></td>\n",
       "    </tr>\n",
       "    <tr>\n",
       "      <th>XI_sqr</th>\n",
       "      <td>17.708366</td>\n",
       "      <td>259.945383</td>\n",
       "      <td>2872.758544</td>\n",
       "    </tr>\n",
       "    <tr>\n",
       "      <th>lambda == 1</th>\n",
       "      <td>15.714386</td>\n",
       "      <td>126.773109</td>\n",
       "      <td>2174.868861</td>\n",
       "    </tr>\n",
       "    <tr>\n",
       "      <th>RES_2_1</th>\n",
       "      <td>H0</td>\n",
       "      <td>H0</td>\n",
       "      <td>H0</td>\n",
       "    </tr>\n",
       "    <tr>\n",
       "      <th>lambda == 1.3</th>\n",
       "      <td>118.303147</td>\n",
       "      <td>3936.8641</td>\n",
       "      <td>31766.965561</td>\n",
       "    </tr>\n",
       "    <tr>\n",
       "      <th>RES_2_2</th>\n",
       "      <td>False</td>\n",
       "      <td>False</td>\n",
       "      <td>False</td>\n",
       "    </tr>\n",
       "  </tbody>\n",
       "</table>\n",
       "</div>"
      ],
      "text/plain": [
       "                   1000        10000         100000\n",
       "Завдання 2                                         \n",
       "XI_sqr          17.708366  259.945383   2872.758544\n",
       "lambda == 1     15.714386  126.773109   2174.868861\n",
       "RES_2_1                H0          H0            H0\n",
       "lambda == 1.3  118.303147   3936.8641  31766.965561\n",
       "RES_2_2             False       False         False"
      ]
     },
     "execution_count": 12,
     "metadata": {},
     "output_type": "execute_result"
    }
   ],
   "source": [
    "df2"
   ]
  },
  {
   "cell_type": "code",
   "execution_count": 13,
   "metadata": {
    "datalore": {
     "hide_input_from_viewers": false,
     "hide_output_from_viewers": false,
     "node_id": "zaGWHOo5pkku8tZvHsFbhU",
     "report_properties": {},
     "type": "CODE"
    }
   },
   "outputs": [
    {
     "data": {
      "text/plain": [
       "Text(100000, 31766.965561491965, '31766.966')"
      ]
     },
     "execution_count": 13,
     "metadata": {},
     "output_type": "execute_result"
    },
    {
     "data": {
      "image/png": "[encoded data removed]",
      "text/plain": [
       "<Figure size 1500x500 with 3 Axes>"
      ]
     },
     "metadata": {},
     "output_type": "display_data"
    }
   ],
   "source": [
    "fig, ax = plt.subplots(1, 3, figsize=(15, 5), sharey=True)\n",
    "ax[0].plot(N[0], D_2_1[0], 'bo', N[0], D_2_2[0], 'ro')\n",
    "ax[1].plot(N[1], D_2_1[1], 'bo', N[1], D_2_2[1], 'ro')\n",
    "ax[2].plot(N[2], D_2_1[2], 'bo', N[2], D_2_2[2], 'ro')\n",
    "\n",
    "ax[0].axhline(XI[0], color='r')\n",
    "ax[1].axhline(XI[1], color='r')\n",
    "ax[2].axhline(XI[2], color='r')\n",
    "\n",
    "ax[0].set(title=f'N = {N[0]}\\nZ_gamma = {round(XI[0], 3)}')\n",
    "ax[1].set(title=f'N = {N[1]}\\nZ_gamma = {round(XI[1], 3)}')\n",
    "ax[2].set(title=f'N = {N[2]}\\nZ_gamma = {round(XI[2], 3)}')\n",
    "\n",
    "ax[0].annotate(f\"{round(D_2_1[0], 3)}\", (N[0], D_2_1[0]))\n",
    "ax[0].annotate(f\"{round(D_2_2[0], 3)}\", (N[0], D_2_2[0]))\n",
    "\n",
    "ax[1].annotate(f\"{round(D_2_1[1], 3)}\", (N[1], D_2_1[1]))\n",
    "ax[1].annotate(f\"{round(D_2_2[1], 3)}\", (N[1], D_2_2[1]))\n",
    "\n",
    "ax[2].annotate(f\"{round(D_2_1[2], 3)}\", (N[2], D_2_1[2]))\n",
    "ax[2].annotate(f\"{round(D_2_2[2], 3)}\", (N[2], D_2_2[2]))"
   ]
  },
  {
   "cell_type": "markdown",
   "metadata": {
    "datalore": {
     "hide_input_from_viewers": false,
     "hide_output_from_viewers": false,
     "node_id": "j40waIh1IJh1grGNNiZzaj",
     "report_properties": {},
     "type": "MD"
    }
   },
   "source": [
    "### Завдання 3\n",
    "\n",
    "$\\rho = 2, r = \\dfrac{n}{2}$\n",
    "\n",
    "**Критерій пустих ящиків**\n",
    "1. Генеруємо вибірку довжини $n$, ділимо її на відрізки по 2\n",
    "2. Обчислюємо скільки елементів таки потрапило у інтервали\n",
    "3. Обчислюємо статистику $\\mu_0 = \\eta_1 + \\cdots + \\eta_r, \\text{де } \\eta_i = I(v_i = 0), i = 1..r$, $v_i$ -- кількості потрапляння елементів у вибірки у відповідні інтервали\n",
    "4. Рахуємо критичну область $k_{\\gamma} = re^{-\\rho} + z_{\\gamma}\\sqrt{re^{-\\rho}(1-(1+\\rho)e^{-\\rho})}$\n",
    "5. Як $\\mu < k_{\\gamma}$ приймаємо $H_0$, інакше $H_1$"
   ]
  },
  {
   "cell_type": "code",
   "execution_count": 14,
   "metadata": {
    "datalore": {
     "hide_input_from_viewers": false,
     "hide_output_from_viewers": false,
     "node_id": "kpIHEio6wQ3Z3ZvM4wgI1A",
     "report_properties": {},
     "type": "CODE"
    }
   },
   "outputs": [
    {
     "data": {
      "text/plain": [
       "(647, 709.6532428172949)"
      ]
     },
     "execution_count": 14,
     "metadata": {},
     "output_type": "execute_result"
    }
   ],
   "source": [
    "def empty_box(data, lambda_box):\n",
    "    #n = len(data)\n",
    "    n = data\n",
    "    ro = 2\n",
    "    R = int(n / ro)\n",
    "    z_gamma = 1.644853627\n",
    "\n",
    "    # v -- масив відрізків\n",
    "    v = np.zeros(R)\n",
    "    for i in range(n):\n",
    "        x = np.random.exponential(lambda_box, 1)\n",
    "        v[math.ceil(F_function_theoretical(x, LAMBDA1) * R) - 1] += 1\n",
    "\n",
    "    # рахуємо кількість пустих відрізків\n",
    "    mu = np.count_nonzero(v == 0)\n",
    "    e_pow_m_ro = math.exp(-ro)\n",
    "    k_gamma = R * e_pow_m_ro + z_gamma * math.sqrt(R * e_pow_m_ro * (1 - (1 + ro) * e_pow_m_ro))\n",
    "\n",
    "    return mu, k_gamma\n",
    "\n",
    "\n",
    "empty_box(10000, 1)"
   ]
  },
  {
   "cell_type": "code",
   "execution_count": 15,
   "metadata": {
    "datalore": {
     "hide_input_from_viewers": false,
     "hide_output_from_viewers": false,
     "node_id": "ziEuRr8Xgr0QdDvvfA6j2F",
     "report_properties": {},
     "type": "CODE"
    }
   },
   "outputs": [],
   "source": [
    "N3 = [pow(10, 3), pow(10, 4), pow(10, 5)]\n",
    "\n",
    "D_1 = [empty_box(N2[i], LAMBDA1) for i in range(3)]\n",
    "D_2 = [empty_box(N2[i], LAMBDA2) for i in range(3)]\n",
    "\n",
    "D_1_res = [D_1[i][0] for i in range(3)]\n",
    "D_1_crit = [D_1[i][1] for i in range(3)]\n",
    "\n",
    "D_2_res = [D_2[i][0] for i in range(3)]\n",
    "D_2_crit = [D_2[i][1] for i in range(3)]\n",
    "\n",
    "RES_1 = [\"H0\" if D_1[i][0] < D_1[i][1] else \"False\" for i in range(3)]\n",
    "RES_2 = [\"H0\" if D_2[i][0] < D_2[i][1] else \"False\" for i in range(3)]\n",
    "\n",
    "data_3 = {\"Завдання 3\": [\"\", \"\", \"\"],\n",
    "          \"mu 1\": D_1_res,\n",
    "          \"k_gamma 1\": D_1_crit,\n",
    "          \"RES\": RES_1,\n",
    "          \"mu 1.2\": D_2_res,\n",
    "          \"k_gamma 1.3\": D_2_crit,\n",
    "          \"RES2\": RES_2\n",
    "          }\n",
    "df3 = pd.DataFrame.from_dict(data_3, orient='index', columns=N)"
   ]
  },
  {
   "cell_type": "code",
   "execution_count": 16,
   "metadata": {
    "datalore": {
     "hide_input_from_viewers": false,
     "hide_output_from_viewers": false,
     "node_id": "qYOEj64wgjUq1Hyt2oMf1U",
     "report_properties": {},
     "type": "CODE"
    }
   },
   "outputs": [
    {
     "data": {
      "text/html": [
       "<div>\n",
       "<style scoped>\n",
       "    .dataframe tbody tr th:only-of-type {\n",
       "        vertical-align: middle;\n",
       "    }\n",
       "\n",
       "    .dataframe tbody tr th {\n",
       "        vertical-align: top;\n",
       "    }\n",
       "\n",
       "    .dataframe thead th {\n",
       "        text-align: right;\n",
       "    }\n",
       "</style>\n",
       "<table border=\"1\" class=\"dataframe\">\n",
       "  <thead>\n",
       "    <tr style=\"text-align: right;\">\n",
       "      <th></th>\n",
       "      <th>1000</th>\n",
       "      <th>10000</th>\n",
       "      <th>100000</th>\n",
       "    </tr>\n",
       "  </thead>\n",
       "  <tbody>\n",
       "    <tr>\n",
       "      <th>Завдання 3</th>\n",
       "      <td></td>\n",
       "      <td></td>\n",
       "      <td></td>\n",
       "    </tr>\n",
       "    <tr>\n",
       "      <th>mu 1</th>\n",
       "      <td>58</td>\n",
       "      <td>642</td>\n",
       "      <td>6782</td>\n",
       "    </tr>\n",
       "    <tr>\n",
       "      <th>k_gamma 1</th>\n",
       "      <td>78.09583</td>\n",
       "      <td>709.653243</td>\n",
       "      <td>6871.046044</td>\n",
       "    </tr>\n",
       "    <tr>\n",
       "      <th>RES</th>\n",
       "      <td>H0</td>\n",
       "      <td>H0</td>\n",
       "      <td>H0</td>\n",
       "    </tr>\n",
       "    <tr>\n",
       "      <th>mu 1.2</th>\n",
       "      <td>81</td>\n",
       "      <td>744</td>\n",
       "      <td>7535</td>\n",
       "    </tr>\n",
       "    <tr>\n",
       "      <th>k_gamma 1.3</th>\n",
       "      <td>78.09583</td>\n",
       "      <td>709.653243</td>\n",
       "      <td>6871.046044</td>\n",
       "    </tr>\n",
       "    <tr>\n",
       "      <th>RES2</th>\n",
       "      <td>False</td>\n",
       "      <td>False</td>\n",
       "      <td>False</td>\n",
       "    </tr>\n",
       "  </tbody>\n",
       "</table>\n",
       "</div>"
      ],
      "text/plain": [
       "               1000        10000        100000\n",
       "Завдання 3                                    \n",
       "mu 1               58         642         6782\n",
       "k_gamma 1    78.09583  709.653243  6871.046044\n",
       "RES                H0          H0           H0\n",
       "mu 1.2             81         744         7535\n",
       "k_gamma 1.3  78.09583  709.653243  6871.046044\n",
       "RES2            False       False        False"
      ]
     },
     "execution_count": 16,
     "metadata": {},
     "output_type": "execute_result"
    }
   ],
   "source": [
    "df3"
   ]
  },
  {
   "cell_type": "markdown",
   "metadata": {
    "datalore": {
     "hide_input_from_viewers": false,
     "hide_output_from_viewers": false,
     "node_id": "9rNoybBaXFWfqgj2F3V4bt",
     "report_properties": {},
     "type": "MD"
    }
   },
   "source": [
    "### Завдання 4\n",
    "$$ m = \\dfrac{n}{2} $$\n",
    "**Критерій однорідності Смірнова**\n",
    "\n",
    "Тобто маючи 2 незалежні вибірки треба встановити чи обидві вибірки отримані згідно одного і того ж розподілу.\n",
    "\n",
    "**Алгоритм**\n",
    "1. Обираємо рівень значимості $\\gamma$\n",
    "2. Обчислюємо статистику $D_{n,m}(\\overline{x}, \\overline{y}) = \\max(D_{n,m}^{-}, D_{n,m}^{+})$\n",
    "$$ D_{n,m}^{+} = \\max_{1 \\leq k \\leq m} \\left( \\dfrac{k}{m} - \\hat{\\bar{F_n^{(1)}}}(y_{(k)}) \\right) $$\n",
    "$$ D_{n,m}^{-} = \\max_{1 \\leq k \\leq m} \\left( \\hat{\\bar{F_n^{(1)}}}(y_{(k)}) - \\dfrac{k - 1}{m} \\right) $$\n",
    "3. Визначити критичну область $Crit = z_{\\gamma} \\sqrt{ \\dfrac{1}{n} + \\dfrac{1}{m} }$\n",
    "4. Як $D_{n,m}(\\overline{x}, \\overline{y}) > Crit$ -- приймаємо $H_1$, інакше $H_0$"
   ]
  },
  {
   "cell_type": "code",
   "execution_count": 26,
   "metadata": {
    "datalore": {
     "hide_input_from_viewers": false,
     "hide_output_from_viewers": false,
     "node_id": "EO7dt9s2HD6dbLGhn3eOOt",
     "report_properties": {},
     "type": "CODE"
    },
    "ExecuteTime": {
     "start_time": "2023-04-05T18:25:18.595475Z",
     "end_time": "2023-04-05T18:25:18.674107Z"
    }
   },
   "outputs": [
    {
     "data": {
      "text/plain": "[0.052000000000000046, 0.0744902678207026]"
     },
     "execution_count": 26,
     "metadata": {},
     "output_type": "execute_result"
    }
   ],
   "source": [
    "def get_X_2(X1, LAMBDA):\n",
    "    return np.sort(np.random.exponential(LAMBDA, int(len(X1) / 2)))\n",
    "\n",
    "\n",
    "def smirnoff_method(X1, X2):\n",
    "    n = len(X1)\n",
    "    m = len(X2)\n",
    "\n",
    "    D_mn_plus = np.max([k / m - F_function_empirical(X2[k], X1) for k in range(m)])\n",
    "\n",
    "    D_mn_sub = np.max([F_function_empirical(X2[k], X1) - (k - 1) / m for k in range(m)])\n",
    "\n",
    "    D_mn = max(D_mn_sub, D_mn_plus)\n",
    "\n",
    "    return [D_mn, z_gamma * np.math.sqrt(1 / n + 1 / m)]\n",
    "\n",
    "\n",
    "X_half = get_X_2(X1_1000, 1)\n",
    "\n",
    "smirnoff_method(X1_1000, X_half)"
   ]
  },
  {
   "cell_type": "markdown",
   "metadata": {
    "datalore": {
     "hide_input_from_viewers": false,
     "hide_output_from_viewers": false,
     "node_id": "jxN02HX35uQyMQKo9Jz3Pv",
     "report_properties": {},
     "type": "MD"
    }
   },
   "source": [
    "### Випадок 1\n",
    "$$ H_0\\ :\\ \\bar{ X^{(1)}} \\sim F(u,1), \\bar{ X^{(2)}} \\sim F(u,1) \\\\\n",
    "\\text{( Насправді так:} \\\\\n",
    "   H_0\\ :\\ \\bar{ X^{(1)}} \\sim F(u,1); \\bar{ X^{(2)}} \\sim F(u,1) )$$"
   ]
  },
  {
   "cell_type": "code",
   "execution_count": 27,
   "metadata": {
    "datalore": {
     "hide_input_from_viewers": false,
     "hide_output_from_viewers": false,
     "node_id": "wc4mq1HZfXRdFr4vWBTB6g",
     "report_properties": {},
     "type": "CODE"
    },
    "ExecuteTime": {
     "start_time": "2023-04-05T18:25:21.886154Z",
     "end_time": "2023-04-05T18:25:26.219765Z"
    }
   },
   "outputs": [
    {
     "data": {
      "text/plain": "             1000      10000     100000\nЗавдання 4                             \nlambda: 1     0.035    0.0162   0.00569\nCrit        0.07449  0.023556  0.007449\nRES              H0        H0        H0",
      "text/html": "<div>\n<style scoped>\n    .dataframe tbody tr th:only-of-type {\n        vertical-align: middle;\n    }\n\n    .dataframe tbody tr th {\n        vertical-align: top;\n    }\n\n    .dataframe thead th {\n        text-align: right;\n    }\n</style>\n<table border=\"1\" class=\"dataframe\">\n  <thead>\n    <tr style=\"text-align: right;\">\n      <th></th>\n      <th>1000</th>\n      <th>10000</th>\n      <th>100000</th>\n    </tr>\n  </thead>\n  <tbody>\n    <tr>\n      <th>Завдання 4</th>\n      <td></td>\n      <td></td>\n      <td></td>\n    </tr>\n    <tr>\n      <th>lambda: 1</th>\n      <td>0.035</td>\n      <td>0.0162</td>\n      <td>0.00569</td>\n    </tr>\n    <tr>\n      <th>Crit</th>\n      <td>0.07449</td>\n      <td>0.023556</td>\n      <td>0.007449</td>\n    </tr>\n    <tr>\n      <th>RES</th>\n      <td>H0</td>\n      <td>H0</td>\n      <td>H0</td>\n    </tr>\n  </tbody>\n</table>\n</div>"
     },
     "execution_count": 27,
     "metadata": {},
     "output_type": "execute_result"
    }
   ],
   "source": [
    "N = [1000, 10000, 100000]\n",
    "\n",
    "D_mn_1 = np.zeros(3)\n",
    "Res_mn_1 = np.zeros(3)\n",
    "Crit_mn_1 = np.zeros(3)\n",
    "\n",
    "D_mn_1[0], Crit_mn_1[0] = smirnoff_method(X1_1000, get_X_2(X1_1000, LAMBDA1))\n",
    "D_mn_1[1], Crit_mn_1[1] = smirnoff_method(X1_10000, get_X_2(X1_10000, LAMBDA1))\n",
    "D_mn_1[2], Crit_mn_1[2] = smirnoff_method(X1_100000, get_X_2(X1_100000, LAMBDA1))\n",
    "\n",
    "Res_mn_1 = [\"H0\" if D_mn_1[i] < Crit_mn_1[i] else \"False\" for i in range(3)]\n",
    "\n",
    "data_4_1 = {\"Завдання 4\": [\"\", \"\", \"\"], \"lambda: 1\": D_mn_1, \"Crit\": Crit_mn_1, \"RES\": Res_mn_1}\n",
    "df_4_1 = pd.DataFrame.from_dict(data_4_1, orient='index', columns=N)\n",
    "df_4_1"
   ]
  },
  {
   "cell_type": "markdown",
   "metadata": {
    "datalore": {
     "hide_input_from_viewers": false,
     "hide_output_from_viewers": false,
     "node_id": "flwlk330mkvC0qBycN4jus",
     "report_properties": {},
     "type": "MD"
    }
   },
   "source": [
    "### Випадок 2\n",
    "$$ H_0\\ :\\ \\bar{ X^{(1)}} \\sim F(u,1), \\bar{ X^{(2)}} \\sim F(u,1) \\\\ \\text{( Насправді так: } \\\\\n",
    "  \\bar{ X^{(1)}} \\sim F(u,1); \\bar{ X^{(2)}} \\sim F(u,1.2)\\ ) $$"
   ]
  },
  {
   "cell_type": "code",
   "execution_count": 43,
   "metadata": {
    "datalore": {
     "hide_input_from_viewers": false,
     "hide_output_from_viewers": false,
     "node_id": "SsuW3iJUFwA0Ug3OYkjriA",
     "report_properties": {},
     "type": "CODE"
    },
    "ExecuteTime": {
     "start_time": "2023-04-05T18:45:44.046534Z",
     "end_time": "2023-04-05T18:45:48.152637Z"
    }
   },
   "outputs": [
    {
     "data": {
      "text/plain": "              1000      10000     100000\nЗавдання 4                              \nlambda: 1.2    0.035    0.0382   0.03421\nCrit         0.07449  0.023556  0.007449\nRES               H0     False     False",
      "text/html": "<div>\n<style scoped>\n    .dataframe tbody tr th:only-of-type {\n        vertical-align: middle;\n    }\n\n    .dataframe tbody tr th {\n        vertical-align: top;\n    }\n\n    .dataframe thead th {\n        text-align: right;\n    }\n</style>\n<table border=\"1\" class=\"dataframe\">\n  <thead>\n    <tr style=\"text-align: right;\">\n      <th></th>\n      <th>1000</th>\n      <th>10000</th>\n      <th>100000</th>\n    </tr>\n  </thead>\n  <tbody>\n    <tr>\n      <th>Завдання 4</th>\n      <td></td>\n      <td></td>\n      <td></td>\n    </tr>\n    <tr>\n      <th>lambda: 1.2</th>\n      <td>0.035</td>\n      <td>0.0382</td>\n      <td>0.03421</td>\n    </tr>\n    <tr>\n      <th>Crit</th>\n      <td>0.07449</td>\n      <td>0.023556</td>\n      <td>0.007449</td>\n    </tr>\n    <tr>\n      <th>RES</th>\n      <td>H0</td>\n      <td>False</td>\n      <td>False</td>\n    </tr>\n  </tbody>\n</table>\n</div>"
     },
     "execution_count": 43,
     "metadata": {},
     "output_type": "execute_result"
    }
   ],
   "source": [
    "N = [1000, 10000, 100000]\n",
    "\n",
    "D_mn_2 = np.zeros(3)\n",
    "Res_mn_2 = np.zeros(3)\n",
    "Crit_mn_2 = np.zeros(3)\n",
    "\n",
    "D_mn_2[0], Crit_mn_2[0] = smirnoff_method(X1_1000, get_X_2(X1_1000, LAMBDA2))\n",
    "D_mn_2[1], Crit_mn_2[1] = smirnoff_method(X1_10000, get_X_2(X1_10000, LAMBDA2))\n",
    "D_mn_2[2], Crit_mn_2[2] = smirnoff_method(X1_100000, get_X_2(X1_100000, LAMBDA2))\n",
    "\n",
    "Res_mn_2 = [\"H0\" if D_mn_2[i] < Crit_mn_2[i] else \"False\" for i in range(3)]\n",
    "\n",
    "data_4_2 = {\"Завдання 4\": [\"\", \"\", \"\"], \"lambda: 1.2\": D_mn_2, \"Crit\": Crit_mn_2, \"RES\": Res_mn_2}\n",
    "df_4_2 = pd.DataFrame.from_dict(data_4_2, orient='index', columns=N)\n",
    "df_4_2"
   ]
  },
  {
   "cell_type": "markdown",
   "metadata": {
    "datalore": {
     "hide_input_from_viewers": false,
     "hide_output_from_viewers": false,
     "node_id": "bDXr9uKzQXnoy5fsDElun3",
     "report_properties": {},
     "type": "MD"
    }
   },
   "source": [
    "# Результати"
   ]
  },
  {
   "cell_type": "code",
   "execution_count": 44,
   "metadata": {
    "datalore": {
     "hide_input_from_viewers": false,
     "hide_output_from_viewers": false,
     "node_id": "F1bBC6CtHPaCwt6GE38EVr",
     "report_properties": {},
     "type": "CODE"
    },
    "ExecuteTime": {
     "start_time": "2023-04-05T18:45:48.149150Z",
     "end_time": "2023-04-05T18:45:48.152814Z"
    }
   },
   "outputs": [
    {
     "name": "stderr",
     "output_type": "stream",
     "text": [
      "/tmp/ipykernel_30390/2771511774.py:1: FutureWarning: The frame.append method is deprecated and will be removed from pandas in a future version. Use pandas.concat instead.\n",
      "  res = df1.append(df2.append(df3.append(df_4_1.append(df_4_2))))\n",
      "/tmp/ipykernel_30390/2771511774.py:1: FutureWarning: The frame.append method is deprecated and will be removed from pandas in a future version. Use pandas.concat instead.\n",
      "  res = df1.append(df2.append(df3.append(df_4_1.append(df_4_2))))\n",
      "/tmp/ipykernel_30390/2771511774.py:1: FutureWarning: The frame.append method is deprecated and will be removed from pandas in a future version. Use pandas.concat instead.\n",
      "  res = df1.append(df2.append(df3.append(df_4_1.append(df_4_2))))\n",
      "/tmp/ipykernel_30390/2771511774.py:1: FutureWarning: The frame.append method is deprecated and will be removed from pandas in a future version. Use pandas.concat instead.\n",
      "  res = df1.append(df2.append(df3.append(df_4_1.append(df_4_2))))\n"
     ]
    }
   ],
   "source": [
    "res = df1.append(df2.append(df3.append(df_4_1.append(df_4_2))))"
   ]
  },
  {
   "cell_type": "code",
   "execution_count": 21,
   "metadata": {
    "datalore": {
     "hide_input_from_viewers": false,
     "hide_output_from_viewers": false,
     "node_id": "NVkxojhdhU7EcI6ZEzxfas",
     "report_properties": {},
     "type": "CODE"
    }
   },
   "outputs": [
    {
     "data": {
      "text/html": [
       "<div>\n",
       "<style scoped>\n",
       "    .dataframe tbody tr th:only-of-type {\n",
       "        vertical-align: middle;\n",
       "    }\n",
       "\n",
       "    .dataframe tbody tr th {\n",
       "        vertical-align: top;\n",
       "    }\n",
       "\n",
       "    .dataframe thead th {\n",
       "        text-align: right;\n",
       "    }\n",
       "</style>\n",
       "<table border=\"1\" class=\"dataframe\">\n",
       "  <thead>\n",
       "    <tr style=\"text-align: right;\">\n",
       "      <th></th>\n",
       "      <th>1000</th>\n",
       "      <th>10000</th>\n",
       "      <th>100000</th>\n",
       "    </tr>\n",
       "  </thead>\n",
       "  <tbody>\n",
       "    <tr>\n",
       "      <th>Завдання 1</th>\n",
       "      <td></td>\n",
       "      <td></td>\n",
       "      <td></td>\n",
       "    </tr>\n",
       "    <tr>\n",
       "      <th>D</th>\n",
       "      <td>1.240874</td>\n",
       "      <td>0.96769</td>\n",
       "      <td>0.926267</td>\n",
       "    </tr>\n",
       "    <tr>\n",
       "      <th>Результат для lambda = 1</th>\n",
       "      <td>false</td>\n",
       "      <td>false</td>\n",
       "      <td>false</td>\n",
       "    </tr>\n",
       "    <tr>\n",
       "      <th>D2</th>\n",
       "      <td>6.103355</td>\n",
       "      <td>20.013892</td>\n",
       "      <td>61.256085</td>\n",
       "    </tr>\n",
       "    <tr>\n",
       "      <th>Завдання 2</th>\n",
       "      <td></td>\n",
       "      <td></td>\n",
       "      <td></td>\n",
       "    </tr>\n",
       "    <tr>\n",
       "      <th>XI_sqr</th>\n",
       "      <td>17.708366</td>\n",
       "      <td>259.945383</td>\n",
       "      <td>2872.758544</td>\n",
       "    </tr>\n",
       "    <tr>\n",
       "      <th>lambda == 1</th>\n",
       "      <td>15.714386</td>\n",
       "      <td>126.773109</td>\n",
       "      <td>2174.868861</td>\n",
       "    </tr>\n",
       "    <tr>\n",
       "      <th>RES_2_1</th>\n",
       "      <td>H0</td>\n",
       "      <td>H0</td>\n",
       "      <td>H0</td>\n",
       "    </tr>\n",
       "    <tr>\n",
       "      <th>lambda == 1.3</th>\n",
       "      <td>118.303147</td>\n",
       "      <td>3936.8641</td>\n",
       "      <td>31766.965561</td>\n",
       "    </tr>\n",
       "    <tr>\n",
       "      <th>RES_2_2</th>\n",
       "      <td>False</td>\n",
       "      <td>False</td>\n",
       "      <td>False</td>\n",
       "    </tr>\n",
       "    <tr>\n",
       "      <th>Завдання 3</th>\n",
       "      <td></td>\n",
       "      <td></td>\n",
       "      <td></td>\n",
       "    </tr>\n",
       "    <tr>\n",
       "      <th>mu 1</th>\n",
       "      <td>58</td>\n",
       "      <td>642</td>\n",
       "      <td>6782</td>\n",
       "    </tr>\n",
       "    <tr>\n",
       "      <th>k_gamma 1</th>\n",
       "      <td>78.09583</td>\n",
       "      <td>709.653243</td>\n",
       "      <td>6871.046044</td>\n",
       "    </tr>\n",
       "    <tr>\n",
       "      <th>RES</th>\n",
       "      <td>H0</td>\n",
       "      <td>H0</td>\n",
       "      <td>H0</td>\n",
       "    </tr>\n",
       "    <tr>\n",
       "      <th>mu 1.2</th>\n",
       "      <td>81</td>\n",
       "      <td>744</td>\n",
       "      <td>7535</td>\n",
       "    </tr>\n",
       "    <tr>\n",
       "      <th>k_gamma 1.3</th>\n",
       "      <td>78.09583</td>\n",
       "      <td>709.653243</td>\n",
       "      <td>6871.046044</td>\n",
       "    </tr>\n",
       "    <tr>\n",
       "      <th>RES2</th>\n",
       "      <td>False</td>\n",
       "      <td>False</td>\n",
       "      <td>False</td>\n",
       "    </tr>\n",
       "    <tr>\n",
       "      <th>Завдання 4</th>\n",
       "      <td></td>\n",
       "      <td></td>\n",
       "      <td></td>\n",
       "    </tr>\n",
       "    <tr>\n",
       "      <th>lambda: 1</th>\n",
       "      <td>0.042</td>\n",
       "      <td>0.0169</td>\n",
       "      <td>0.00432</td>\n",
       "    </tr>\n",
       "    <tr>\n",
       "      <th>Crit</th>\n",
       "      <td>0.07449</td>\n",
       "      <td>0.023556</td>\n",
       "      <td>0.007449</td>\n",
       "    </tr>\n",
       "    <tr>\n",
       "      <th>RES</th>\n",
       "      <td>H0</td>\n",
       "      <td>H0</td>\n",
       "      <td>H0</td>\n",
       "    </tr>\n",
       "    <tr>\n",
       "      <th>Завдання 4</th>\n",
       "      <td></td>\n",
       "      <td></td>\n",
       "      <td></td>\n",
       "    </tr>\n",
       "    <tr>\n",
       "      <th>lambda: 1.2</th>\n",
       "      <td>0.1</td>\n",
       "      <td>0.1073</td>\n",
       "      <td>0.09264</td>\n",
       "    </tr>\n",
       "    <tr>\n",
       "      <th>Crit</th>\n",
       "      <td>0.07449</td>\n",
       "      <td>0.023556</td>\n",
       "      <td>0.007449</td>\n",
       "    </tr>\n",
       "    <tr>\n",
       "      <th>RES</th>\n",
       "      <td>False</td>\n",
       "      <td>False</td>\n",
       "      <td>False</td>\n",
       "    </tr>\n",
       "  </tbody>\n",
       "</table>\n",
       "</div>"
      ],
      "text/plain": [
       "                              1000        10000         100000\n",
       "Завдання 1                                                    \n",
       "D                           1.240874     0.96769      0.926267\n",
       "Результат для lambda = 1       false       false         false\n",
       "D2                          6.103355   20.013892     61.256085\n",
       "Завдання 2                                                    \n",
       "XI_sqr                     17.708366  259.945383   2872.758544\n",
       "lambda == 1                15.714386  126.773109   2174.868861\n",
       "RES_2_1                           H0          H0            H0\n",
       "lambda == 1.3             118.303147   3936.8641  31766.965561\n",
       "RES_2_2                        False       False         False\n",
       "Завдання 3                                                    \n",
       "mu 1                              58         642          6782\n",
       "k_gamma 1                   78.09583  709.653243   6871.046044\n",
       "RES                               H0          H0            H0\n",
       "mu 1.2                            81         744          7535\n",
       "k_gamma 1.3                 78.09583  709.653243   6871.046044\n",
       "RES2                           False       False         False\n",
       "Завдання 4                                                    \n",
       "lambda: 1                      0.042      0.0169       0.00432\n",
       "Crit                         0.07449    0.023556      0.007449\n",
       "RES                               H0          H0            H0\n",
       "Завдання 4                                                    \n",
       "lambda: 1.2                      0.1      0.1073       0.09264\n",
       "Crit                         0.07449    0.023556      0.007449\n",
       "RES                            False       False         False"
      ]
     },
     "execution_count": 21,
     "metadata": {},
     "output_type": "execute_result"
    }
   ],
   "source": [
    "res.to_excel(\"./lab2_results.xlsx\")\n",
    "res.to_csv(\"./lab2_results.csv\")\n",
    "res"
   ]
  }
 ],
 "metadata": {
  "datalore": {
   "base_environment": "default",
   "computation_mode": "JUPYTER",
   "package_manager": "pip",
   "packages": [],
   "version": 1
  },
  "kernelspec": {
   "display_name": "Python 3 (ipykernel)",
   "language": "python",
   "name": "python3"
  },
  "language_info": {
   "codemirror_mode": {
    "name": "ipython",
    "version": 3
   },
   "file_extension": ".py",
   "mimetype": "text/x-python",
   "name": "python",
   "nbconvert_exporter": "python",
   "pygments_lexer": "ipython3",
   "version": "3.10.6"
  }
 },
 "nbformat": 4,
 "nbformat_minor": 4
}
