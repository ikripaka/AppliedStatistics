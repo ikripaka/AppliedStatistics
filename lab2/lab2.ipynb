{
 "cells": [
  {
   "cell_type": "code",
   "execution_count": 1,
   "metadata": {
    "datalore": {
     "hide_input_from_viewers": false,
     "hide_output_from_viewers": false,
     "node_id": "x5MJK6BwDYF0sNncJGwXf3",
     "report_properties": {},
     "type": "CODE"
    }
   },
   "outputs": [],
   "source": [
    "import math\n",
    "\n",
    "import matplotlib.pyplot as plt\n",
    "import numpy as np\n",
    "import pandas as pd"
   ]
  },
  {
   "cell_type": "markdown",
   "metadata": {
    "datalore": {
     "hide_input_from_viewers": false,
     "hide_output_from_viewers": false,
     "node_id": "WYwbKUmB41jZRXl3vPrUYl",
     "report_properties": {},
     "type": "MD"
    }
   },
   "source": [
    "## Завдання 1\n",
    "### Маємо вибірку \n",
    "$$\\overline{X} = (X_{1}, \\ldots , X_{n}), де \\{ X_{i} \\}$$\n",
    "### незалежні однаково розподілені випадкові величини\n",
    "\n",
    "### Рівень значимості маємо\n",
    "$$\\gamma = 0.05$$\n",
    "$$z_{\\gamma} = 1.36$$"
   ]
  },
  {
   "cell_type": "code",
   "execution_count": 2,
   "metadata": {
    "datalore": {
     "hide_input_from_viewers": false,
     "hide_output_from_viewers": false,
     "node_id": "SVQS2xBjRJtJVokA0fl6zq",
     "report_properties": {},
     "type": "CODE"
    }
   },
   "outputs": [],
   "source": [
    "gamma = 0.05\n",
    "z_gamma = 1.36"
   ]
  },
  {
   "cell_type": "markdown",
   "metadata": {
    "datalore": {
     "hide_input_from_viewers": false,
     "hide_output_from_viewers": false,
     "node_id": "2f9sPsDNow2NgCoiniJsBa",
     "report_properties": {},
     "type": "MD"
    }
   },
   "source": [
    "## Завдання 1.\n",
    "\n",
    "**1. Oбираємо рівень значимості**\n",
    "\n",
    "Обираємо $\\gamma$ та за таблицею для розподілу Колмогорова знаходимо $z_{\\gamma}$ таке, що $K(z_{\\gamma}) = 1 - \\gamma$.\n",
    "\n",
    "**Маємо, що**\n",
    "$$\\gamma = 0.05$$\n",
    "$$z_{\\gamma} = 1.36$$\n",
    "\n",
    "**2. За формулою**\n",
    "$$D_n(\\bar x) = \\max_{1 \\le k \\le n}{\\{ \\max{ \\{ (F(x_{(k)})-\\frac{k-1}{n}),(\\frac{k}{n}-(F(x_{(k)}))\\}}\\}}$$\n",
    "обчислюємо $D_n(\\bar x)$.\n",
    "\n",
    "**3. Якщо**\n",
    "$$ \\sqrt{n}D_n(\\bar x)<z_{\\gamma}, $$\n",
    "то робимо висновок: статистичні дані не суперечать гіпотезі $H_0$. Якщо ж $\\bar x \\in Z_1$, то слід прийняти альтернативну гіпотезу $H_1$."
   ]
  },
  {
   "cell_type": "code",
   "execution_count": 3,
   "metadata": {
    "datalore": {
     "hide_input_from_viewers": false,
     "hide_output_from_viewers": false,
     "node_id": "nPPSoc0OmXPbjHjv2UdZGb",
     "report_properties": {},
     "type": "CODE"
    }
   },
   "outputs": [],
   "source": [
    "# lambdas that used for describing distribution characteristics ~ F(u, 1) ( ~ F(u, 1.3))\n",
    "LAMBDA1 = 1\n",
    "LAMBDA2 = 1.3\n",
    "\n",
    "F_function_empirical = lambda u, X: np.count_nonzero(u >= X) / len(\n",
    "    X)  # Функція розподілу. емпірична (calculating [sum v_i]/n)\n",
    "F_function_theoretical = lambda u, LAMBDA: 1 - np.math.exp(\n",
    "    (-1) * LAMBDA * u)  # Функція розподілу. теоретична (used from assignment)"
   ]
  },
  {
   "cell_type": "code",
   "execution_count": 4,
   "metadata": {
    "datalore": {
     "hide_input_from_viewers": false,
     "hide_output_from_viewers": false,
     "node_id": "nAVuH9dNbkNEwaYClnGpU9",
     "report_properties": {},
     "type": "CODE"
    }
   },
   "outputs": [],
   "source": [
    "# calculating D_n(x) (test statistics) for\n",
    "def Dn_max(Xk, LAMBDA):\n",
    "    n = len(Xk)\n",
    "    Dn_m_p = np.max([k / n - F_function_theoretical(x, LAMBDA) for k, x in enumerate(Xk)])\n",
    "    Dn_m_n = np.max([F_function_theoretical(x, LAMBDA) - (k - 1) / n for k, x in enumerate(Xk)])\n",
    "    return [Dn_m_n, Dn_m_p]"
   ]
  },
  {
   "cell_type": "markdown",
   "metadata": {
    "datalore": {
     "hide_input_from_viewers": false,
     "hide_output_from_viewers": false,
     "node_id": "D6CQUipThK7yQHEXkmlkO4",
     "report_properties": {},
     "type": "MD"
    }
   },
   "source": [
    "### Для $\\lambda = 1$"
   ]
  },
  {
   "cell_type": "code",
   "execution_count": 5,
   "metadata": {
    "datalore": {
     "hide_input_from_viewers": false,
     "hide_output_from_viewers": false,
     "node_id": "TzCcoga2mfWHjNisQrvch3",
     "report_properties": {},
     "type": "CODE"
    }
   },
   "outputs": [],
   "source": [
    "N = [pow(10, 3), pow(10, 4), pow(10, 5)]\n",
    "X1_1000 = np.sort(np.random.exponential(LAMBDA1, size=N[0]))\n",
    "X1_10000 = np.sort(np.random.exponential(LAMBDA1, size=N[1]))\n",
    "X1_100000 = np.sort(np.random.exponential(LAMBDA1, size=N[2]))\n",
    "\n",
    "D1 = [np.sqrt(N[0]) * max(Dn_max(X1_1000, LAMBDA1)), np.sqrt(N[1]) * max(Dn_max(X1_10000, LAMBDA1)),\n",
    "      np.sqrt(N[2]) * max(Dn_max(X1_100000, LAMBDA1))]\n",
    "\n",
    "RES_FOR_LAMBDA1 = ['H0' if element < z_gamma else 'false' for element in D1]\n"
   ]
  },
  {
   "cell_type": "markdown",
   "metadata": {
    "datalore": {
     "hide_input_from_viewers": false,
     "hide_output_from_viewers": false,
     "node_id": "HeN2CnTk5jxsvDuotn2h44",
     "report_properties": {},
     "type": "MD"
    }
   },
   "source": [
    "### Для $\\lambda = 1.3$"
   ]
  },
  {
   "cell_type": "code",
   "execution_count": 6,
   "metadata": {
    "datalore": {
     "hide_input_from_viewers": false,
     "hide_output_from_viewers": false,
     "node_id": "Pq9tsbYwLiPGEJBr81ps1u",
     "report_properties": {},
     "type": "CODE"
    }
   },
   "outputs": [],
   "source": [
    "X2_1000 = np.sort(np.random.exponential(LAMBDA2, size=N[0]))\n",
    "X2_10000 = np.sort(np.random.exponential(LAMBDA2, size=N[1]))\n",
    "X2_100000 = np.sort(np.random.exponential(LAMBDA2, size=N[2]))\n",
    "\n",
    "D2 = [np.sqrt(N[0]) * max(Dn_max(X2_1000, LAMBDA2)), np.sqrt(N[1]) * max(Dn_max(X2_10000, LAMBDA2)),\n",
    "      np.sqrt(N[2]) * max(Dn_max(X2_100000, LAMBDA2))]\n",
    "\n",
    "RES_FOR_LAMBDA2 = ['H0' if element < z_gamma else 'false' for element in D2]"
   ]
  },
  {
   "cell_type": "code",
   "execution_count": 7,
   "metadata": {
    "datalore": {
     "hide_input_from_viewers": false,
     "hide_output_from_viewers": false,
     "node_id": "kR7ehp1Mr2gozItZ45rDfg",
     "report_properties": {},
     "type": "CODE"
    }
   },
   "outputs": [],
   "source": [
    "data_1 = {\"Завдання 1\": [\"\", \"\", \"\"], \"D\": D1, \"Результат для lambda = 1\": RES_FOR_LAMBDA1, \"D2\": D2,\n",
    "          \"Результат для lambda = 1\": RES_FOR_LAMBDA2}\n",
    "df1 = pd.DataFrame.from_dict(data_1, orient='index', columns=N)"
   ]
  },
  {
   "cell_type": "code",
   "execution_count": 8,
   "metadata": {
    "datalore": {
     "hide_input_from_viewers": false,
     "hide_output_from_viewers": false,
     "node_id": "0PcQtwAf0Tsk6Q77Ep4sHQ",
     "report_properties": {},
     "type": "CODE"
    }
   },
   "outputs": [
    {
     "data": {
      "text/html": [
       "<div>\n",
       "<style scoped>\n",
       "    .dataframe tbody tr th:only-of-type {\n",
       "        vertical-align: middle;\n",
       "    }\n",
       "\n",
       "    .dataframe tbody tr th {\n",
       "        vertical-align: top;\n",
       "    }\n",
       "\n",
       "    .dataframe thead th {\n",
       "        text-align: right;\n",
       "    }\n",
       "</style>\n",
       "<table border=\"1\" class=\"dataframe\">\n",
       "  <thead>\n",
       "    <tr style=\"text-align: right;\">\n",
       "      <th></th>\n",
       "      <th>1000</th>\n",
       "      <th>10000</th>\n",
       "      <th>100000</th>\n",
       "    </tr>\n",
       "  </thead>\n",
       "  <tbody>\n",
       "    <tr>\n",
       "      <th>Завдання 1</th>\n",
       "      <td></td>\n",
       "      <td></td>\n",
       "      <td></td>\n",
       "    </tr>\n",
       "    <tr>\n",
       "      <th>D</th>\n",
       "      <td>1.017146</td>\n",
       "      <td>0.581871</td>\n",
       "      <td>1.236667</td>\n",
       "    </tr>\n",
       "    <tr>\n",
       "      <th>Результат для lambda = 1</th>\n",
       "      <td>false</td>\n",
       "      <td>false</td>\n",
       "      <td>false</td>\n",
       "    </tr>\n",
       "    <tr>\n",
       "      <th>D2</th>\n",
       "      <td>6.248724</td>\n",
       "      <td>19.001761</td>\n",
       "      <td>60.020592</td>\n",
       "    </tr>\n",
       "  </tbody>\n",
       "</table>\n",
       "</div>"
      ],
      "text/plain": [
       "                            1000       10000      100000\n",
       "Завдання 1                                              \n",
       "D                         1.017146   0.581871   1.236667\n",
       "Результат для lambda = 1     false      false      false\n",
       "D2                        6.248724  19.001761  60.020592"
      ]
     },
     "execution_count": 8,
     "metadata": {},
     "output_type": "execute_result"
    }
   ],
   "source": [
    "df1"
   ]
  },
  {
   "cell_type": "markdown",
   "metadata": {
    "datalore": {
     "hide_input_from_viewers": false,
     "hide_output_from_viewers": false,
     "node_id": "LVpRB4k97rEgHOt0Z9F678",
     "report_properties": {},
     "type": "MD"
    }
   },
   "source": [
    "## Завдання 2\n",
    "(перевірити чи той взагалі алгоритм)\n",
    "1. Обираємо $\\lambda$ та обчислюємо за таблицею $\\chi^2$ - розподілу знаходимо $z_{\\lambda}$ таке, що $T_{r-m-1}(z_{\\lambda}) = 1 - \\lambda$\n",
    "2. Обчислюємо ймовірності {$p_i(\\bar{\\theta})$} та частоти {$v_i$}\n",
    "за допомогою критерію $\\chi^2$ перевірити гіпотези\n",
    "3. Значення оцінки $\\hat{\\overline{\\theta_n}}$ знаходимо за методом максимальної правдоподібності\n",
    "4. Знаходимо за формулою $p_i(\\hat{\\overline{\\theta_n}}), i = \\overline{1, \\ldots , r}$\n",
    "5. Знаходимо за формулою значення статистики $\\delta_n^{(r)}(\\hat{\\overline{\\theta_n}})$\n",
    "\n",
    "**Зауваження**\n",
    "Кількість проміжків обирати з умови: $$r=\\frac{30 \\times n}{1000}$$"
   ]
  },
  {
   "cell_type": "markdown",
   "metadata": {
    "datalore": {
     "hide_input_from_viewers": false,
     "hide_output_from_viewers": false,
     "node_id": "Zs9b2t48TRoTnRdwsAftF5",
     "report_properties": {},
     "type": "MD"
    }
   },
   "source": [
    "### $\\chi^2$ - міра\n",
    "$$\\Delta^{(x)}_r=\\sum^{r}_{i=1} \\frac{(v_i-np_i)^2}{n p_i}$$"
   ]
  },
  {
   "cell_type": "code",
   "execution_count": 9,
   "metadata": {
    "datalore": {
     "hide_input_from_viewers": false,
     "hide_output_from_viewers": false,
     "node_id": "WIMfvms1guxqtbNWcFosiL",
     "report_properties": {},
     "type": "CODE"
    }
   },
   "outputs": [
    {
     "data": {
      "text/plain": [
       "43.488497255243864"
      ]
     },
     "execution_count": 9,
     "metadata": {},
     "output_type": "execute_result"
    }
   ],
   "source": [
    "# p = 1 - 0.05 = 0.95\n",
    "xi_average = 1.645\n",
    "\n",
    "xi_30 = 43.8\n",
    "\n",
    "r = lambda n: int(30 * n / 1000)\n",
    "xi_big = lambda n: (xi_average + np.math.sqrt(2 * n - 1)) ** 2 / 2\n",
    "\n",
    "xi_big(r(1000))"
   ]
  },
  {
   "cell_type": "code",
   "execution_count": 10,
   "metadata": {
    "datalore": {
     "hide_input_from_viewers": false,
     "hide_output_from_viewers": false,
     "node_id": "WcPLC7gV51lglwf6wypSu2",
     "report_properties": {},
     "type": "CODE"
    }
   },
   "outputs": [
    {
     "name": "stdout",
     "output_type": "stream",
     "text": [
      "1000 30 1.0\n",
      "22.259860404297516\n"
     ]
    }
   ],
   "source": [
    "def xi_sqr(X):\n",
    "    n = len(X)\n",
    "    R = r(n)\n",
    "    tmp = R / 30\n",
    "    print(n, R, tmp)\n",
    "\n",
    "    p = [F_function_theoretical(i / tmp, LAMBDA1) - F_function_theoretical((i - 1) / tmp, LAMBDA1) for i in\n",
    "         range(1, R + 1)]\n",
    "    v = np.zeros(R)\n",
    "    for i in range(n):\n",
    "        v[math.ceil(np.random.choice(X, 1) * tmp) - 1] += 1\n",
    "\n",
    "    delta = np.sum([((v[i] - n * p[i]) ** 2) / (n * p[i]) for i in range(R)])\n",
    "    return delta\n",
    "\n",
    "\n",
    "res = xi_sqr(np.copy(X1_1000))\n",
    "\n",
    "print(res)"
   ]
  },
  {
   "cell_type": "code",
   "execution_count": 11,
   "metadata": {
    "datalore": {
     "hide_input_from_viewers": false,
     "hide_output_from_viewers": false,
     "node_id": "4TrFWRXT7XLkSii2gHAt9D",
     "report_properties": {},
     "type": "CODE"
    }
   },
   "outputs": [
    {
     "name": "stdout",
     "output_type": "stream",
     "text": [
      "1000 30 1.0\n",
      "10000 300 10.0\n",
      "100000 3000 100.0\n",
      "1000 30 1.0\n",
      "10000 300 10.0\n",
      "100000 3000 100.0\n"
     ]
    }
   ],
   "source": [
    "N2 = [pow(10, 3), pow(10, 4), pow(10, 5)]\n",
    "XI = [17.70836618, 259.9453829, 2872.758544]  #[xi_big(N[i]) for i in range(3)]\n",
    "D_2_1 = [xi_sqr(X1_1000), xi_sqr(X1_10000), xi_sqr(X1_100000)]\n",
    "D_2_2 = [xi_sqr(X2_1000), xi_sqr(X2_10000), xi_sqr(X2_100000)]\n",
    "RES_2_1 = [\"H0\" if D_2_1[i] < XI[i] else \"False\" for i in range(3)]\n",
    "RES_2_2 = [\"H0\" if D_2_2[i] < XI[i] else \"False\" for i in range(3)]\n",
    "\n",
    "data_2 = {\"Завдання 2\": [\"\", \"\", \"\"], \"XI_sqr\": XI, \"lambda == 1\": D_2_1, \"RES_2_1\": RES_2_1, \"lambda == 1.3\": D_2_2,\n",
    "          \"RES_2_2\": RES_2_2}\n",
    "df2 = pd.DataFrame.from_dict(data_2, orient='index', columns=N)"
   ]
  },
  {
   "cell_type": "code",
   "execution_count": 12,
   "metadata": {
    "datalore": {
     "hide_input_from_viewers": false,
     "hide_output_from_viewers": false,
     "node_id": "kBDckhhrT8I6C5X8vFLXY2",
     "report_properties": {},
     "type": "CODE"
    }
   },
   "outputs": [
    {
     "data": {
      "text/html": [
       "<div>\n",
       "<style scoped>\n",
       "    .dataframe tbody tr th:only-of-type {\n",
       "        vertical-align: middle;\n",
       "    }\n",
       "\n",
       "    .dataframe tbody tr th {\n",
       "        vertical-align: top;\n",
       "    }\n",
       "\n",
       "    .dataframe thead th {\n",
       "        text-align: right;\n",
       "    }\n",
       "</style>\n",
       "<table border=\"1\" class=\"dataframe\">\n",
       "  <thead>\n",
       "    <tr style=\"text-align: right;\">\n",
       "      <th></th>\n",
       "      <th>1000</th>\n",
       "      <th>10000</th>\n",
       "      <th>100000</th>\n",
       "    </tr>\n",
       "  </thead>\n",
       "  <tbody>\n",
       "    <tr>\n",
       "      <th>Завдання 2</th>\n",
       "      <td></td>\n",
       "      <td></td>\n",
       "      <td></td>\n",
       "    </tr>\n",
       "    <tr>\n",
       "      <th>XI_sqr</th>\n",
       "      <td>17.708366</td>\n",
       "      <td>259.945383</td>\n",
       "      <td>2872.758544</td>\n",
       "    </tr>\n",
       "    <tr>\n",
       "      <th>lambda == 1</th>\n",
       "      <td>6.648318</td>\n",
       "      <td>138.394346</td>\n",
       "      <td>3325.864009</td>\n",
       "    </tr>\n",
       "    <tr>\n",
       "      <th>RES_2_1</th>\n",
       "      <td>H0</td>\n",
       "      <td>H0</td>\n",
       "      <td>False</td>\n",
       "    </tr>\n",
       "    <tr>\n",
       "      <th>lambda == 1.3</th>\n",
       "      <td>422.521781</td>\n",
       "      <td>2259.4399</td>\n",
       "      <td>28251.251464</td>\n",
       "    </tr>\n",
       "    <tr>\n",
       "      <th>RES_2_2</th>\n",
       "      <td>False</td>\n",
       "      <td>False</td>\n",
       "      <td>False</td>\n",
       "    </tr>\n",
       "  </tbody>\n",
       "</table>\n",
       "</div>"
      ],
      "text/plain": [
       "                   1000        10000         100000\n",
       "Завдання 2                                         \n",
       "XI_sqr          17.708366  259.945383   2872.758544\n",
       "lambda == 1      6.648318  138.394346   3325.864009\n",
       "RES_2_1                H0          H0         False\n",
       "lambda == 1.3  422.521781   2259.4399  28251.251464\n",
       "RES_2_2             False       False         False"
      ]
     },
     "execution_count": 12,
     "metadata": {},
     "output_type": "execute_result"
    }
   ],
   "source": [
    "df2"
   ]
  },
  {
   "cell_type": "code",
   "execution_count": 13,
   "metadata": {
    "datalore": {
     "hide_input_from_viewers": false,
     "hide_output_from_viewers": false,
     "node_id": "zaGWHOo5pkku8tZvHsFbhU",
     "report_properties": {},
     "type": "CODE"
    }
   },
   "outputs": [
    {
     "data": {
      "text/plain": [
       "Text(100000, 28251.251463978446, '28251.251')"
      ]
     },
     "execution_count": 13,
     "metadata": {},
     "output_type": "execute_result"
    },
    {
     "data": {
      "image/png": "[encoded data removed]",
      "text/plain": [
       "<Figure size 1500x500 with 3 Axes>"
      ]
     },
     "metadata": {},
     "output_type": "display_data"
    }
   ],
   "source": [
    "fig, ax = plt.subplots(1, 3, figsize=(15, 5), sharey=True)\n",
    "ax[0].plot(N[0], D_2_1[0], 'bo', N[0], D_2_2[0], 'ro')\n",
    "ax[1].plot(N[1], D_2_1[1], 'bo', N[1], D_2_2[1], 'ro')\n",
    "ax[2].plot(N[2], D_2_1[2], 'bo', N[2], D_2_2[2], 'ro')\n",
    "\n",
    "ax[0].axhline(XI[0], color='r')\n",
    "ax[1].axhline(XI[1], color='r')\n",
    "ax[2].axhline(XI[2], color='r')\n",
    "\n",
    "ax[0].set(title=f'N = {N[0]}\\nZ_gamma = {round(XI[0], 3)}')\n",
    "ax[1].set(title=f'N = {N[1]}\\nZ_gamma = {round(XI[1], 3)}')\n",
    "ax[2].set(title=f'N = {N[2]}\\nZ_gamma = {round(XI[2], 3)}')\n",
    "\n",
    "ax[0].annotate(f\"{round(D_2_1[0], 3)}\", (N[0], D_2_1[0]))\n",
    "ax[0].annotate(f\"{round(D_2_2[0], 3)}\", (N[0], D_2_2[0]))\n",
    "\n",
    "ax[1].annotate(f\"{round(D_2_1[1], 3)}\", (N[1], D_2_1[1]))\n",
    "ax[1].annotate(f\"{round(D_2_2[1], 3)}\", (N[1], D_2_2[1]))\n",
    "\n",
    "ax[2].annotate(f\"{round(D_2_1[2], 3)}\", (N[2], D_2_1[2]))\n",
    "ax[2].annotate(f\"{round(D_2_2[2], 3)}\", (N[2], D_2_2[2]))"
   ]
  },
  {
   "cell_type": "markdown",
   "metadata": {
    "datalore": {
     "hide_input_from_viewers": false,
     "hide_output_from_viewers": false,
     "node_id": "j40waIh1IJh1grGNNiZzaj",
     "report_properties": {},
     "type": "MD"
    }
   },
   "source": [
    "### Завдання 3\n",
    "\n",
    "1. Генеруємо вибірку довжини $n$, ділимо її на відрізки по 2\n",
    "2. Обчислюємо статистику $\\mu$?\n",
    "3.\n",
    "4. Рахуємо критичну область $k_{\\gamma} = re^{-\\rho} + z_{\\gamma}\\sqrt{re^{-\\rho}(1-(1+\\rho)e^{-\\rho})}$\n",
    "5.\n",
    "6. 4"
   ]
  },
  {
   "cell_type": "code",
   "execution_count": 14,
   "metadata": {
    "datalore": {
     "hide_input_from_viewers": false,
     "hide_output_from_viewers": false,
     "node_id": "kpIHEio6wQ3Z3ZvM4wgI1A",
     "report_properties": {},
     "type": "CODE"
    }
   },
   "outputs": [
    {
     "data": {
      "text/plain": [
       "(666, 709.6532428172949)"
      ]
     },
     "execution_count": 14,
     "metadata": {},
     "output_type": "execute_result"
    }
   ],
   "source": [
    "def empty_box(data, lambda_box):\n",
    "    #n = len(data)\n",
    "    n = data\n",
    "    ro = 2\n",
    "    R = int(n / ro)\n",
    "    z_gamma = 1.644853627\n",
    "\n",
    "    v = np.zeros(R)\n",
    "    for i in range(n):\n",
    "        x = np.random.exponential(lambda_box, 1)\n",
    "        v[math.ceil(F_function_theoretical(x, LAMBDA1) * R) - 1] += 1\n",
    "\n",
    "    mu = np.count_nonzero(v == 0)\n",
    "    e_pow_m_ro = math.exp(-ro)\n",
    "    k_gamma = R * e_pow_m_ro + z_gamma * math.sqrt(R * e_pow_m_ro * (1 - (1 + ro) * e_pow_m_ro))\n",
    "\n",
    "    return mu, k_gamma\n",
    "\n",
    "\n",
    "empty_box(10000, 1)"
   ]
  },
  {
   "cell_type": "code",
   "execution_count": 15,
   "metadata": {
    "datalore": {
     "hide_input_from_viewers": false,
     "hide_output_from_viewers": false,
     "node_id": "ziEuRr8Xgr0QdDvvfA6j2F",
     "report_properties": {},
     "type": "CODE"
    }
   },
   "outputs": [],
   "source": [
    "N3 = [pow(10, 3), pow(10, 4), pow(10, 5)]\n",
    "\n",
    "D_1 = [empty_box(N2[i], LAMBDA1) for i in range(3)]\n",
    "D_2 = [empty_box(N2[i], LAMBDA2) for i in range(3)]\n",
    "\n",
    "D_1_res = [D_1[i][0] for i in range(3)]\n",
    "D_1_crit = [D_1[i][1] for i in range(3)]\n",
    "\n",
    "D_2_res = [D_2[i][0] for i in range(3)]\n",
    "D_2_crit = [D_2[i][1] for i in range(3)]\n",
    "\n",
    "RES_1 = [\"H0\" if D_1[i][0] < D_1[i][1] else \"False\" for i in range(3)]\n",
    "RES_2 = [\"H0\" if D_2[i][0] < D_2[i][1] else \"False\" for i in range(3)]\n",
    "\n",
    "data_3 = {\"Завдання 3\": [\"\", \"\", \"\"],\n",
    "          \"mu 1\": D_1_res,\n",
    "          \"k_gamma 1\": D_1_crit,\n",
    "          \"RES\": RES_1,\n",
    "          \"mu 1.2\": D_2_res,\n",
    "          \"k_gamma 1.3\": D_2_crit,\n",
    "          \"RES2\": RES_2\n",
    "          }\n",
    "df3 = pd.DataFrame.from_dict(data_3, orient='index', columns=N)"
   ]
  },
  {
   "cell_type": "code",
   "execution_count": 16,
   "metadata": {
    "datalore": {
     "hide_input_from_viewers": false,
     "hide_output_from_viewers": false,
     "node_id": "qYOEj64wgjUq1Hyt2oMf1U",
     "report_properties": {},
     "type": "CODE"
    }
   },
   "outputs": [
    {
     "data": {
      "text/html": [
       "<div>\n",
       "<style scoped>\n",
       "    .dataframe tbody tr th:only-of-type {\n",
       "        vertical-align: middle;\n",
       "    }\n",
       "\n",
       "    .dataframe tbody tr th {\n",
       "        vertical-align: top;\n",
       "    }\n",
       "\n",
       "    .dataframe thead th {\n",
       "        text-align: right;\n",
       "    }\n",
       "</style>\n",
       "<table border=\"1\" class=\"dataframe\">\n",
       "  <thead>\n",
       "    <tr style=\"text-align: right;\">\n",
       "      <th></th>\n",
       "      <th>1000</th>\n",
       "      <th>10000</th>\n",
       "      <th>100000</th>\n",
       "    </tr>\n",
       "  </thead>\n",
       "  <tbody>\n",
       "    <tr>\n",
       "      <th>Завдання 3</th>\n",
       "      <td></td>\n",
       "      <td></td>\n",
       "      <td></td>\n",
       "    </tr>\n",
       "    <tr>\n",
       "      <th>mu 1</th>\n",
       "      <td>77</td>\n",
       "      <td>661</td>\n",
       "      <td>6708</td>\n",
       "    </tr>\n",
       "    <tr>\n",
       "      <th>k_gamma 1</th>\n",
       "      <td>78.09583</td>\n",
       "      <td>709.653243</td>\n",
       "      <td>6871.046044</td>\n",
       "    </tr>\n",
       "    <tr>\n",
       "      <th>RES</th>\n",
       "      <td>H0</td>\n",
       "      <td>H0</td>\n",
       "      <td>H0</td>\n",
       "    </tr>\n",
       "    <tr>\n",
       "      <th>mu 1.2</th>\n",
       "      <td>86</td>\n",
       "      <td>763</td>\n",
       "      <td>7483</td>\n",
       "    </tr>\n",
       "    <tr>\n",
       "      <th>k_gamma 1.3</th>\n",
       "      <td>78.09583</td>\n",
       "      <td>709.653243</td>\n",
       "      <td>6871.046044</td>\n",
       "    </tr>\n",
       "    <tr>\n",
       "      <th>RES2</th>\n",
       "      <td>False</td>\n",
       "      <td>False</td>\n",
       "      <td>False</td>\n",
       "    </tr>\n",
       "  </tbody>\n",
       "</table>\n",
       "</div>"
      ],
      "text/plain": [
       "               1000        10000        100000\n",
       "Завдання 3                                    \n",
       "mu 1               77         661         6708\n",
       "k_gamma 1    78.09583  709.653243  6871.046044\n",
       "RES                H0          H0           H0\n",
       "mu 1.2             86         763         7483\n",
       "k_gamma 1.3  78.09583  709.653243  6871.046044\n",
       "RES2            False       False        False"
      ]
     },
     "execution_count": 16,
     "metadata": {},
     "output_type": "execute_result"
    }
   ],
   "source": [
    "df3"
   ]
  },
  {
   "cell_type": "markdown",
   "metadata": {
    "datalore": {
     "hide_input_from_viewers": false,
     "hide_output_from_viewers": false,
     "node_id": "9rNoybBaXFWfqgj2F3V4bt",
     "report_properties": {},
     "type": "MD"
    }
   },
   "source": [
    "### Завдання 4\n",
    "$$ m = \\dfrac{n}{2} $$\n",
    "**Критерій однорідності Смірнова**\n",
    "\n",
    "1. Обираємо рівень значимості $\\gamma$\n",
    "2. Обчислюємо статистику $D_{n,m}(\\overline{x}, \\overline{y}) = \\max(D_{n,m}^{-}, D_{n,m}^{+})$\n",
    "$$ D_{n,m}^{+} = \\max_{1 \\leq k \\leq m} \\left( \\dfrac{k}{m} - \\hat{\\bar{F_n^{(1)}}}(y_{(k)}) \\right) $$\n",
    "$$ D_{n,m}^{-} = \\max_{1 \\leq k \\leq m} \\left( \\hat{\\bar{F_n^{(1)}}}(y_{(k)}) - \\dfrac{k - 1}{m} \\right) $$\n",
    "3. Визначити критичну область $Crit = z_{\\gamma} \\sqrt{ \\dfrac{1}{n} + \\dfrac{1}{m} }$\n",
    "4. Як $D_{n,m}(\\overline{x}, \\overline{y}) > Crit$ -- приймаємо $H_1$, інакше $H_0$"
   ]
  },
  {
   "cell_type": "code",
   "execution_count": 22,
   "metadata": {
    "datalore": {
     "hide_input_from_viewers": false,
     "hide_output_from_viewers": false,
     "node_id": "EO7dt9s2HD6dbLGhn3eOOt",
     "report_properties": {},
     "type": "CODE"
    }
   },
   "outputs": [
    {
     "data": {
      "text/plain": [
       "[0.04700000000000004, 0.0744902678207026]"
      ]
     },
     "execution_count": 22,
     "metadata": {},
     "output_type": "execute_result"
    }
   ],
   "source": [
    "def get_X_2(X1, LAMBDA):\n",
    "    return np.sort(np.random.exponential(LAMBDA, int(len(X1) / 2)))\n",
    "\n",
    "\n",
    "def task_4(X1, X2):\n",
    "    n = len(X1)\n",
    "    m = len(X2)\n",
    "\n",
    "    D_mn_plus = np.max([k / m - F_function_empirical(X2[k], X1) for k in range(m)])\n",
    "\n",
    "    D_mn_sub = np.max([F_function_empirical(X2[k], X1) - (k - 1) / m for k in range(m)])\n",
    "\n",
    "    D_mn = max(D_mn_sub, D_mn_plus)\n",
    "\n",
    "    return [D_mn, z_gamma * np.math.sqrt(1 / n + 1 / m)]\n",
    "\n",
    "\n",
    "X_half = get_X_2(X1_1000, 1)\n",
    "\n",
    "task_4(X1_1000, X_half)"
   ]
  },
  {
   "cell_type": "markdown",
   "metadata": {
    "datalore": {
     "hide_input_from_viewers": false,
     "hide_output_from_viewers": false,
     "node_id": "jxN02HX35uQyMQKo9Jz3Pv",
     "report_properties": {},
     "type": "MD"
    }
   },
   "source": [
    "### Випадок 1\n",
    "$$ H_0\\ :\\ \\bar{ X^{(1)}} \\sim F(u,1), \\bar{ X^{(2)}} \\sim F(u,1) \\\\\n",
    "\\text{( Насправді так:} \\\\\n",
    "   H_0\\ :\\ \\bar{ X^{(1)}} \\sim F(u,1); \\bar{ X^{(2)}} \\sim F(u,1) )$$"
   ]
  },
  {
   "cell_type": "code",
   "execution_count": 23,
   "metadata": {
    "datalore": {
     "hide_input_from_viewers": false,
     "hide_output_from_viewers": false,
     "node_id": "wc4mq1HZfXRdFr4vWBTB6g",
     "report_properties": {},
     "type": "CODE"
    }
   },
   "outputs": [
    {
     "data": {
      "text/html": [
       "<div>\n",
       "<style scoped>\n",
       "    .dataframe tbody tr th:only-of-type {\n",
       "        vertical-align: middle;\n",
       "    }\n",
       "\n",
       "    .dataframe tbody tr th {\n",
       "        vertical-align: top;\n",
       "    }\n",
       "\n",
       "    .dataframe thead th {\n",
       "        text-align: right;\n",
       "    }\n",
       "</style>\n",
       "<table border=\"1\" class=\"dataframe\">\n",
       "  <thead>\n",
       "    <tr style=\"text-align: right;\">\n",
       "      <th></th>\n",
       "      <th>1000</th>\n",
       "      <th>10000</th>\n",
       "      <th>100000</th>\n",
       "    </tr>\n",
       "  </thead>\n",
       "  <tbody>\n",
       "    <tr>\n",
       "      <th>Завдання 4</th>\n",
       "      <td></td>\n",
       "      <td></td>\n",
       "      <td></td>\n",
       "    </tr>\n",
       "    <tr>\n",
       "      <th>lambda: 1</th>\n",
       "      <td>0.067</td>\n",
       "      <td>0.0102</td>\n",
       "      <td>0.00347</td>\n",
       "    </tr>\n",
       "    <tr>\n",
       "      <th>Crit</th>\n",
       "      <td>0.07449</td>\n",
       "      <td>0.023556</td>\n",
       "      <td>0.007449</td>\n",
       "    </tr>\n",
       "    <tr>\n",
       "      <th>RES</th>\n",
       "      <td>H0</td>\n",
       "      <td>H0</td>\n",
       "      <td>H0</td>\n",
       "    </tr>\n",
       "  </tbody>\n",
       "</table>\n",
       "</div>"
      ],
      "text/plain": [
       "             1000      10000     100000\n",
       "Завдання 4                             \n",
       "lambda: 1     0.067    0.0102   0.00347\n",
       "Crit        0.07449  0.023556  0.007449\n",
       "RES              H0        H0        H0"
      ]
     },
     "execution_count": 23,
     "metadata": {},
     "output_type": "execute_result"
    }
   ],
   "source": [
    "N = [1000, 10000, 100000]\n",
    "\n",
    "D_mn_1 = np.zeros(3)\n",
    "Res_mn_1 = np.zeros(3)\n",
    "Crit_mn_1 = np.zeros(3)\n",
    "\n",
    "D_mn_1[0], Crit_mn_1[0] = task_4(X1_1000, get_X_2(X1_1000, LAMBDA1))\n",
    "D_mn_1[1], Crit_mn_1[1] = task_4(X1_10000, get_X_2(X1_10000, LAMBDA1))\n",
    "D_mn_1[2], Crit_mn_1[2] = task_4(X1_100000, get_X_2(X1_100000, LAMBDA1))\n",
    "\n",
    "Res_mn_1 = [\"H0\" if D_mn_1[i] < Crit_mn_1[i] else \"False\" for i in range(3)]\n",
    "\n",
    "data_4_1 = {\"Завдання 4\": [\"\", \"\", \"\"], \"lambda: 1\": D_mn_1, \"Crit\": Crit_mn_1, \"RES\": Res_mn_1}\n",
    "df_4_1 = pd.DataFrame.from_dict(data_4_1, orient='index', columns=N)\n",
    "df_4_1"
   ]
  },
  {
   "cell_type": "markdown",
   "metadata": {
    "datalore": {
     "hide_input_from_viewers": false,
     "hide_output_from_viewers": false,
     "node_id": "flwlk330mkvC0qBycN4jus",
     "report_properties": {},
     "type": "MD"
    }
   },
   "source": [
    "### Випадок 2\n",
    "$$ H_0\\ :\\ \\bar{ X^{(1)}} \\sim F(u,1), \\bar{ X^{(2)}} \\sim F(u,1) \\\\ \\text{( Насправді так: } \\\\\n",
    "  \\bar{ X^{(1)}} \\sim F(u,1); \\bar{ X^{(2)}} \\sim F(u,1.2)\\ ) $$"
   ]
  },
  {
   "cell_type": "code",
   "execution_count": 24,
   "metadata": {
    "datalore": {
     "hide_input_from_viewers": false,
     "hide_output_from_viewers": false,
     "node_id": "SsuW3iJUFwA0Ug3OYkjriA",
     "report_properties": {},
     "type": "CODE"
    }
   },
   "outputs": [
    {
     "data": {
      "text/html": [
       "<div>\n",
       "<style scoped>\n",
       "    .dataframe tbody tr th:only-of-type {\n",
       "        vertical-align: middle;\n",
       "    }\n",
       "\n",
       "    .dataframe tbody tr th {\n",
       "        vertical-align: top;\n",
       "    }\n",
       "\n",
       "    .dataframe thead th {\n",
       "        text-align: right;\n",
       "    }\n",
       "</style>\n",
       "<table border=\"1\" class=\"dataframe\">\n",
       "  <thead>\n",
       "    <tr style=\"text-align: right;\">\n",
       "      <th></th>\n",
       "      <th>1000</th>\n",
       "      <th>10000</th>\n",
       "      <th>100000</th>\n",
       "    </tr>\n",
       "  </thead>\n",
       "  <tbody>\n",
       "    <tr>\n",
       "      <th>Завдання 4</th>\n",
       "      <td></td>\n",
       "      <td></td>\n",
       "      <td></td>\n",
       "    </tr>\n",
       "    <tr>\n",
       "      <th>lambda: 1.2</th>\n",
       "      <td>0.121</td>\n",
       "      <td>0.099</td>\n",
       "      <td>0.09883</td>\n",
       "    </tr>\n",
       "    <tr>\n",
       "      <th>Crit</th>\n",
       "      <td>0.07449</td>\n",
       "      <td>0.023556</td>\n",
       "      <td>0.007449</td>\n",
       "    </tr>\n",
       "    <tr>\n",
       "      <th>RES</th>\n",
       "      <td>False</td>\n",
       "      <td>False</td>\n",
       "      <td>False</td>\n",
       "    </tr>\n",
       "  </tbody>\n",
       "</table>\n",
       "</div>"
      ],
      "text/plain": [
       "              1000      10000     100000\n",
       "Завдання 4                              \n",
       "lambda: 1.2    0.121     0.099   0.09883\n",
       "Crit         0.07449  0.023556  0.007449\n",
       "RES            False     False     False"
      ]
     },
     "execution_count": 24,
     "metadata": {},
     "output_type": "execute_result"
    }
   ],
   "source": [
    "N = [1000, 10000, 100000]\n",
    "\n",
    "D_mn_2 = np.zeros(3)\n",
    "Res_mn_2 = np.zeros(3)\n",
    "Crit_mn_2 = np.zeros(3)\n",
    "\n",
    "D_mn_2[0], Crit_mn_2[0] = task_4(X1_1000, get_X_2(X1_1000, LAMBDA2))\n",
    "D_mn_2[1], Crit_mn_2[1] = task_4(X1_10000, get_X_2(X1_10000, LAMBDA2))\n",
    "D_mn_2[2], Crit_mn_2[2] = task_4(X1_100000, get_X_2(X1_100000, LAMBDA2))\n",
    "\n",
    "Res_mn_2 = [\"H0\" if D_mn_2[i] < Crit_mn_2[i] else \"False\" for i in range(3)]\n",
    "\n",
    "data_4_2 = {\"Завдання 4\": [\"\", \"\", \"\"], \"lambda: 1.2\": D_mn_2, \"Crit\": Crit_mn_2, \"RES\": Res_mn_2}\n",
    "df_4_2 = pd.DataFrame.from_dict(data_4_2, orient='index', columns=N)\n",
    "df_4_2"
   ]
  },
  {
   "cell_type": "markdown",
   "metadata": {
    "datalore": {
     "hide_input_from_viewers": false,
     "hide_output_from_viewers": false,
     "node_id": "bDXr9uKzQXnoy5fsDElun3",
     "report_properties": {},
     "type": "MD"
    }
   },
   "source": [
    "# Результати"
   ]
  },
  {
   "cell_type": "code",
   "execution_count": 26,
   "metadata": {
    "datalore": {
     "hide_input_from_viewers": false,
     "hide_output_from_viewers": false,
     "node_id": "F1bBC6CtHPaCwt6GE38EVr",
     "report_properties": {},
     "type": "CODE"
    }
   },
   "outputs": [
    {
     "name": "stderr",
     "output_type": "stream",
     "text": [
      "/tmp/ipykernel_35183/2771511774.py:1: FutureWarning: The frame.append method is deprecated and will be removed from pandas in a future version. Use pandas.concat instead.\n",
      "  res = df1.append(df2.append(df3.append(df_4_1.append(df_4_2))))\n",
      "/tmp/ipykernel_35183/2771511774.py:1: FutureWarning: The frame.append method is deprecated and will be removed from pandas in a future version. Use pandas.concat instead.\n",
      "  res = df1.append(df2.append(df3.append(df_4_1.append(df_4_2))))\n",
      "/tmp/ipykernel_35183/2771511774.py:1: FutureWarning: The frame.append method is deprecated and will be removed from pandas in a future version. Use pandas.concat instead.\n",
      "  res = df1.append(df2.append(df3.append(df_4_1.append(df_4_2))))\n",
      "/tmp/ipykernel_35183/2771511774.py:1: FutureWarning: The frame.append method is deprecated and will be removed from pandas in a future version. Use pandas.concat instead.\n",
      "  res = df1.append(df2.append(df3.append(df_4_1.append(df_4_2))))\n"
     ]
    }
   ],
   "source": [
    "res = df1.append(df2.append(df3.append(df_4_1.append(df_4_2))))"
   ]
  },
  {
   "cell_type": "code",
   "execution_count": 27,
   "metadata": {
    "datalore": {
     "hide_input_from_viewers": false,
     "hide_output_from_viewers": false,
     "node_id": "NVkxojhdhU7EcI6ZEzxfas",
     "report_properties": {},
     "type": "CODE"
    }
   },
   "outputs": [
    {
     "data": {
      "text/plain": "                              1000        10000         100000\nЗавдання 1                                                    \nD                           1.017146    0.581871      1.236667\nРезультат для lambda = 1       false       false         false\nD2                          6.248724   19.001761     60.020592\nЗавдання 2                                                    \nXI_sqr                     17.708366  259.945383   2872.758544\nlambda == 1                 6.648318  138.394346   3325.864009\nRES_2_1                           H0          H0         False\nlambda == 1.3             422.521781   2259.4399  28251.251464\nRES_2_2                        False       False         False\nЗавдання 3                                                    \nmu 1                              77         661          6708\nk_gamma 1                   78.09583  709.653243   6871.046044\nRES                               H0          H0            H0\nmu 1.2                            86         763          7483\nk_gamma 1.3                 78.09583  709.653243   6871.046044\nRES2                           False       False         False\nЗавдання 4                                                    \nlambda: 1                      0.067      0.0102       0.00347\nCrit                         0.07449    0.023556      0.007449\nRES                               H0          H0            H0\nЗавдання 4                                                    \nlambda: 1.2                    0.121       0.099       0.09883\nCrit                         0.07449    0.023556      0.007449\nRES                            False       False         False",
      "text/html": "<div>\n<style scoped>\n    .dataframe tbody tr th:only-of-type {\n        vertical-align: middle;\n    }\n\n    .dataframe tbody tr th {\n        vertical-align: top;\n    }\n\n    .dataframe thead th {\n        text-align: right;\n    }\n</style>\n<table border=\"1\" class=\"dataframe\">\n  <thead>\n    <tr style=\"text-align: right;\">\n      <th></th>\n      <th>1000</th>\n      <th>10000</th>\n      <th>100000</th>\n    </tr>\n  </thead>\n  <tbody>\n    <tr>\n      <th>Завдання 1</th>\n      <td></td>\n      <td></td>\n      <td></td>\n    </tr>\n    <tr>\n      <th>D</th>\n      <td>1.017146</td>\n      <td>0.581871</td>\n      <td>1.236667</td>\n    </tr>\n    <tr>\n      <th>Результат для lambda = 1</th>\n      <td>false</td>\n      <td>false</td>\n      <td>false</td>\n    </tr>\n    <tr>\n      <th>D2</th>\n      <td>6.248724</td>\n      <td>19.001761</td>\n      <td>60.020592</td>\n    </tr>\n    <tr>\n      <th>Завдання 2</th>\n      <td></td>\n      <td></td>\n      <td></td>\n    </tr>\n    <tr>\n      <th>XI_sqr</th>\n      <td>17.708366</td>\n      <td>259.945383</td>\n      <td>2872.758544</td>\n    </tr>\n    <tr>\n      <th>lambda == 1</th>\n      <td>6.648318</td>\n      <td>138.394346</td>\n      <td>3325.864009</td>\n    </tr>\n    <tr>\n      <th>RES_2_1</th>\n      <td>H0</td>\n      <td>H0</td>\n      <td>False</td>\n    </tr>\n    <tr>\n      <th>lambda == 1.3</th>\n      <td>422.521781</td>\n      <td>2259.4399</td>\n      <td>28251.251464</td>\n    </tr>\n    <tr>\n      <th>RES_2_2</th>\n      <td>False</td>\n      <td>False</td>\n      <td>False</td>\n    </tr>\n    <tr>\n      <th>Завдання 3</th>\n      <td></td>\n      <td></td>\n      <td></td>\n    </tr>\n    <tr>\n      <th>mu 1</th>\n      <td>77</td>\n      <td>661</td>\n      <td>6708</td>\n    </tr>\n    <tr>\n      <th>k_gamma 1</th>\n      <td>78.09583</td>\n      <td>709.653243</td>\n      <td>6871.046044</td>\n    </tr>\n    <tr>\n      <th>RES</th>\n      <td>H0</td>\n      <td>H0</td>\n      <td>H0</td>\n    </tr>\n    <tr>\n      <th>mu 1.2</th>\n      <td>86</td>\n      <td>763</td>\n      <td>7483</td>\n    </tr>\n    <tr>\n      <th>k_gamma 1.3</th>\n      <td>78.09583</td>\n      <td>709.653243</td>\n      <td>6871.046044</td>\n    </tr>\n    <tr>\n      <th>RES2</th>\n      <td>False</td>\n      <td>False</td>\n      <td>False</td>\n    </tr>\n    <tr>\n      <th>Завдання 4</th>\n      <td></td>\n      <td></td>\n      <td></td>\n    </tr>\n    <tr>\n      <th>lambda: 1</th>\n      <td>0.067</td>\n      <td>0.0102</td>\n      <td>0.00347</td>\n    </tr>\n    <tr>\n      <th>Crit</th>\n      <td>0.07449</td>\n      <td>0.023556</td>\n      <td>0.007449</td>\n    </tr>\n    <tr>\n      <th>RES</th>\n      <td>H0</td>\n      <td>H0</td>\n      <td>H0</td>\n    </tr>\n    <tr>\n      <th>Завдання 4</th>\n      <td></td>\n      <td></td>\n      <td></td>\n    </tr>\n    <tr>\n      <th>lambda: 1.2</th>\n      <td>0.121</td>\n      <td>0.099</td>\n      <td>0.09883</td>\n    </tr>\n    <tr>\n      <th>Crit</th>\n      <td>0.07449</td>\n      <td>0.023556</td>\n      <td>0.007449</td>\n    </tr>\n    <tr>\n      <th>RES</th>\n      <td>False</td>\n      <td>False</td>\n      <td>False</td>\n    </tr>\n  </tbody>\n</table>\n</div>"
     },
     "execution_count": 27,
     "metadata": {},
     "output_type": "execute_result"
    }
   ],
   "source": [
    "res.to_excel(\"./lab2_results.xlsx\")\n",
    "res.to_csv(\"./lab2_results.csv\")\n",
    "res"
   ]
  }
 ],
 "metadata": {
  "datalore": {
   "base_environment": "default",
   "computation_mode": "JUPYTER",
   "package_manager": "pip",
   "packages": [],
   "version": 1
  },
  "kernelspec": {
   "display_name": "Python 3 (ipykernel)",
   "language": "python",
   "name": "python3"
  },
  "language_info": {
   "codemirror_mode": {
    "name": "ipython",
    "version": 3
   },
   "file_extension": ".py",
   "mimetype": "text/x-python",
   "name": "python",
   "nbconvert_exporter": "python",
   "pygments_lexer": "ipython3",
   "version": "3.10.6"
  }
 },
 "nbformat": 4,
 "nbformat_minor": 4
}
