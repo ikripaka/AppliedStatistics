{
 "cells":[
  {
   "cell_type":"code",
   "source":[
    "import numpy as np\n",
    "import pandas as pd\n",
    "import matplotlib.pyplot as plt"
   ],
   "execution_count":1,
   "outputs":[
    
   ],
   "metadata":{
    "datalore":{
     "node_id":"x5MJK6BwDYF0sNncJGwXf3",
     "type":"CODE",
     "hide_input_from_viewers":false,
     "hide_output_from_viewers":false,
     "report_properties":{
      
     }
    }
   }
  },
  {
   "cell_type":"markdown",
   "source":[
    "## Завдання 1\n",
    "### Маємо вибірку \n",
    "$$\\overline{X} = (X_{1}, \\ldots , X_{n}), де \\{ X_{i} \\}$$\n",
    "### незалежні однаково розподілені випадкові величини\n",
    "\n",
    "### Рівень значимості маємо\n",
    "$$\\gamma = 0.05$$\n",
    "$$z_{\\gamma} = 1.36$$"
   ],
   "attachments":{
    
   },
   "metadata":{
    "datalore":{
     "node_id":"WYwbKUmB41jZRXl3vPrUYl",
     "type":"MD",
     "hide_input_from_viewers":false,
     "hide_output_from_viewers":false,
     "report_properties":{
      
     }
    }
   }
  },
  {
   "cell_type":"code",
   "source":[
    "gamma = 0.05\n",
    "z_gamma = 1.36"
   ],
   "execution_count":2,
   "outputs":[
    
   ],
   "metadata":{
    "datalore":{
     "node_id":"SVQS2xBjRJtJVokA0fl6zq",
     "type":"CODE",
     "hide_input_from_viewers":false,
     "hide_output_from_viewers":false,
     "report_properties":{
      
     }
    }
   }
  },
  {
   "cell_type":"markdown",
   "source":[
    "## Завдання 1."
   ],
   "attachments":{
    
   },
   "metadata":{
    "datalore":{
     "node_id":"6Bx5sQI8xgU5Ecm7IiVXxR",
     "type":"MD",
     "hide_input_from_viewers":false,
     "hide_output_from_viewers":false,
     "report_properties":{
      
     }
    }
   }
  },
  {
   "cell_type":"markdown",
   "source":[
    "### 1. обираємо рівень значимості $$\\gamma$$ та за таблицею для розподілу Колмогорова знаходимо $z_{\\gamma}$ таке, що $K(z_{\\gamma}) = 1 - \\gamma$."
   ],
   "attachments":{
    
   },
   "metadata":{
    "datalore":{
     "node_id":"2f9sPsDNow2NgCoiniJsBa",
     "type":"MD",
     "hide_input_from_viewers":false,
     "hide_output_from_viewers":false,
     "report_properties":{
      
     }
    }
   }
  },
  {
   "cell_type":"markdown",
   "source":[
    "### Маємо, що\n",
    "$$\\gamma = 0.05$$\n",
    "$$z_{\\gamma} = 1.36$$"
   ],
   "attachments":{
    
   },
   "metadata":{
    "datalore":{
     "node_id":"u4nThx15oMqnFEg3LVkcJT",
     "type":"MD",
     "hide_input_from_viewers":false,
     "hide_output_from_viewers":false,
     "report_properties":{
      
     }
    }
   }
  },
  {
   "cell_type":"markdown",
   "source":[
    "### 2. За формулою \n",
    "$$D_n(\\bar x) = \\max_{1 \\le k \\le n}{\\{ \\max{ \\{ (F(x_{(k)})-\\frac{k-1}{n}),(\\frac{k}{n}-(F(x_{(k)}))\\}}\\}}$$ \n",
    "обчислюємо $D_n(\\bar x)$."
   ],
   "attachments":{
    
   },
   "metadata":{
    "datalore":{
     "node_id":"yiQ9YPZIgLjnBT2pSsmH6j",
     "type":"MD",
     "hide_input_from_viewers":false,
     "hide_output_from_viewers":false,
     "report_properties":{
      
     }
    }
   }
  },
  {
   "cell_type":"markdown",
   "source":[
    "### 3. Якщо \n",
    "$$ \\sqrt{n}D_n(\\bar x)<z_{\\gamma}, $$\n",
    "то робимо висновок: статистичні дані не суперечать гіпотезі $H_0$. Якщо ж $\\bar x \\in Z_1$, то слід прийняти альтернативну гіпотезу $H_1$."
   ],
   "attachments":{
    
   },
   "metadata":{
    "datalore":{
     "node_id":"wu84Di0UdrD4s7qmVQI3C9",
     "type":"MD",
     "hide_input_from_viewers":false,
     "hide_output_from_viewers":false,
     "report_properties":{
      
     }
    }
   }
  },
  {
   "cell_type":"code",
   "source":[
    "LAMBDA1 = 1\n",
    "LAMBDA2 = 1.3\n",
    "\n",
    "F_function_empirical = lambda u, X: np.count_nonzero(u >= X) \/ len(X) #функція розподілу. емпірична\n",
    "F_function_theoretical = lambda u, LAMBDA: 1 - np.math.exp((-1) * LAMBDA * u) #функція розподілу. теоретична"
   ],
   "execution_count":3,
   "outputs":[
    
   ],
   "metadata":{
    "datalore":{
     "node_id":"nPPSoc0OmXPbjHjv2UdZGb",
     "type":"CODE",
     "hide_input_from_viewers":false,
     "hide_output_from_viewers":false,
     "report_properties":{
      
     }
    }
   }
  },
  {
   "cell_type":"code",
   "source":[
    "def Dn_max(Xk, LAMBDA):\n",
    "    n = len(Xk)\n",
    "    Dn_m_p = np.max( [k \/ n - F_function_theoretical(x, LAMBDA) for k,x in enumerate(Xk)] )\n",
    "    Dn_m_n = np.max( [F_function_theoretical(x, LAMBDA) - (k-1)\/n  for k,x in enumerate(Xk)] )\n",
    "    return [Dn_m_n, Dn_m_p]"
   ],
   "execution_count":4,
   "outputs":[
    
   ],
   "metadata":{
    "datalore":{
     "node_id":"nAVuH9dNbkNEwaYClnGpU9",
     "type":"CODE",
     "hide_input_from_viewers":false,
     "hide_output_from_viewers":false,
     "report_properties":{
      
     }
    }
   }
  },
  {
   "cell_type":"markdown",
   "source":[
    "### Для $\\lambda =1$"
   ],
   "attachments":{
    
   },
   "metadata":{
    "datalore":{
     "node_id":"D6CQUipThK7yQHEXkmlkO4",
     "type":"MD",
     "hide_input_from_viewers":false,
     "hide_output_from_viewers":false,
     "report_properties":{
      
     }
    }
   }
  },
  {
   "cell_type":"code",
   "source":[
    "N = [pow(10,3), pow(10,4), pow(10,5)]\n",
    "X1_1000 = np.sort(np.random.exponential(LAMBDA1, size = N[0]))\n",
    "X1_10000 = np.sort(np.random.exponential(LAMBDA1, size = N[1]))\n",
    "X1_100000 = np.sort(np.random.exponential(LAMBDA1, size = N[2]))\n",
    "\n",
    "\n",
    "D1 = [np.sqrt(N[0]) * max(Dn_max(X1_1000, LAMBDA1)), np.sqrt(N[1]) * max(Dn_max(X1_10000, LAMBDA1)), np.sqrt(N[2]) * max(Dn_max(X1_100000, LAMBDA1))]\n",
    "\n",
    "RES_FOR_LAMBDA1 = ['H0' if element < z_gamma else 'false' for element in D1]\n"
   ],
   "execution_count":5,
   "outputs":[
    
   ],
   "metadata":{
    "datalore":{
     "node_id":"TzCcoga2mfWHjNisQrvch3",
     "type":"CODE",
     "hide_input_from_viewers":false,
     "hide_output_from_viewers":false,
     "report_properties":{
      
     }
    }
   }
  },
  {
   "cell_type":"markdown",
   "source":[
    "### Для $\\lambda = 1.3$"
   ],
   "attachments":{
    
   },
   "metadata":{
    "datalore":{
     "node_id":"HeN2CnTk5jxsvDuotn2h44",
     "type":"MD",
     "hide_input_from_viewers":false,
     "hide_output_from_viewers":false,
     "report_properties":{
      
     }
    }
   }
  },
  {
   "cell_type":"code",
   "source":[
    "X2_1000 = np.sort(np.random.exponential(LAMBDA2, size = N[0]))\n",
    "X2_10000 = np.sort(np.random.exponential(LAMBDA2, size = N[1]))\n",
    "X2_100000 = np.sort(np.random.exponential(LAMBDA2, size = N[2]))\n",
    "\n",
    "\n",
    "D2 = [np.sqrt(N[0]) * max(Dn_max(X2_1000, LAMBDA2)), np.sqrt(N[1]) * max(Dn_max(X2_10000, LAMBDA2)), np.sqrt(N[2]) * max(Dn_max(X2_100000, LAMBDA2))]\n",
    "\n",
    "RES_FOR_LAMBDA2 = ['H0' if element < z_gamma else 'false' for element in D2]"
   ],
   "execution_count":6,
   "outputs":[
    
   ],
   "metadata":{
    "datalore":{
     "node_id":"Pq9tsbYwLiPGEJBr81ps1u",
     "type":"CODE",
     "hide_input_from_viewers":false,
     "hide_output_from_viewers":false,
     "report_properties":{
      
     }
    }
   }
  },
  {
   "cell_type":"code",
   "source":[
    "data_1 = {\"Завдання 1\":[\"\",\"\",\"\"],\"D\":D1,\"Результат для lambda = 1\":RES_FOR_LAMBDA1,\"D2\":D2,\"Результат для lambda = 1\": RES_FOR_LAMBDA2}\n",
    "df1 = pd.DataFrame.from_dict(data_1, orient='index', columns=N)"
   ],
   "execution_count":7,
   "outputs":[
    
   ],
   "metadata":{
    "datalore":{
     "node_id":"kR7ehp1Mr2gozItZ45rDfg",
     "type":"CODE",
     "hide_input_from_viewers":false,
     "hide_output_from_viewers":false,
     "report_properties":{
      
     }
    }
   }
  },
  {
   "cell_type":"code",
   "source":[
    "df1"
   ],
   "execution_count":8,
   "outputs":[
    {
     "data":{
      "text\/html":[
       "<div>\n",
       "<style scoped>\n",
       "    .dataframe tbody tr th:only-of-type {\n",
       "        vertical-align: middle;\n",
       "    }\n",
       "\n",
       "    .dataframe tbody tr th {\n",
       "        vertical-align: top;\n",
       "    }\n",
       "\n",
       "    .dataframe thead th {\n",
       "        text-align: right;\n",
       "    }\n",
       "<\/style>\n",
       "<table border=\"1\" class=\"dataframe\">\n",
       "  <thead>\n",
       "    <tr style=\"text-align: right;\">\n",
       "      <th><\/th>\n",
       "      <th>1000<\/th>\n",
       "      <th>10000<\/th>\n",
       "      <th>100000<\/th>\n",
       "    <\/tr>\n",
       "  <\/thead>\n",
       "  <tbody>\n",
       "    <tr>\n",
       "      <th>Завдання 1<\/th>\n",
       "      <td><\/td>\n",
       "      <td><\/td>\n",
       "      <td><\/td>\n",
       "    <\/tr>\n",
       "    <tr>\n",
       "      <th>D<\/th>\n",
       "      <td>1.128144<\/td>\n",
       "      <td>0.690276<\/td>\n",
       "      <td>0.57126<\/td>\n",
       "    <\/tr>\n",
       "    <tr>\n",
       "      <th>Результат для lambda = 1<\/th>\n",
       "      <td>false<\/td>\n",
       "      <td>false<\/td>\n",
       "      <td>false<\/td>\n",
       "    <\/tr>\n",
       "    <tr>\n",
       "      <th>D2<\/th>\n",
       "      <td>6.195945<\/td>\n",
       "      <td>18.888389<\/td>\n",
       "      <td>60.558653<\/td>\n",
       "    <\/tr>\n",
       "  <\/tbody>\n",
       "<\/table>\n",
       "<\/div>"
      ]
     },
     "metadata":{
      
     },
     "output_type":"display_data"
    }
   ],
   "metadata":{
    "datalore":{
     "node_id":"0PcQtwAf0Tsk6Q77Ep4sHQ",
     "type":"CODE",
     "hide_input_from_viewers":false,
     "hide_output_from_viewers":false,
     "report_properties":{
      
     }
    }
   }
  },
  {
   "cell_type":"markdown",
   "source":[
    "## Завдання 2\n",
    "за допомогою критерія $\\chi^2$ перевірити гіпотези\n",
    "Зауваження. Кількість проміжків  обирати з умови: $$r=\\frac{30 \\times n}{1000}$$"
   ],
   "attachments":{
    
   },
   "metadata":{
    "datalore":{
     "node_id":"LVpRB4k97rEgHOt0Z9F678",
     "type":"MD",
     "hide_input_from_viewers":false,
     "hide_output_from_viewers":false,
     "report_properties":{
      
     }
    }
   }
  },
  {
   "cell_type":"markdown",
   "source":[
    "### $\\chi^2$ - міра\n",
    "$$\\delta^{(x)}_r=\\sum^{r}_{i=1} \\frac{(v_i-np_i)^2}{n p_i}$$"
   ],
   "attachments":{
    
   },
   "metadata":{
    "datalore":{
     "node_id":"Zs9b2t48TRoTnRdwsAftF5",
     "type":"MD",
     "hide_input_from_viewers":false,
     "hide_output_from_viewers":false,
     "report_properties":{
      
     }
    }
   }
  },
  {
   "cell_type":"code",
   "source":[
    "# p = 1 - 0.05 = 0.95\n",
    "xi_average = 1.645\n",
    "\n",
    "xi_30 = 43.8\n",
    "\n",
    "r = lambda n : int(30*n\/1000)\n",
    "xi_big = lambda n : (xi_average + np.math.sqrt(2*n -1))**2\/2\n",
    "\n",
    "xi_big(r(1000))"
   ],
   "execution_count":9,
   "outputs":[
    {
     "data":{
      "text\/plain":[
       "43.488497255243864"
      ]
     },
     "metadata":{
      
     },
     "output_type":"display_data"
    }
   ],
   "metadata":{
    "datalore":{
     "node_id":"WIMfvms1guxqtbNWcFosiL",
     "type":"CODE",
     "hide_input_from_viewers":false,
     "hide_output_from_viewers":false,
     "report_properties":{
      
     }
    }
   }
  },
  {
   "cell_type":"code",
   "source":[
    "import math\n",
    "\n",
    "def xi_sqr(X):\n",
    "    \n",
    "    n =  len(X)\n",
    "    R = r(n)\n",
    "    tmp = R \/ 30 \n",
    "    p = [F_function_theoretical(i \/ tmp, LAMBDA1) - F_function_theoretical((i - 1) \/ tmp, LAMBDA1) for i in range(1, R + 1)] \n",
    "    v = np.zeros(R)  \n",
    "    for i in range(n):\n",
    "        v[math.ceil(np.random.choice(X, 1) * tmp) - 1] += 1  \n",
    "\n",
    "    \n",
    "    delta = np.sum([((v[i] - n * p[i]) ** 2) \/ (n * p[i]) for i in range(R)])\n",
    "    return delta \n",
    "\n",
    "res = xi_sqr(np.copy(X1_1000))\n",
    "\n",
    "print(res)"
   ],
   "execution_count":10,
   "outputs":[
    {
     "name":"stdout",
     "text":[
      "14.214910983125236\n"
     ],
     "output_type":"stream"
    }
   ],
   "metadata":{
    "datalore":{
     "node_id":"WcPLC7gV51lglwf6wypSu2",
     "type":"CODE",
     "hide_input_from_viewers":false,
     "hide_output_from_viewers":false,
     "report_properties":{
      
     }
    }
   }
  },
  {
   "cell_type":"code",
   "source":[
    "N2 = [pow(10,3), pow(10,4), pow(10,5)]\n",
    "XI = [17.70836618, 259.9453829, 2872.758544]    #[xi_big(N[i]) for i in range(3)]\n",
    "D_2_1 = [xi_sqr(X1_1000), xi_sqr(X1_10000), xi_sqr(X1_100000)]\n",
    "D_2_2 = [xi_sqr(X2_1000), xi_sqr(X2_10000), xi_sqr(X2_100000)]\n",
    "RES_2_1  = [\"H0\" if D_2_1[i] < XI[i] else \"False\" for i in range(3)]\n",
    "RES_2_2  = [\"H0\" if D_2_2[i] < XI[i] else \"False\" for i in range(3)]\n",
    "\n",
    "\n",
    "data_2 = {\"Завдання 2\": [\"\", \"\", \"\"], \"XI_sqr\": XI, \"lambda == 1\":D_2_1,\"RES_2_1\":RES_2_1,\"lambda == 1.3\":D_2_2,\"RES_2_2\": RES_2_2}\n",
    "df2 = pd.DataFrame.from_dict(data_2, orient='index', columns=N)"
   ],
   "execution_count":13,
   "outputs":[
    
   ],
   "metadata":{
    "datalore":{
     "node_id":"4TrFWRXT7XLkSii2gHAt9D",
     "type":"CODE",
     "hide_input_from_viewers":false,
     "hide_output_from_viewers":false,
     "report_properties":{
      
     }
    }
   }
  },
  {
   "cell_type":"code",
   "source":[
    "df2"
   ],
   "execution_count":14,
   "outputs":[
    {
     "data":{
      "text\/html":[
       "<div>\n",
       "<style scoped>\n",
       "    .dataframe tbody tr th:only-of-type {\n",
       "        vertical-align: middle;\n",
       "    }\n",
       "\n",
       "    .dataframe tbody tr th {\n",
       "        vertical-align: top;\n",
       "    }\n",
       "\n",
       "    .dataframe thead th {\n",
       "        text-align: right;\n",
       "    }\n",
       "<\/style>\n",
       "<table border=\"1\" class=\"dataframe\">\n",
       "  <thead>\n",
       "    <tr style=\"text-align: right;\">\n",
       "      <th><\/th>\n",
       "      <th>1000<\/th>\n",
       "      <th>10000<\/th>\n",
       "      <th>100000<\/th>\n",
       "    <\/tr>\n",
       "  <\/thead>\n",
       "  <tbody>\n",
       "    <tr>\n",
       "      <th>Завдання 2<\/th>\n",
       "      <td><\/td>\n",
       "      <td><\/td>\n",
       "      <td><\/td>\n",
       "    <\/tr>\n",
       "    <tr>\n",
       "      <th>XI_sqr<\/th>\n",
       "      <td>17.708366<\/td>\n",
       "      <td>259.945383<\/td>\n",
       "      <td>2872.758544<\/td>\n",
       "    <\/tr>\n",
       "    <tr>\n",
       "      <th>lambda == 1<\/th>\n",
       "      <td>10.584893<\/td>\n",
       "      <td>218.383278<\/td>\n",
       "      <td>3490.504167<\/td>\n",
       "    <\/tr>\n",
       "    <tr>\n",
       "      <th>RES_2_1<\/th>\n",
       "      <td>H0<\/td>\n",
       "      <td>H0<\/td>\n",
       "      <td>False<\/td>\n",
       "    <\/tr>\n",
       "    <tr>\n",
       "      <th>lambda == 1.3<\/th>\n",
       "      <td>94.340045<\/td>\n",
       "      <td>1779.503282<\/td>\n",
       "      <td>37661.65186<\/td>\n",
       "    <\/tr>\n",
       "    <tr>\n",
       "      <th>RES_2_2<\/th>\n",
       "      <td>False<\/td>\n",
       "      <td>False<\/td>\n",
       "      <td>False<\/td>\n",
       "    <\/tr>\n",
       "  <\/tbody>\n",
       "<\/table>\n",
       "<\/div>"
      ]
     },
     "metadata":{
      
     },
     "output_type":"display_data"
    }
   ],
   "metadata":{
    "datalore":{
     "node_id":"kBDckhhrT8I6C5X8vFLXY2",
     "type":"CODE",
     "hide_input_from_viewers":false,
     "hide_output_from_viewers":false,
     "report_properties":{
      
     }
    }
   }
  },
  {
   "cell_type":"code",
   "source":[
    "fig, ax = plt.subplots(1,3, figsize=(15, 5), sharey=True)\n",
    "ax[0].plot(N[0], D_2_1[0], 'bo', N[0], D_2_2[0], 'ro')\n",
    "ax[1].plot(N[1], D_2_1[1], 'bo', N[1], D_2_2[1], 'ro')\n",
    "ax[2].plot(N[2], D_2_1[2], 'bo', N[2], D_2_2[2], 'ro')\n",
    "\n",
    "ax[0].axhline(XI[0], color='r')\n",
    "ax[1].axhline(XI[1], color='r')\n",
    "ax[2].axhline(XI[2], color='r')\n",
    "\n",
    "\n",
    "ax[0].set(title=f'N = {N[0]}\\nZ_gamma = {round(XI[0],3)}')\n",
    "ax[1].set(title=f'N = {N[1]}\\nZ_gamma = {round(XI[1],3)}')\n",
    "ax[2].set(title=f'N = {N[2]}\\nZ_gamma = {round(XI[2],3)}')\n",
    "\n",
    "ax[0].annotate(f\"{round(D_2_1[0],3)}\", (N[0], D_2_1[0]))\n",
    "ax[0].annotate(f\"{round(D_2_2[0],3)}\", (N[0], D_2_2[0]))\n",
    "\n",
    "ax[1].annotate(f\"{round(D_2_1[1],3)}\", (N[1], D_2_1[1]))\n",
    "ax[1].annotate(f\"{round(D_2_2[1],3)}\", (N[1], D_2_2[1]))\n",
    "\n",
    "ax[2].annotate(f\"{round(D_2_1[2],3)}\", (N[2], D_2_1[2]))\n",
    "ax[2].annotate(f\"{round(D_2_2[2],3)}\", (N[2], D_2_2[2]))"
   ],
   "execution_count":15,
   "outputs":[
    {
     "data":{
      "text\/plain":[
       "Text(100000, 37661.65185964956, '37661.652')"
      ]
     },
     "metadata":{
      
     },
     "output_type":"display_data"
    },
    {
     "data":{
      "image\/png":"[encoded data removed]"
     },
     "metadata":{
      "image\/png":{
       
      }
     },
     "output_type":"display_data"
    }
   ],
   "metadata":{
    "datalore":{
     "node_id":"zaGWHOo5pkku8tZvHsFbhU",
     "type":"CODE",
     "hide_input_from_viewers":false,
     "hide_output_from_viewers":false,
     "report_properties":{
      
     }
    }
   }
  },
  {
   "cell_type":"markdown",
   "source":[
    "### Завдання 3"
   ],
   "attachments":{
    
   },
   "metadata":{
    "datalore":{
     "node_id":"j40waIh1IJh1grGNNiZzaj",
     "type":"MD",
     "hide_input_from_viewers":false,
     "hide_output_from_viewers":false,
     "report_properties":{
      
     }
    }
   }
  },
  {
   "cell_type":"code",
   "source":[
    "def empty_box(data, this_lambda):\n",
    "    #n = len(data)\n",
    "    n = data\n",
    "    ro = 2    \n",
    "    R = int(n \/ ro)  \n",
    "    z_gamma = 1.644853627  \n",
    "    \n",
    "    v = np.zeros(R)  \n",
    "    for i in range(n):        \n",
    "        #x = np.random.choice(data, 1)  \n",
    "        x = np.random.exponential(this_lambda, 1)\n",
    "        v[math.ceil(F_zero(x, LAMBDA ) * R) - 1] += 1  \n",
    " \n",
    "    mu = np.count_nonzero(v == 0)  \n",
    "    e_pow_m_ro = math.exp(-ro)  \n",
    "    k_gamma = R * e_pow_m_ro + z_gamma * math.sqrt(R * e_pow_m_ro * (1 - (1 + ro) * e_pow_m_ro))  \n",
    "    \n",
    "    return mu, k_gamma\n",
    "\n",
    "empty_box(10000, 1)"
   ],
   "execution_count":null,
   "outputs":[
    {
     "data":{
      "text\/plain":[
       "(631, 709.6532428172949)"
      ]
     },
     "metadata":{
      
     },
     "output_type":"display_data"
    }
   ],
   "metadata":{
    "datalore":{
     "node_id":"kpIHEio6wQ3Z3ZvM4wgI1A",
     "type":"CODE",
     "hide_input_from_viewers":false,
     "hide_output_from_viewers":false,
     "report_properties":{
      
     }
    }
   }
  },
  {
   "cell_type":"code",
   "source":[
    "N2 = [1000, 10000, 100000]\n",
    "\n",
    "D_1 = [empty_box(N2[i],LAMBDA) for i in range(3)]\n",
    "D_2 = [empty_box(N2[i],LAMBDA_2) for i in range(3)]\n",
    "\n",
    "D_1_res = [D_1[i][0] for i in range(3)]\n",
    "D_1_crit = [D_1[i][1] for i in range(3)]\n",
    "\n",
    "D_2_res = [D_2[i][0] for i in range(3)]\n",
    "D_2_crit = [D_2[i][1] for i in range(3)]\n",
    "\n",
    "RES_1  = [\"H0\" if D_1[i][0] < D_1[i][1] else \"False\" for i in range(3)]\n",
    "RES_2  = [\"H0\" if D_2[i][0] < D_2[i][1] else \"False\" for i in range(3)]\n",
    "\n",
    "\n",
    "data_3 = {\"Завдання 3\":[\"\",\"\",\"\"],\n",
    "\"mu 1\": D_1_res,\n",
    "\"k_gamma 1\": D_1_crit,\n",
    "\"RES\":RES_1,\n",
    "\"mu 1.2\": D_2_res,\n",
    "\"k_gamma 1.2\": D_2_crit,\n",
    "\"RES2\": RES_2\n",
    "}\n",
    "df3 = pd.DataFrame.from_dict(data_3, orient='index', columns=N)"
   ],
   "execution_count":null,
   "outputs":[
    
   ],
   "metadata":{
    "datalore":{
     "node_id":"ziEuRr8Xgr0QdDvvfA6j2F",
     "type":"CODE",
     "hide_input_from_viewers":false,
     "hide_output_from_viewers":false,
     "report_properties":{
      
     }
    }
   }
  },
  {
   "cell_type":"code",
   "source":[
    "df3"
   ],
   "execution_count":null,
   "outputs":[
    {
     "data":{
      "text\/html":[
       "<div>\n",
       "<style scoped>\n",
       "    .dataframe tbody tr th:only-of-type {\n",
       "        vertical-align: middle;\n",
       "    }\n",
       "\n",
       "    .dataframe tbody tr th {\n",
       "        vertical-align: top;\n",
       "    }\n",
       "\n",
       "    .dataframe thead th {\n",
       "        text-align: right;\n",
       "    }\n",
       "<\/style>\n",
       "<table border=\"1\" class=\"dataframe\">\n",
       "  <thead>\n",
       "    <tr style=\"text-align: right;\">\n",
       "      <th><\/th>\n",
       "      <th>1000<\/th>\n",
       "      <th>10000<\/th>\n",
       "      <th>100000<\/th>\n",
       "    <\/tr>\n",
       "  <\/thead>\n",
       "  <tbody>\n",
       "    <tr>\n",
       "      <th>Завдання 3<\/th>\n",
       "      <td><\/td>\n",
       "      <td><\/td>\n",
       "      <td><\/td>\n",
       "    <\/tr>\n",
       "    <tr>\n",
       "      <th>mu 1<\/th>\n",
       "      <td>72<\/td>\n",
       "      <td>654<\/td>\n",
       "      <td>6732<\/td>\n",
       "    <\/tr>\n",
       "    <tr>\n",
       "      <th>k_gamma 1<\/th>\n",
       "      <td>78.09583<\/td>\n",
       "      <td>709.653243<\/td>\n",
       "      <td>6871.046044<\/td>\n",
       "    <\/tr>\n",
       "    <tr>\n",
       "      <th>RES<\/th>\n",
       "      <td>H0<\/td>\n",
       "      <td>H0<\/td>\n",
       "      <td>H0<\/td>\n",
       "    <\/tr>\n",
       "    <tr>\n",
       "      <th>mu 1.2<\/th>\n",
       "      <td>68<\/td>\n",
       "      <td>747<\/td>\n",
       "      <td>7140<\/td>\n",
       "    <\/tr>\n",
       "    <tr>\n",
       "      <th>k_gamma 1.2<\/th>\n",
       "      <td>78.09583<\/td>\n",
       "      <td>709.653243<\/td>\n",
       "      <td>6871.046044<\/td>\n",
       "    <\/tr>\n",
       "    <tr>\n",
       "      <th>RES2<\/th>\n",
       "      <td>H0<\/td>\n",
       "      <td>False<\/td>\n",
       "      <td>False<\/td>\n",
       "    <\/tr>\n",
       "  <\/tbody>\n",
       "<\/table>\n",
       "<\/div>"
      ]
     },
     "metadata":{
      
     },
     "output_type":"display_data"
    },
    {
     "data":{
      "text\/plain":[
       "               1000        10000        100000\n",
       "Завдання 3                                    \n",
       "mu 1               72         654         6732\n",
       "k_gamma 1    78.09583  709.653243  6871.046044\n",
       "RES                H0          H0           H0\n",
       "mu 1.2             68         747         7140\n",
       "k_gamma 1.2  78.09583  709.653243  6871.046044\n",
       "RES2               H0       False        False"
      ]
     },
     "metadata":{
      
     },
     "output_type":"display_data"
    }
   ],
   "metadata":{
    "datalore":{
     "node_id":"qYOEj64wgjUq1Hyt2oMf1U",
     "type":"CODE",
     "hide_input_from_viewers":false,
     "hide_output_from_viewers":false,
     "report_properties":{
      
     }
    }
   }
  },
  {
   "cell_type":"markdown",
   "source":[
    "### Завдання 4"
   ],
   "attachments":{
    
   },
   "metadata":{
    "datalore":{
     "node_id":"9rNoybBaXFWfqgj2F3V4bt",
     "type":"MD",
     "hide_input_from_viewers":false,
     "hide_output_from_viewers":false,
     "report_properties":{
      
     }
    }
   }
  },
  {
   "cell_type":"code",
   "source":[
    "def get_X_2(X1, LAMBDA = LAMBDA):\n",
    "    return np.sort(np.random.exponential(LAMBDA, int(len(X1)\/2)))\n",
    "\n",
    "\n",
    "def task_4(X1, X2):\n",
    "    n = len(X1)\n",
    "    m = len(X2)\n",
    "\n",
    "    \n",
    "    D_mn_plus = D_mn_min = 0\n",
    "\n",
    "    D_mn_plus = np.max([(k+1)\/m - F_hat(X2[k], X1) for k in range(m)])\n",
    "    \n",
    "    D_mn_min  = np.max([F_hat(X2[k], X1) - (k+1)\/m  for k in range(m)])\n",
    "\n",
    "    D_mn = max(D_mn_min, D_mn_plus)\n",
    "\n",
    "    return  [D_mn, z_gamma * np.math.sqrt( 1\/n + 1\/m)]\n",
    "\n",
    "X_500 = get_X_2(X_1000, 1)\n",
    "\n",
    "task_4(X_1000, X_500)"
   ],
   "execution_count":null,
   "outputs":[
    {
     "data":{
      "text\/plain":[
       "[0.04999999999999999, 0.0744902678207026]"
      ]
     },
     "metadata":{
      
     },
     "output_type":"display_data"
    }
   ],
   "metadata":{
    "datalore":{
     "node_id":"EO7dt9s2HD6dbLGhn3eOOt",
     "type":"CODE",
     "hide_input_from_viewers":false,
     "hide_output_from_viewers":false,
     "report_properties":{
      
     }
    }
   }
  },
  {
   "cell_type":"markdown",
   "source":[
    "$$ H_0\\ :\\ \\bar{ X^{(1)}} \\sim F(u,1); \\bar{ X^{(2)}} \\sim F(u,1);\\\\\\text{(Насправді так і є)}"
   ],
   "attachments":{
    
   },
   "metadata":{
    "datalore":{
     "node_id":"jxN02HX35uQyMQKo9Jz3Pv",
     "type":"MD",
     "hide_input_from_viewers":false,
     "hide_output_from_viewers":false,
     "report_properties":{
      
     }
    }
   }
  },
  {
   "cell_type":"code",
   "source":[
    "N = [1000, 10000, 100000]\n",
    "\n",
    "D_mn_1 = np.zeros(3)\n",
    "Res_mn_1 = np.zeros(3)\n",
    "Crit_mn_1 = np.zeros(3)\n",
    "\n",
    "D_mn_1[0], Crit_mn_1[0] = task_4(X_1000, get_X_2(X_1000, LAMBDA))\n",
    "D_mn_1[1], Crit_mn_1[1] = task_4(X_10000, get_X_2(X_10000, LAMBDA))\n",
    "D_mn_1[2], Crit_mn_1[2] = task_4(X_100000, get_X_2(X_100000, LAMBDA))\n",
    "\n",
    "\n",
    "Res_mn_1  = [\"H0\" if D_mn_1[i] < Crit_mn_1[i] else \"False\" for i in range(3)]\n",
    "\n",
    "data_4_1 = {\"Завдання 4\":[\"\",\"\",\"\"],\"lambda: 1\":D_mn_1,\"Crit\": Crit_mn_1,\"RES\":Res_mn_1}\n",
    "df_4_1 = pd.DataFrame.from_dict(data_4_1, orient='index', columns=N)\n",
    "df_4_1"
   ],
   "execution_count":null,
   "outputs":[
    {
     "data":{
      "text\/html":[
       "<div>\n",
       "<style scoped>\n",
       "    .dataframe tbody tr th:only-of-type {\n",
       "        vertical-align: middle;\n",
       "    }\n",
       "\n",
       "    .dataframe tbody tr th {\n",
       "        vertical-align: top;\n",
       "    }\n",
       "\n",
       "    .dataframe thead th {\n",
       "        text-align: right;\n",
       "    }\n",
       "<\/style>\n",
       "<table border=\"1\" class=\"dataframe\">\n",
       "  <thead>\n",
       "    <tr style=\"text-align: right;\">\n",
       "      <th><\/th>\n",
       "      <th>1000<\/th>\n",
       "      <th>10000<\/th>\n",
       "      <th>100000<\/th>\n",
       "    <\/tr>\n",
       "  <\/thead>\n",
       "  <tbody>\n",
       "    <tr>\n",
       "      <th>Завдання 4<\/th>\n",
       "      <td><\/td>\n",
       "      <td><\/td>\n",
       "      <td><\/td>\n",
       "    <\/tr>\n",
       "    <tr>\n",
       "      <th>lambda: 1<\/th>\n",
       "      <td>0.033<\/td>\n",
       "      <td>0.0155<\/td>\n",
       "      <td>0.00513<\/td>\n",
       "    <\/tr>\n",
       "    <tr>\n",
       "      <th>Crit<\/th>\n",
       "      <td>0.07449<\/td>\n",
       "      <td>0.023556<\/td>\n",
       "      <td>0.007449<\/td>\n",
       "    <\/tr>\n",
       "    <tr>\n",
       "      <th>RES<\/th>\n",
       "      <td>H0<\/td>\n",
       "      <td>H0<\/td>\n",
       "      <td>H0<\/td>\n",
       "    <\/tr>\n",
       "  <\/tbody>\n",
       "<\/table>\n",
       "<\/div>"
      ]
     },
     "metadata":{
      
     },
     "output_type":"display_data"
    },
    {
     "data":{
      "text\/plain":[
       "             1000      10000     100000\n",
       "Завдання 4                             \n",
       "lambda: 1     0.033    0.0155   0.00513\n",
       "Crit        0.07449  0.023556  0.007449\n",
       "RES              H0        H0        H0"
      ]
     },
     "metadata":{
      
     },
     "output_type":"display_data"
    }
   ],
   "metadata":{
    "datalore":{
     "node_id":"wc4mq1HZfXRdFr4vWBTB6g",
     "type":"CODE",
     "hide_input_from_viewers":false,
     "hide_output_from_viewers":false,
     "report_properties":{
      
     }
    }
   }
  },
  {
   "cell_type":"markdown",
   "source":[
    "\n",
    "$$ H_0\\ :\\ \\bar{ X^{(1)}} \\sim F(u,1); \\bar{ X^{(2)}} \\sim F(u,1);\\\\ \\text{( Насправді } \\bar{ X^{(1)}} \\sim F(u,1); \\bar{ X^{(2)}} \\sim F(u,1.2)\\ )"
   ],
   "attachments":{
    
   },
   "metadata":{
    "datalore":{
     "node_id":"flwlk330mkvC0qBycN4jus",
     "type":"MD",
     "hide_input_from_viewers":false,
     "hide_output_from_viewers":false,
     "report_properties":{
      
     }
    }
   }
  },
  {
   "cell_type":"code",
   "source":[
    "N = [1000, 10000, 100000]\n",
    "\n",
    "D_mn_2 = np.zeros(3)\n",
    "Res_mn_2 = np.zeros(3)\n",
    "Crit_mn_2 = np.zeros(3)\n",
    "\n",
    "D_mn_2[0], Crit_mn_2[0] = task_4(X_1000, get_X_2(X_1000, LAMBDA_2))\n",
    "D_mn_2[1], Crit_mn_2[1] = task_4(X_10000, get_X_2(X_10000, LAMBDA_2))\n",
    "D_mn_2[2], Crit_mn_2[2] = task_4(X_100000, get_X_2(X_100000, LAMBDA_2))\n",
    "\n",
    "\n",
    "Res_mn_2  = [\"H0\" if D_mn_2[i] < Crit_mn_2[i] else \"False\" for i in range(3)]\n",
    "\n",
    "data_4_2 = {\"Завдання 4\":[\"\",\"\",\"\"],\"lambda: 1.2\":D_mn_2,\"Crit\": Crit_mn_2,\"RES\":Res_mn_2}\n",
    "df_4_2 = pd.DataFrame.from_dict(data_4_2, orient='index', columns=N)\n",
    "df_4_2"
   ],
   "execution_count":null,
   "outputs":[
    {
     "data":{
      "text\/html":[
       "<div>\n",
       "<style scoped>\n",
       "    .dataframe tbody tr th:only-of-type {\n",
       "        vertical-align: middle;\n",
       "    }\n",
       "\n",
       "    .dataframe tbody tr th {\n",
       "        vertical-align: top;\n",
       "    }\n",
       "\n",
       "    .dataframe thead th {\n",
       "        text-align: right;\n",
       "    }\n",
       "<\/style>\n",
       "<table border=\"1\" class=\"dataframe\">\n",
       "  <thead>\n",
       "    <tr style=\"text-align: right;\">\n",
       "      <th><\/th>\n",
       "      <th>1000<\/th>\n",
       "      <th>10000<\/th>\n",
       "      <th>100000<\/th>\n",
       "    <\/tr>\n",
       "  <\/thead>\n",
       "  <tbody>\n",
       "    <tr>\n",
       "      <th>Завдання 4<\/th>\n",
       "      <td><\/td>\n",
       "      <td><\/td>\n",
       "      <td><\/td>\n",
       "    <\/tr>\n",
       "    <tr>\n",
       "      <th>lambda: 1.2<\/th>\n",
       "      <td>0.139<\/td>\n",
       "      <td>0.0756<\/td>\n",
       "      <td>0.06638<\/td>\n",
       "    <\/tr>\n",
       "    <tr>\n",
       "      <th>Crit<\/th>\n",
       "      <td>0.07449<\/td>\n",
       "      <td>0.023556<\/td>\n",
       "      <td>0.007449<\/td>\n",
       "    <\/tr>\n",
       "    <tr>\n",
       "      <th>RES<\/th>\n",
       "      <td>False<\/td>\n",
       "      <td>False<\/td>\n",
       "      <td>False<\/td>\n",
       "    <\/tr>\n",
       "  <\/tbody>\n",
       "<\/table>\n",
       "<\/div>"
      ]
     },
     "metadata":{
      
     },
     "output_type":"display_data"
    },
    {
     "data":{
      "text\/plain":[
       "              1000      10000     100000\n",
       "Завдання 4                              \n",
       "lambda: 1.2    0.139    0.0756   0.06638\n",
       "Crit         0.07449  0.023556  0.007449\n",
       "RES            False     False     False"
      ]
     },
     "metadata":{
      
     },
     "output_type":"display_data"
    }
   ],
   "metadata":{
    "datalore":{
     "node_id":"SsuW3iJUFwA0Ug3OYkjriA",
     "type":"CODE",
     "hide_input_from_viewers":false,
     "hide_output_from_viewers":false,
     "report_properties":{
      
     }
    }
   }
  },
  {
   "cell_type":"markdown",
   "source":[
    "# Результати"
   ],
   "attachments":{
    
   },
   "metadata":{
    "datalore":{
     "node_id":"bDXr9uKzQXnoy5fsDElun3",
     "type":"MD",
     "hide_input_from_viewers":false,
     "hide_output_from_viewers":false,
     "report_properties":{
      
     }
    }
   }
  },
  {
   "cell_type":"code",
   "source":[
    "res = df1.append(df2 .append(df3 .append(df_4_1.append(df_4_2))))"
   ],
   "execution_count":null,
   "outputs":[
    {
     "name":"stderr",
     "text":[
      "\/var\/folders\/7j\/b3ksxlwx4m723nhwzg49vrxh0000gn\/T\/ipykernel_3033\/3424877605.py:1: FutureWarning: The frame.append method is deprecated and will be removed from pandas in a future version. Use pandas.concat instead.\n",
      "  res = df1.append(df2 .append(df3 .append(df_4_1.append(df_4_2))))\n",
      "\/var\/folders\/7j\/b3ksxlwx4m723nhwzg49vrxh0000gn\/T\/ipykernel_3033\/3424877605.py:1: FutureWarning: The frame.append method is deprecated and will be removed from pandas in a future version. Use pandas.concat instead.\n",
      "  res = df1.append(df2 .append(df3 .append(df_4_1.append(df_4_2))))\n",
      "\/var\/folders\/7j\/b3ksxlwx4m723nhwzg49vrxh0000gn\/T\/ipykernel_3033\/3424877605.py:1: FutureWarning: The frame.append method is deprecated and will be removed from pandas in a future version. Use pandas.concat instead.\n",
      "  res = df1.append(df2 .append(df3 .append(df_4_1.append(df_4_2))))\n",
      "\/var\/folders\/7j\/b3ksxlwx4m723nhwzg49vrxh0000gn\/T\/ipykernel_3033\/3424877605.py:1: FutureWarning: The frame.append method is deprecated and will be removed from pandas in a future version. Use pandas.concat instead.\n",
      "  res = df1.append(df2 .append(df3 .append(df_4_1.append(df_4_2))))\n"
     ],
     "output_type":"stream"
    }
   ],
   "metadata":{
    "datalore":{
     "node_id":"F1bBC6CtHPaCwt6GE38EVr",
     "type":"CODE",
     "hide_input_from_viewers":false,
     "hide_output_from_viewers":false,
     "report_properties":{
      
     }
    }
   }
  },
  {
   "cell_type":"code",
   "source":[
    "res.to_excel(\".\/lab2_results.xlsx\")\n",
    "res.to_csv(\".\/lab2_results.csv\")\n",
    "res"
   ],
   "execution_count":null,
   "outputs":[
    {
     "ename":"ModuleNotFoundError",
     "evalue":"ModuleNotFoundError: No module named 'openpyxl'",
     "traceback":[
      "\u001b[0;31m---------------------------------------------------------------------------",
      "Traceback (most recent call last)",
      "ModuleNotFoundError: No module named 'openpyxl'"
     ],
     "output_type":"error"
    }
   ],
   "metadata":{
    "datalore":{
     "node_id":"NVkxojhdhU7EcI6ZEzxfas",
     "type":"CODE",
     "hide_input_from_viewers":false,
     "hide_output_from_viewers":false,
     "report_properties":{
      
     }
    }
   }
  }
 ],
 "metadata":{
  "kernelspec":{
   "display_name":"Python",
   "language":"python",
   "name":"python"
  },
  "datalore":{
   "version":1,
   "computation_mode":"JUPYTER",
   "package_manager":"pip",
   "base_environment":"default",
   "packages":[
    
   ]
  }
 },
 "nbformat":4,
 "nbformat_minor":4
}